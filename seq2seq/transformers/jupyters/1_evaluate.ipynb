{
 "cells": [
  {
   "cell_type": "code",
   "execution_count": 12,
   "outputs": [],
   "source": [
    "import random\n",
    "import time\n",
    "\n",
    "import numpy as np\n",
    "\n",
    "import torch\n",
    "import torch.nn as nn\n",
    "\n",
    "from torchtext import data\n",
    "\n",
    "from seq2seq.transformers import helpers\n",
    "from seq2seq import utils"
   ],
   "metadata": {
    "collapsed": false,
    "pycharm": {
     "name": "#%%\n"
    }
   }
  },
  {
   "cell_type": "code",
   "execution_count": 24,
   "outputs": [],
   "source": [
    "# Build model and initialize\n",
    "DATASET_NAME = \"miguel\"  # multi30k, miguel\n",
    "DATASET_PATH = f\"../.data/{DATASET_NAME}\"\n",
    "ALLOW_DATA_PARALLELISM = False\n",
    "MAX_SRC_LENGTH = 100 + 2  # Doesn't include <sos>, <eos>\n",
    "MAX_TRG_LENGTH = 100 + 2  # Doesn't include <sos>, <eos>\n",
    "MAX_TRG_LENGTH_TEST = int(MAX_TRG_LENGTH * 1.0)  # len>1.0 is not supported by all models\n",
    "BATCH_SIZE = 32\n",
    "CHECKPOINT_PATH = f'checkpoints/31.57_checkpoint_simple_transformer.pt'\n",
    "TS_RATIO = 1.0\n",
    "SOS_WORD = '<sos>'\n",
    "EOS_WORD = '<eos>'\n",
    "EVALUATE = True\n",
    "BLUE = True"
   ],
   "metadata": {
    "collapsed": false,
    "pycharm": {
     "name": "#%%\n"
    }
   }
  },
  {
   "cell_type": "code",
   "execution_count": 14,
   "outputs": [],
   "source": [
    "# Set fields\n",
    "SRC = data.Field(tokenize='spacy', tokenizer_language=\"en\", init_token=SOS_WORD, eos_token=EOS_WORD, lower=True, batch_first=True)\n",
    "TRG = data.Field(tokenize='spacy', tokenizer_language=\"es\", init_token=SOS_WORD, eos_token=EOS_WORD, lower=True, batch_first=True)\n",
    "fields = [('src', SRC), ('trg', TRG)]"
   ],
   "metadata": {
    "collapsed": false,
    "pycharm": {
     "name": "#%%\n"
    }
   }
  },
  {
   "cell_type": "code",
   "execution_count": 15,
   "outputs": [
    {
     "name": "stdout",
     "output_type": "stream",
     "text": [
      "Vocabularies loaded!\n",
      "Unique tokens in source (en) vocabulary: 10000\n",
      "Unique tokens in target (es) vocabulary: 10000\n"
     ]
    }
   ],
   "source": [
    "# Load vocabulary\n",
    "src_vocab = utils.load_vocabulary(f'{DATASET_PATH}/tokenized/src_vocab.pkl')\n",
    "trg_vocab = utils.load_vocabulary(f'{DATASET_PATH}/tokenized/trg_vocab.pkl')\n",
    "print(\"Vocabularies loaded!\")\n",
    "\n",
    "# Add vocabularies to fields\n",
    "SRC.vocab = src_vocab\n",
    "TRG.vocab = trg_vocab\n",
    "\n",
    "print(f\"Unique tokens in source (en) vocabulary: {len(SRC.vocab)}\")\n",
    "print(f\"Unique tokens in target (es) vocabulary: {len(TRG.vocab)}\")"
   ],
   "metadata": {
    "collapsed": false,
    "pycharm": {
     "name": "#%%\n"
    }
   }
  },
  {
   "cell_type": "code",
   "execution_count": 16,
   "outputs": [
    {
     "name": "stderr",
     "output_type": "stream",
     "text": [
      "100%|██████████| 3001/3001 [00:00<00:00, 33657.07it/s]\n"
     ]
    },
    {
     "name": "stdout",
     "output_type": "stream",
     "text": [
      "Load dataset: [Total time= 0.09099745750427246; Num. examples=3001]\n",
      "Number of testing examples: 3001\n"
     ]
    }
   ],
   "source": [
    "# Load examples\n",
    "test_data = utils.load_dataset(f\"{DATASET_PATH}/tokenized/test.json\", fields, TS_RATIO)\n",
    "print(f\"Number of testing examples: {len(test_data.examples)}\")"
   ],
   "metadata": {
    "collapsed": false,
    "pycharm": {
     "name": "#%%\n"
    }
   }
  },
  {
   "cell_type": "code",
   "execution_count": 17,
   "outputs": [
    {
     "name": "stdout",
     "output_type": "stream",
     "text": [
      "- Using GPU: True\n",
      "- No. devices: 1\n",
      "- Device name (0): GeForce GTX 1070\n"
     ]
    }
   ],
   "source": [
    "# Set device\n",
    "device = torch.device('cuda' if torch.cuda.is_available() else 'cpu')\n",
    "print(utils.gpu_info())\n",
    "\n",
    "# Set iterator (this is where words are replaced by indices, and <sos>/<eos> tokens are appended\n",
    "test_iter = data.BucketIterator(test_data, batch_size=BATCH_SIZE, device=device, sort=False)"
   ],
   "metadata": {
    "collapsed": false,
    "pycharm": {
     "name": "#%%\n"
    }
   }
  },
  {
   "cell_type": "code",
   "execution_count": 18,
   "outputs": [
    {
     "name": "stdout",
     "output_type": "stream",
     "text": [
      "The model has 11,695,888 trainable parameters\n",
      "Data parallelism: False\n"
     ]
    }
   ],
   "source": [
    "from seq2seq.models import s2s_6_transfomer as builder\n",
    "model = builder.make_model(src_field=SRC, trg_field=TRG,\n",
    "                           max_src_len=MAX_SRC_LENGTH, max_trg_len=MAX_TRG_LENGTH, device=device,\n",
    "                           data_parallelism=ALLOW_DATA_PARALLELISM)"
   ],
   "metadata": {
    "collapsed": false,
    "pycharm": {
     "name": "#%%\n"
    }
   }
  },
  {
   "cell_type": "code",
   "execution_count": 19,
   "outputs": [],
   "source": [
    "# Set loss (ignore when the target token is <pad>)\n",
    "TRG_PAD_IDX = TRG.vocab.stoi[TRG.pad_token]\n",
    "criterion = nn.CrossEntropyLoss(ignore_index=TRG_PAD_IDX)"
   ],
   "metadata": {
    "collapsed": false,
    "pycharm": {
     "name": "#%%\n"
    }
   }
  },
  {
   "cell_type": "code",
   "execution_count": 20,
   "outputs": [
    {
     "name": "stdout",
     "output_type": "stream",
     "text": [
      "Model loaded!\n"
     ]
    }
   ],
   "source": [
    "# Load best model\n",
    "model.load_state_dict(torch.load(CHECKPOINT_PATH))\n",
    "print(\"Model loaded!\")"
   ],
   "metadata": {
    "collapsed": false,
    "pycharm": {
     "name": "#%%\n"
    }
   }
  },
  {
   "cell_type": "code",
   "execution_count": 21,
   "outputs": [
    {
     "name": "stderr",
     "output_type": "stream",
     "text": [
      "  0%|          | 0/94 [00:00<?, ?it/s]/home/salvacarrion/.local/lib/python3.8/site-packages/torchtext/data/batch.py:23: UserWarning: Batch class will be retired in the 0.8.0 release and moved to torchtext.legacy. Please see 0.7.0 release notes for further information.\n",
      "  warnings.warn('{} class will be retired in the 0.8.0 release and moved to torchtext.legacy. Please see 0.7.0 release notes for further information.'.format(self.__class__.__name__), UserWarning)\n",
      "100%|██████████| 94/94 [00:01<00:00, 54.18it/s]\n"
     ]
    },
    {
     "name": "stdout",
     "output_type": "stream",
     "text": [
      "Epoch: 00 | Time: 0m 1s\n",
      "\t Test Loss: 1.884 |  Test PPL:   6.581\n"
     ]
    }
   ],
   "source": [
    "# Evaluate best model\n",
    "\n",
    "start = time.time()\n",
    "test_loss = helpers.evaluate(model, test_iter, criterion)\n",
    "helpers.summary_report(test_loss=test_loss, start_time=start, testing=True)"
   ],
   "metadata": {
    "collapsed": false,
    "pycharm": {
     "name": "#%%\n"
    }
   }
  },
  {
   "cell_type": "code",
   "execution_count": 22,
   "outputs": [
    {
     "name": "stderr",
     "output_type": "stream",
     "text": [
      "100%|██████████| 3001/3001 [04:27<00:00, 11.22it/s]\n"
     ]
    },
    {
     "name": "stdout",
     "output_type": "stream",
     "text": [
      "BLEU score = 31.57 | Time: 4m 31s\n"
     ]
    }
   ],
   "source": [
    "# Calculate BLEU score\n",
    "\n",
    "start = time.time()\n",
    "bleu_score = utils.calculate_bleu(model, test_iter, max_trg_len=MAX_TRG_LENGTH_TEST)\n",
    "\n",
    "end_time = time.time()\n",
    "epoch_mins, epoch_secs = utils.epoch_time(start, end_time)\n",
    "print(f'BLEU score = {bleu_score * 100:.2f} | Time: {epoch_mins}m {epoch_secs}s')\n"
   ],
   "metadata": {
    "collapsed": false,
    "pycharm": {
     "name": "#%%\n"
    }
   }
  }
 ],
 "metadata": {
  "kernelspec": {
   "display_name": "Python 3",
   "language": "python",
   "name": "python3"
  },
  "language_info": {
   "codemirror_mode": {
    "name": "ipython",
    "version": 3
   },
   "file_extension": ".py",
   "mimetype": "text/x-python",
   "name": "python",
   "nbconvert_exporter": "python",
   "pygments_lexer": "ipython3",
   "version": "3.7.4"
  }
 },
 "nbformat": 4,
 "nbformat_minor": 1
}