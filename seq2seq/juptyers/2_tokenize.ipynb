{
 "cells": [
  {
   "cell_type": "code",
   "execution_count": 2,
   "metadata": {
    "pycharm": {
     "name": "#%%\n"
    },
    "slideshow": {
     "slide_type": "slide"
    }
   },
   "outputs": [],
   "source": [
    "import sys\n",
    "sys.path.append(\"..\")\n",
    "\n",
    "import torch\n",
    "import torch.nn as nn\n",
    "import torch.optim as optim\n",
    "\n",
    "from torchtext import data, datasets\n",
    "import pandas as pd\n",
    "from tqdm import tqdm\n",
    "\n",
    "import spacy\n",
    "import numpy as np\n",
    "\n",
    "import random\n",
    "import math\n",
    "import time\n",
    "\n",
    "from seq2seq import utils, helpers\n",
    "import re\n",
    "import os\n",
    "import pickle\n",
    "\n",
    "# Import the libraries\n",
    "import matplotlib.pyplot as plt\n",
    "import seaborn as sns"
   ]
  },
  {
   "cell_type": "markdown",
   "metadata": {
    "pycharm": {
     "name": "#%% md\n"
    }
   },
   "source": [
    "**Set constants**"
   ]
  },
  {
   "cell_type": "code",
   "execution_count": 3,
   "metadata": {
    "pycharm": {
     "name": "#%%\n"
    }
   },
   "outputs": [],
   "source": [
    "DATASET_PATH = f\"../.data/miguel\"\n",
    "SRC_LANG = \"en\"\n",
    "TRG_LANG = \"es\"\n",
    "SOS_WORD = '<sos>'\n",
    "EOS_WORD = '<eos>'"
   ]
  },
  {
   "cell_type": "markdown",
   "metadata": {},
   "source": [
    "## Load dataset\n",
    "\n",
    "To speed things up, I prefer to use torchtext directly in order to read the CSV files, preprocess\n",
    "them and tokenize each pair.\n",
    "\n",
    "I'm gonna use the tokenizer from Spacy, which is a Natural Language Processing library that is blazingly fast, suitable\n",
    "for large datasets, with support for many language and hundreds of features.\n",
    "\n",
    "This step can take a while but since I plan to save our tokenized datasets, it  won't be a problem.\n",
    "\n",
    "Also note that I'm converting everything to lowercase, and adding the `<sos>` and `<eos>` tokens to our pairs.\n"
   ]
  },
  {
   "cell_type": "code",
   "execution_count": 4,
   "metadata": {
    "pycharm": {
     "name": "#%%\n"
    }
   },
   "outputs": [
    {
     "name": "stderr",
     "output_type": "stream",
     "text": [
      "/home/salvacarrion/.local/lib/python3.8/site-packages/torchtext/data/field.py:150: UserWarning: Field class will be retired in the 0.8.0 release and moved to torchtext.legacy. Please see 0.7.0 release notes for further information.\n",
      "  warnings.warn('{} class will be retired in the 0.8.0 release and moved to torchtext.legacy. Please see 0.7.0 release notes for further information.'.format(self.__class__.__name__), UserWarning)\n"
     ]
    }
   ],
   "source": [
    "SRC = data.Field(tokenize='spacy', tokenizer_language=SRC_LANG, init_token=SOS_WORD, eos_token=EOS_WORD, lower=True)\n",
    "TRG = data.Field(tokenize='spacy', tokenizer_language=TRG_LANG, init_token=SOS_WORD, eos_token=EOS_WORD, lower=True)"
   ]
  },
  {
   "cell_type": "code",
   "execution_count": 5,
   "metadata": {
    "pycharm": {
     "name": "#%%\n"
    }
   },
   "outputs": [
    {
     "name": "stderr",
     "output_type": "stream",
     "text": [
      "/home/salvacarrion/.local/lib/python3.8/site-packages/torchtext/data/example.py:68: UserWarning: Example class will be retired in the 0.8.0 release and moved to torchtext.legacy. Please see 0.7.0 release notes for further information.\n",
      "  warnings.warn('Example class will be retired in the 0.8.0 release and moved to torchtext.legacy. Please see 0.7.0 release notes for further information.', UserWarning)\n",
      "/home/salvacarrion/.local/lib/python3.8/site-packages/torchtext/data/example.py:78: UserWarning: Example class will be retired in the 0.8.0 release and moved to torchtext.legacy. Please see 0.7.0 release notes for further information.\n",
      "  warnings.warn('Example class will be retired in the 0.8.0 release and moved to torchtext.legacy. Please see 0.7.0 release notes for further information.', UserWarning)\n"
     ]
    }
   ],
   "source": [
    "data_fields = [('src', SRC), ('trg', TRG)]\n",
    "train_data, dev_data, test_data = data.TabularDataset.splits(path=f'{DATASET_PATH}/preprocessed/',\n",
    "                                                             train='test.csv', validation='dev.csv', test='test.csv',\n",
    "                                                             format='csv', fields=data_fields, skip_header=True)"
   ]
  },
  {
   "cell_type": "markdown",
   "metadata": {
    "pycharm": {
     "name": "#%% md\n"
    }
   },
   "source": [
    "## Dataset exploration\n",
    "\n",
    "On the first part of the exploration we perform some sanity checks to make sure that our preprocessed dataset are valid."
   ]
  },
  {
   "cell_type": "markdown",
   "metadata": {},
   "source": [
    "Print the number of pairs for each partition: train, dev and test."
   ]
  },
  {
   "cell_type": "code",
   "execution_count": 6,
   "metadata": {
    "pycharm": {
     "name": "#%%\n"
    }
   },
   "outputs": [
    {
     "name": "stdout",
     "output_type": "stream",
     "text": [
      "Total pairs:\n",
      "\t- Train: 3003\n",
      "\t- Dev: 3003\n",
      "\t- Test: 3003\n"
     ]
    }
   ],
   "source": [
    "print(\"Total pairs:\")\n",
    "print(f\"\\t- Train: {len(train_data.examples)}\")\n",
    "print(f\"\\t- Dev: {len(dev_data.examples)}\")\n",
    "print(f\"\\t- Test: {len(test_data.examples)}\")"
   ]
  },
  {
   "cell_type": "markdown",
   "metadata": {},
   "source": [
    "### Viewing tokens\n",
    "\n",
    "Now, we can the print the tokenized pairs to see what are we really doing. I usually like to print the first and last\n",
    "`n` pairs (and a few random ones).\n",
    "\n",
    "\n",
    "----\n",
    "**Old:**\n",
    "*Below we see a few things. First, the tokenization looks good. Nevertheless, we see that there are still a few\n",
    "things that can be annoying such as `\\xa0` or `\"`. Maybe I should normalize the strings to avoid those problems.*"
   ]
  },
  {
   "cell_type": "code",
   "execution_count": 7,
   "metadata": {},
   "outputs": [],
   "source": [
    "def view_pairs(pairs, indices):\n",
    "    for i, idx in enumerate(indices):\n",
    "        (src, trg) = pairs[idx].src, pairs[idx].trg\n",
    "        print(f\"#{i+1}: \" + \"-\"*20)\n",
    "        print(f\"src => {src}\")\n",
    "        print(f\"trg => {trg}\")\n",
    "    print(\"\")"
   ]
  },
  {
   "cell_type": "code",
   "execution_count": 8,
   "metadata": {
    "pycharm": {
     "name": "#%%\n"
    }
   },
   "outputs": [
    {
     "name": "stdout",
     "output_type": "stream",
     "text": [
      "Head: ####################\n",
      "(Firsts) Train dataset: ********************\n",
      "#1: --------------------\n",
      "src => ['parliament', 'does', 'not', 'support', 'amendment', 'freeing', 'tymoshenko']\n",
      "trg => ['el', 'parlamento', 'no', 'apoyó', 'una', 'enmienda', 'para', 'liberar', 'a', 'tymoshenko']\n",
      "#2: --------------------\n",
      "src => ['today', ',', 'the', 'ukraine', 'parliament', 'dismissed', ',', 'within', 'the', 'code', 'of', 'criminal', 'procedure', 'amendment', ',', 'the', 'motion', 'to', 'revoke', 'an', 'article', 'based', 'on', 'which', 'the', 'opposition', 'leader', ',', 'yulia', 'tymoshenko', ',', 'was', 'sentenced', '.']\n",
      "trg => ['el', 'parlamento', 'de', 'ucrania', '\\xa0', 'ha', 'rechazado', 'hoy', '\\xa0', 'la', '\\xa0', 'propuesta', 'de', 'derogar', 'la', 'enmienda', 'de', 'la', '\\xa0', 'sección', 'del', 'código', '\\xa0', 'penal', '\\xa0', 'en', 'la', 'que', 'se', '\\xa0', 'condena', 'a', 'la', '\\xa0', 'líder', 'de', 'la', 'oposición', '\\xa0', 'yulia', '\\xa0', 'tymoshenko', '.']\n",
      "#3: --------------------\n",
      "src => ['the', 'amendment', 'that', 'would', 'lead', 'to', 'freeing', 'the', 'imprisoned', 'former', 'prime', 'minister', 'was', 'revoked', 'during', 'second', 'reading', 'of', 'the', 'proposal', 'for', 'mitigation', 'of', 'sentences', 'for', 'economic', 'offences', '.']\n",
      "trg => ['la', 'modificación', 'abriría', 'las', 'puertas', 'a', 'la', 'excarcelación', 'de', 'la', 'exprimer', 'ministra', ',', 'pero', 'los', 'parlamentarios', 'rechazaron', 'la', 'propuesta', 'de', 'reducir', 'las', 'penas', 'por', 'delitos', 'económicos', 'en', 'la', 'segunda', 'lectura', '.']\n",
      "#4: --------------------\n",
      "src => ['in', 'october', ',', 'tymoshenko', 'was', 'sentenced', 'to', 'seven', 'years', 'in', 'prison', 'for', 'entering', 'into', 'what', 'was', 'reported', 'to', 'be', 'a', 'disadvantageous', 'gas', 'deal', 'with', 'russia', '.']\n",
      "trg => ['en', 'octubre', ',', 'tymoshenko', 'fue', 'sentenciada', 'a', 'siete', 'años', 'de', 'prisión', 'por', 'la', 'presunta', 'firma', 'de', 'un', 'acuerdo', 'con', 'rusia', 'desventajoso', 'para', 'ucrania', 'sobre', 'compra', 'de', 'gas', 'natural', '.']\n",
      "#5: --------------------\n",
      "src => ['the', 'verdict', 'is', 'not', 'yet', 'final', ';', 'the', 'court', 'will', 'hear', 'tymoshenko', \"'s\", 'appeal', 'in', 'december', '.']\n",
      "trg => ['la', 'sentencia', 'aún', 'no', 'es', 'firme', ',', 'el', 'tribunal', 'de', 'apelación', 'tiene', 'la', 'obligación', 'de', 'revisarla', 'en', 'diciembre', '.']\n",
      "#6: --------------------\n",
      "src => ['tymoshenko', 'claims', 'the', 'verdict', 'is', 'a', 'political', 'revenge', 'of', 'the', 'regime', ';', 'in', 'the', 'west', ',', 'the', 'trial', 'has', 'also', 'evoked', 'suspicion', 'of', 'being', 'biased', '.']\n",
      "trg => ['tymoshenko', 'se', 'mostró', 'convencida', 'de', 'que', 'se', 'trataba', 'de', 'una', 'venganza', 'política', 'del', 'régimen', ',', 'e', 'incluso', 'en', 'occidente', 'han', 'surgido', 'dudas', 'sobre', 'la', 'imparcialidad', 'del', 'tribunal', '.']\n",
      "#7: --------------------\n",
      "src => ['the', 'proposal', 'to', 'remove', 'article', '365', 'from', 'the', 'code', 'of', 'criminal', 'procedure', ',', 'upon', 'which', 'the', 'former', 'prime', 'minister', 'was', 'sentenced', ',', 'was', 'supported', 'by', '147', 'members', 'of', 'parliament', '.']\n",
      "trg => ['la', 'propuesta', 'de', 'que', 'se', 'retirase', 'el', 'párrafo', '365', 'del', 'código', 'penal', 'con', 'el', 'que', 'se', 'condenó', 'a', 'la', 'ex', 'primer', 'ministra', 'fue', 'apoyada', 'por', '147', 'diputados', 'en', 'la', 'votación', '.']\n",
      "#8: --------------------\n",
      "src => ['its', 'ratification', 'would', 'require', '226', 'votes', '.']\n",
      "trg => ['para', 'su', 'aprobación', 'se', 'requerían', '226', 'votos', '.']\n",
      "#9: --------------------\n",
      "src => ['libya', \"'s\", 'victory']\n",
      "trg => ['la', 'victoria', 'de', 'libia']\n",
      "#10: --------------------\n",
      "src => ['the', 'story', 'of', 'libya', \"'s\", 'liberation', ',', 'or', 'rebellion', ',', 'already', 'has', 'its', 'defeated', '.']\n",
      "trg => ['la', 'historia', 'de', 'la', 'liberación', 'libia', ',', 'o', 'de', 'la', 'rebelión', 'libia', ',', 'ya', 'tiene', 'sus', 'perdedores', '.']\n",
      "\n",
      "(Firsts) Dev dataset: ********************\n",
      "#1: --------------------\n",
      "src => ['parliament', 'does', 'not', 'support', 'amendment', 'freeing', 'tymoshenko']\n",
      "trg => ['el', 'parlamento', 'no', 'apoyó', 'una', 'enmienda', 'para', 'liberar', 'a', 'tymoshenko']\n",
      "#2: --------------------\n",
      "src => ['today', ',', 'the', 'ukraine', 'parliament', 'dismissed', ',', 'within', 'the', 'code', 'of', 'criminal', 'procedure', 'amendment', ',', 'the', 'motion', 'to', 'revoke', 'an', 'article', 'based', 'on', 'which', 'the', 'opposition', 'leader', ',', 'yulia', 'tymoshenko', ',', 'was', 'sentenced', '.']\n",
      "trg => ['el', 'parlamento', 'de', 'ucrania', '\\xa0', 'ha', 'rechazado', 'hoy', '\\xa0', 'la', '\\xa0', 'propuesta', 'de', 'derogar', 'la', 'enmienda', 'de', 'la', '\\xa0', 'sección', 'del', 'código', '\\xa0', 'penal', '\\xa0', 'en', 'la', 'que', 'se', '\\xa0', 'condena', 'a', 'la', '\\xa0', 'líder', 'de', 'la', 'oposición', '\\xa0', 'yulia', '\\xa0', 'tymoshenko', '.']\n",
      "#3: --------------------\n",
      "src => ['the', 'amendment', 'that', 'would', 'lead', 'to', 'freeing', 'the', 'imprisoned', 'former', 'prime', 'minister', 'was', 'revoked', 'during', 'second', 'reading', 'of', 'the', 'proposal', 'for', 'mitigation', 'of', 'sentences', 'for', 'economic', 'offences', '.']\n",
      "trg => ['la', 'modificación', 'abriría', 'las', 'puertas', 'a', 'la', 'excarcelación', 'de', 'la', 'exprimer', 'ministra', ',', 'pero', 'los', 'parlamentarios', 'rechazaron', 'la', 'propuesta', 'de', 'reducir', 'las', 'penas', 'por', 'delitos', 'económicos', 'en', 'la', 'segunda', 'lectura', '.']\n",
      "#4: --------------------\n",
      "src => ['in', 'october', ',', 'tymoshenko', 'was', 'sentenced', 'to', 'seven', 'years', 'in', 'prison', 'for', 'entering', 'into', 'what', 'was', 'reported', 'to', 'be', 'a', 'disadvantageous', 'gas', 'deal', 'with', 'russia', '.']\n",
      "trg => ['en', 'octubre', ',', 'tymoshenko', 'fue', 'sentenciada', 'a', 'siete', 'años', 'de', 'prisión', 'por', 'la', 'presunta', 'firma', 'de', 'un', 'acuerdo', 'con', 'rusia', 'desventajoso', 'para', 'ucrania', 'sobre', 'compra', 'de', 'gas', 'natural', '.']\n",
      "#5: --------------------\n",
      "src => ['the', 'verdict', 'is', 'not', 'yet', 'final', ';', 'the', 'court', 'will', 'hear', 'tymoshenko', \"'s\", 'appeal', 'in', 'december', '.']\n",
      "trg => ['la', 'sentencia', 'aún', 'no', 'es', 'firme', ',', 'el', 'tribunal', 'de', 'apelación', 'tiene', 'la', 'obligación', 'de', 'revisarla', 'en', 'diciembre', '.']\n",
      "#6: --------------------\n",
      "src => ['tymoshenko', 'claims', 'the', 'verdict', 'is', 'a', 'political', 'revenge', 'of', 'the', 'regime', ';', 'in', 'the', 'west', ',', 'the', 'trial', 'has', 'also', 'evoked', 'suspicion', 'of', 'being', 'biased', '.']\n",
      "trg => ['tymoshenko', 'se', 'mostró', 'convencida', 'de', 'que', 'se', 'trataba', 'de', 'una', 'venganza', 'política', 'del', 'régimen', ',', 'e', 'incluso', 'en', 'occidente', 'han', 'surgido', 'dudas', 'sobre', 'la', 'imparcialidad', 'del', 'tribunal', '.']\n",
      "#7: --------------------\n",
      "src => ['the', 'proposal', 'to', 'remove', 'article', '365', 'from', 'the', 'code', 'of', 'criminal', 'procedure', ',', 'upon', 'which', 'the', 'former', 'prime', 'minister', 'was', 'sentenced', ',', 'was', 'supported', 'by', '147', 'members', 'of', 'parliament', '.']\n",
      "trg => ['la', 'propuesta', 'de', 'que', 'se', 'retirase', 'el', 'párrafo', '365', 'del', 'código', 'penal', 'con', 'el', 'que', 'se', 'condenó', 'a', 'la', 'ex', 'primer', 'ministra', 'fue', 'apoyada', 'por', '147', 'diputados', 'en', 'la', 'votación', '.']\n",
      "#8: --------------------\n",
      "src => ['its', 'ratification', 'would', 'require', '226', 'votes', '.']\n",
      "trg => ['para', 'su', 'aprobación', 'se', 'requerían', '226', 'votos', '.']\n",
      "#9: --------------------\n",
      "src => ['libya', \"'s\", 'victory']\n",
      "trg => ['la', 'victoria', 'de', 'libia']\n",
      "#10: --------------------\n",
      "src => ['the', 'story', 'of', 'libya', \"'s\", 'liberation', ',', 'or', 'rebellion', ',', 'already', 'has', 'its', 'defeated', '.']\n",
      "trg => ['la', 'historia', 'de', 'la', 'liberación', 'libia', ',', 'o', 'de', 'la', 'rebelión', 'libia', ',', 'ya', 'tiene', 'sus', 'perdedores', '.']\n",
      "\n",
      "(Firsts) Test dataset: ********************\n",
      "#1: --------------------\n",
      "src => ['parliament', 'does', 'not', 'support', 'amendment', 'freeing', 'tymoshenko']\n",
      "trg => ['el', 'parlamento', 'no', 'apoyó', 'una', 'enmienda', 'para', 'liberar', 'a', 'tymoshenko']\n",
      "#2: --------------------\n",
      "src => ['today', ',', 'the', 'ukraine', 'parliament', 'dismissed', ',', 'within', 'the', 'code', 'of', 'criminal', 'procedure', 'amendment', ',', 'the', 'motion', 'to', 'revoke', 'an', 'article', 'based', 'on', 'which', 'the', 'opposition', 'leader', ',', 'yulia', 'tymoshenko', ',', 'was', 'sentenced', '.']\n",
      "trg => ['el', 'parlamento', 'de', 'ucrania', '\\xa0', 'ha', 'rechazado', 'hoy', '\\xa0', 'la', '\\xa0', 'propuesta', 'de', 'derogar', 'la', 'enmienda', 'de', 'la', '\\xa0', 'sección', 'del', 'código', '\\xa0', 'penal', '\\xa0', 'en', 'la', 'que', 'se', '\\xa0', 'condena', 'a', 'la', '\\xa0', 'líder', 'de', 'la', 'oposición', '\\xa0', 'yulia', '\\xa0', 'tymoshenko', '.']\n",
      "#3: --------------------\n",
      "src => ['the', 'amendment', 'that', 'would', 'lead', 'to', 'freeing', 'the', 'imprisoned', 'former', 'prime', 'minister', 'was', 'revoked', 'during', 'second', 'reading', 'of', 'the', 'proposal', 'for', 'mitigation', 'of', 'sentences', 'for', 'economic', 'offences', '.']\n",
      "trg => ['la', 'modificación', 'abriría', 'las', 'puertas', 'a', 'la', 'excarcelación', 'de', 'la', 'exprimer', 'ministra', ',', 'pero', 'los', 'parlamentarios', 'rechazaron', 'la', 'propuesta', 'de', 'reducir', 'las', 'penas', 'por', 'delitos', 'económicos', 'en', 'la', 'segunda', 'lectura', '.']\n",
      "#4: --------------------\n",
      "src => ['in', 'october', ',', 'tymoshenko', 'was', 'sentenced', 'to', 'seven', 'years', 'in', 'prison', 'for', 'entering', 'into', 'what', 'was', 'reported', 'to', 'be', 'a', 'disadvantageous', 'gas', 'deal', 'with', 'russia', '.']\n",
      "trg => ['en', 'octubre', ',', 'tymoshenko', 'fue', 'sentenciada', 'a', 'siete', 'años', 'de', 'prisión', 'por', 'la', 'presunta', 'firma', 'de', 'un', 'acuerdo', 'con', 'rusia', 'desventajoso', 'para', 'ucrania', 'sobre', 'compra', 'de', 'gas', 'natural', '.']\n",
      "#5: --------------------\n",
      "src => ['the', 'verdict', 'is', 'not', 'yet', 'final', ';', 'the', 'court', 'will', 'hear', 'tymoshenko', \"'s\", 'appeal', 'in', 'december', '.']\n",
      "trg => ['la', 'sentencia', 'aún', 'no', 'es', 'firme', ',', 'el', 'tribunal', 'de', 'apelación', 'tiene', 'la', 'obligación', 'de', 'revisarla', 'en', 'diciembre', '.']\n",
      "#6: --------------------\n",
      "src => ['tymoshenko', 'claims', 'the', 'verdict', 'is', 'a', 'political', 'revenge', 'of', 'the', 'regime', ';', 'in', 'the', 'west', ',', 'the', 'trial', 'has', 'also', 'evoked', 'suspicion', 'of', 'being', 'biased', '.']\n",
      "trg => ['tymoshenko', 'se', 'mostró', 'convencida', 'de', 'que', 'se', 'trataba', 'de', 'una', 'venganza', 'política', 'del', 'régimen', ',', 'e', 'incluso', 'en', 'occidente', 'han', 'surgido', 'dudas', 'sobre', 'la', 'imparcialidad', 'del', 'tribunal', '.']\n",
      "#7: --------------------\n",
      "src => ['the', 'proposal', 'to', 'remove', 'article', '365', 'from', 'the', 'code', 'of', 'criminal', 'procedure', ',', 'upon', 'which', 'the', 'former', 'prime', 'minister', 'was', 'sentenced', ',', 'was', 'supported', 'by', '147', 'members', 'of', 'parliament', '.']\n",
      "trg => ['la', 'propuesta', 'de', 'que', 'se', 'retirase', 'el', 'párrafo', '365', 'del', 'código', 'penal', 'con', 'el', 'que', 'se', 'condenó', 'a', 'la', 'ex', 'primer', 'ministra', 'fue', 'apoyada', 'por', '147', 'diputados', 'en', 'la', 'votación', '.']\n",
      "#8: --------------------\n",
      "src => ['its', 'ratification', 'would', 'require', '226', 'votes', '.']\n",
      "trg => ['para', 'su', 'aprobación', 'se', 'requerían', '226', 'votos', '.']\n",
      "#9: --------------------\n",
      "src => ['libya', \"'s\", 'victory']\n",
      "trg => ['la', 'victoria', 'de', 'libia']\n",
      "#10: --------------------\n",
      "src => ['the', 'story', 'of', 'libya', \"'s\", 'liberation', ',', 'or', 'rebellion', ',', 'already', 'has', 'its', 'defeated', '.']\n",
      "trg => ['la', 'historia', 'de', 'la', 'liberación', 'libia', ',', 'o', 'de', 'la', 'rebelión', 'libia', ',', 'ya', 'tiene', 'sus', 'perdedores', '.']\n",
      "\n",
      "Tail: ####################\n",
      "(Lasts) Train dataset: ********************\n",
      "#1: --------------------\n",
      "src => ['a', 'good', 'idea', ',', 'provided', 'that', 'it', 'will', ',', 'prove', 'realistic', 'this', 'time', '.']\n",
      "trg => ['una', 'buena', 'idea', ',', 'siempre', 'que', ',', 'esta', 'vez', ',', 'sea', 'realista', '.']\n",
      "#2: --------------------\n",
      "src => ['as', 'already', 'in', 'zenica', ',', 'the', 'portuguese', 'would', 'plan', 'to', 'exert', 'maximal', 'pressure', 'on', 'the', 'bosnians', 'from', 'the', 'start', ',', 'to', '\"', 'give', 'them', 'no', 'time', 'to', 'think', '.', '\"']\n",
      "trg => ['al', 'igual', 'que', 'en', 'zenica', ',', 'los', 'portugueses', 'irán', 'con', 'la', 'intención', 'de', 'ejercer', ',', 'desde', 'el', 'principio', ',', 'una', 'presión', 'máxima', 'sobre', 'los', 'bosnios', 'para', '\"', 'no', 'dejarles', 'tiempo', 'a', 'pensar', '\"', '.']\n",
      "#3: --------------------\n",
      "src => ['\"', 'we', 'are', 'going', 'to', 'play', 'a', 'team', 'which', 'has', 'many', 'technical', 'qualities', 'and', 'which', 'has', 'players', 'possessing', 'many', 'individual', 'qualities', ',', '\"', 'he', 'added', '.']\n",
      "trg => ['\"', 'vamos', 'a', 'jugar', 'contra', 'un', 'equipo', 'que', 'posee', 'una', 'gran', 'calidad', 'técnica', 'y', 'que', 'dispone', 'de', 'jugadores', 'con', 'una', 'gran', 'calidad', 'individual', '\"', ',', 'añadió', '.']\n",
      "#4: --------------------\n",
      "src => ['\"', 'it', 'is', 'a', 'good', 'result', ',', 'which', 'nevertheless', 'carries', 'some', 'risk', ',', 'regrets', 'bento', '.']\n",
      "trg => ['\"', 'es', 'un', 'buen', 'resultado', ',', 'pero', 'a', 'la', 'vez', 'conlleva', 'un', 'riesgo', ',', 'puesto', 'que', 'no', 'hemos', 'marcado', 'fuera', 'de', 'casa', '\"', ',', 'lamenta', 'bento', '.']\n",
      "#5: --------------------\n",
      "src => ['a', 'zero', 'may', 'be', 'sufficient', 'for', 'the', 'bosnians', '.']\n",
      "trg => ['a', 'los', 'bosnios', 'les', 'podría', 'llegar', 'un', 'empate', ',', 'aunque', 'también', 'tienen', 'necesidad', 'de', 'marcar', '.']\n",
      "#6: --------------------\n",
      "src => ['the', 'zero', 'taken', 'on', 'friday', 'from', 'bosnia', 'obliges', 'the', 'portuguese', 'to', 'win', '.']\n",
      "trg => ['el', 'empate', 'del', 'viernes', 'en', 'bosnia', 'obliga', 'a', 'los', 'portugueses', 'a', 'marcar', 'y', 'a', 'ganar', '.']\n",
      "#7: --------------------\n",
      "src => ['\"', 'we', 'continue', 'to', 'have', 'a', '50', '%', 'chance', 'of', 'being', 'at', 'euro', '2012', ',', '\"', 'even', 'under', 'the', 'successor', 'of', 'carlos', 'queiroz', '.']\n",
      "trg => ['\"', 'seguimos', 'teniendo', 'un', '50%', 'de', 'posibilidades', 'de', 'participar', 'en', 'la', 'eurocopa', '2012', '\"', ',', 'ha', ',', 'no', 'obstante', ',', 'relativizado', 'el', 'sucesor', 'de', 'carlos', 'queiroz', '.']\n",
      "#8: --------------------\n",
      "src => ['\"', 'we', 'are', 'expecting', 'a', 'very', 'close', 'match', ',', 'but', 'we', 'are', 'convinced', 'that', 'we', 'can', 'win', ',', 'declared', 'the', 'portuguese', 'trainer', 'aged', '42', '.']\n",
      "trg => ['\"', 'esperamos', 'que', 'el', 'partido', 'esté', 'muy', 'igualado', ',', 'pero', 'estamos', 'completamente', 'convencidos', 'de', 'que', 'podemos', 'tomar', 'la', 'delantera', '\"', ',', 'declaró', 'el', 'entrenador', 'portugués', 'de', '42', 'años', '.']\n",
      "#9: --------------------\n",
      "src => ['but', 'on', 'their', 'side', ',', 'in', 'their', 'illuminated', 'stade', 'de', 'la', 'luz', 'in', 'lisbon', ',', 'the', 'portuguese', 'are', 'convinced', 'that', 'they', 'are', 'playing', 'in', 'front', 'of', 'a', 'public', 'which', 'must', 'be', 'enthusiastic', ',', 'even', 'if', 'the', 'match', 'is', 'very', 'close', ',', '\"', 'said', 'an', 'optimistic', ',', 'but', 'lucid', ',', 'bento']\n",
      "trg => ['pero', 'en', 'casa', ',', 'en', 'el', 'luminoso', 'estadio', 'de', 'la', 'luz', 'de', 'lisboa', ',', 'los', 'portugueses', 'están', 'convencidos', 'de', 'que', 'pasarán', ',', 'ante', 'un', 'público', 'que', 'debería', 'estar', 'igual', 'de', 'entusiasmado', ',', 'incluso', 'si', 'resulta', 'evidente', 'que', 'el', 'partido', '\"', 'está', 'muy', 'igualado', '\"', ',', 'dixit', 'un', 'bento', 'optimista', 'pero', 'lúcido', '.']\n",
      "#10: --------------------\n",
      "src => ['\"', 'it', 'is', 'a', 'good', 'result', ',', 'which', 'nevertheless', 'involves', 'a', 'certain', 'risk', '\"']\n",
      "trg => ['\"', 'es', 'un', 'buen', 'resultado', ',', 'pero', 'a', 'la', 'vez', 'conlleva', 'un', 'riesgo', ',', 'puesto', 'que', 'no', 'hemos', 'marcado', 'fuera', 'de', 'casa', '\"', '.']\n",
      "\n",
      "(Lasts) Dev dataset: ********************\n",
      "#1: --------------------\n",
      "src => ['a', 'good', 'idea', ',', 'provided', 'that', 'it', 'will', ',', 'prove', 'realistic', 'this', 'time', '.']\n",
      "trg => ['una', 'buena', 'idea', ',', 'siempre', 'que', ',', 'esta', 'vez', ',', 'sea', 'realista', '.']\n",
      "#2: --------------------\n",
      "src => ['as', 'already', 'in', 'zenica', ',', 'the', 'portuguese', 'would', 'plan', 'to', 'exert', 'maximal', 'pressure', 'on', 'the', 'bosnians', 'from', 'the', 'start', ',', 'to', '\"', 'give', 'them', 'no', 'time', 'to', 'think', '.', '\"']\n",
      "trg => ['al', 'igual', 'que', 'en', 'zenica', ',', 'los', 'portugueses', 'irán', 'con', 'la', 'intención', 'de', 'ejercer', ',', 'desde', 'el', 'principio', ',', 'una', 'presión', 'máxima', 'sobre', 'los', 'bosnios', 'para', '\"', 'no', 'dejarles', 'tiempo', 'a', 'pensar', '\"', '.']\n",
      "#3: --------------------\n",
      "src => ['\"', 'we', 'are', 'going', 'to', 'play', 'a', 'team', 'which', 'has', 'many', 'technical', 'qualities', 'and', 'which', 'has', 'players', 'possessing', 'many', 'individual', 'qualities', ',', '\"', 'he', 'added', '.']\n",
      "trg => ['\"', 'vamos', 'a', 'jugar', 'contra', 'un', 'equipo', 'que', 'posee', 'una', 'gran', 'calidad', 'técnica', 'y', 'que', 'dispone', 'de', 'jugadores', 'con', 'una', 'gran', 'calidad', 'individual', '\"', ',', 'añadió', '.']\n",
      "#4: --------------------\n",
      "src => ['\"', 'it', 'is', 'a', 'good', 'result', ',', 'which', 'nevertheless', 'carries', 'some', 'risk', ',', 'regrets', 'bento', '.']\n",
      "trg => ['\"', 'es', 'un', 'buen', 'resultado', ',', 'pero', 'a', 'la', 'vez', 'conlleva', 'un', 'riesgo', ',', 'puesto', 'que', 'no', 'hemos', 'marcado', 'fuera', 'de', 'casa', '\"', ',', 'lamenta', 'bento', '.']\n",
      "#5: --------------------\n",
      "src => ['a', 'zero', 'may', 'be', 'sufficient', 'for', 'the', 'bosnians', '.']\n",
      "trg => ['a', 'los', 'bosnios', 'les', 'podría', 'llegar', 'un', 'empate', ',', 'aunque', 'también', 'tienen', 'necesidad', 'de', 'marcar', '.']\n",
      "#6: --------------------\n",
      "src => ['the', 'zero', 'taken', 'on', 'friday', 'from', 'bosnia', 'obliges', 'the', 'portuguese', 'to', 'win', '.']\n",
      "trg => ['el', 'empate', 'del', 'viernes', 'en', 'bosnia', 'obliga', 'a', 'los', 'portugueses', 'a', 'marcar', 'y', 'a', 'ganar', '.']\n",
      "#7: --------------------\n",
      "src => ['\"', 'we', 'continue', 'to', 'have', 'a', '50', '%', 'chance', 'of', 'being', 'at', 'euro', '2012', ',', '\"', 'even', 'under', 'the', 'successor', 'of', 'carlos', 'queiroz', '.']\n",
      "trg => ['\"', 'seguimos', 'teniendo', 'un', '50%', 'de', 'posibilidades', 'de', 'participar', 'en', 'la', 'eurocopa', '2012', '\"', ',', 'ha', ',', 'no', 'obstante', ',', 'relativizado', 'el', 'sucesor', 'de', 'carlos', 'queiroz', '.']\n",
      "#8: --------------------\n",
      "src => ['\"', 'we', 'are', 'expecting', 'a', 'very', 'close', 'match', ',', 'but', 'we', 'are', 'convinced', 'that', 'we', 'can', 'win', ',', 'declared', 'the', 'portuguese', 'trainer', 'aged', '42', '.']\n",
      "trg => ['\"', 'esperamos', 'que', 'el', 'partido', 'esté', 'muy', 'igualado', ',', 'pero', 'estamos', 'completamente', 'convencidos', 'de', 'que', 'podemos', 'tomar', 'la', 'delantera', '\"', ',', 'declaró', 'el', 'entrenador', 'portugués', 'de', '42', 'años', '.']\n",
      "#9: --------------------\n",
      "src => ['but', 'on', 'their', 'side', ',', 'in', 'their', 'illuminated', 'stade', 'de', 'la', 'luz', 'in', 'lisbon', ',', 'the', 'portuguese', 'are', 'convinced', 'that', 'they', 'are', 'playing', 'in', 'front', 'of', 'a', 'public', 'which', 'must', 'be', 'enthusiastic', ',', 'even', 'if', 'the', 'match', 'is', 'very', 'close', ',', '\"', 'said', 'an', 'optimistic', ',', 'but', 'lucid', ',', 'bento']\n",
      "trg => ['pero', 'en', 'casa', ',', 'en', 'el', 'luminoso', 'estadio', 'de', 'la', 'luz', 'de', 'lisboa', ',', 'los', 'portugueses', 'están', 'convencidos', 'de', 'que', 'pasarán', ',', 'ante', 'un', 'público', 'que', 'debería', 'estar', 'igual', 'de', 'entusiasmado', ',', 'incluso', 'si', 'resulta', 'evidente', 'que', 'el', 'partido', '\"', 'está', 'muy', 'igualado', '\"', ',', 'dixit', 'un', 'bento', 'optimista', 'pero', 'lúcido', '.']\n",
      "#10: --------------------\n",
      "src => ['\"', 'it', 'is', 'a', 'good', 'result', ',', 'which', 'nevertheless', 'involves', 'a', 'certain', 'risk', '\"']\n",
      "trg => ['\"', 'es', 'un', 'buen', 'resultado', ',', 'pero', 'a', 'la', 'vez', 'conlleva', 'un', 'riesgo', ',', 'puesto', 'que', 'no', 'hemos', 'marcado', 'fuera', 'de', 'casa', '\"', '.']\n",
      "\n",
      "(Lasts) Test dataset: ********************\n",
      "#1: --------------------\n",
      "src => ['a', 'good', 'idea', ',', 'provided', 'that', 'it', 'will', ',', 'prove', 'realistic', 'this', 'time', '.']\n",
      "trg => ['una', 'buena', 'idea', ',', 'siempre', 'que', ',', 'esta', 'vez', ',', 'sea', 'realista', '.']\n",
      "#2: --------------------\n",
      "src => ['as', 'already', 'in', 'zenica', ',', 'the', 'portuguese', 'would', 'plan', 'to', 'exert', 'maximal', 'pressure', 'on', 'the', 'bosnians', 'from', 'the', 'start', ',', 'to', '\"', 'give', 'them', 'no', 'time', 'to', 'think', '.', '\"']\n",
      "trg => ['al', 'igual', 'que', 'en', 'zenica', ',', 'los', 'portugueses', 'irán', 'con', 'la', 'intención', 'de', 'ejercer', ',', 'desde', 'el', 'principio', ',', 'una', 'presión', 'máxima', 'sobre', 'los', 'bosnios', 'para', '\"', 'no', 'dejarles', 'tiempo', 'a', 'pensar', '\"', '.']\n",
      "#3: --------------------\n",
      "src => ['\"', 'we', 'are', 'going', 'to', 'play', 'a', 'team', 'which', 'has', 'many', 'technical', 'qualities', 'and', 'which', 'has', 'players', 'possessing', 'many', 'individual', 'qualities', ',', '\"', 'he', 'added', '.']\n",
      "trg => ['\"', 'vamos', 'a', 'jugar', 'contra', 'un', 'equipo', 'que', 'posee', 'una', 'gran', 'calidad', 'técnica', 'y', 'que', 'dispone', 'de', 'jugadores', 'con', 'una', 'gran', 'calidad', 'individual', '\"', ',', 'añadió', '.']\n",
      "#4: --------------------\n",
      "src => ['\"', 'it', 'is', 'a', 'good', 'result', ',', 'which', 'nevertheless', 'carries', 'some', 'risk', ',', 'regrets', 'bento', '.']\n",
      "trg => ['\"', 'es', 'un', 'buen', 'resultado', ',', 'pero', 'a', 'la', 'vez', 'conlleva', 'un', 'riesgo', ',', 'puesto', 'que', 'no', 'hemos', 'marcado', 'fuera', 'de', 'casa', '\"', ',', 'lamenta', 'bento', '.']\n",
      "#5: --------------------\n",
      "src => ['a', 'zero', 'may', 'be', 'sufficient', 'for', 'the', 'bosnians', '.']\n",
      "trg => ['a', 'los', 'bosnios', 'les', 'podría', 'llegar', 'un', 'empate', ',', 'aunque', 'también', 'tienen', 'necesidad', 'de', 'marcar', '.']\n",
      "#6: --------------------\n",
      "src => ['the', 'zero', 'taken', 'on', 'friday', 'from', 'bosnia', 'obliges', 'the', 'portuguese', 'to', 'win', '.']\n",
      "trg => ['el', 'empate', 'del', 'viernes', 'en', 'bosnia', 'obliga', 'a', 'los', 'portugueses', 'a', 'marcar', 'y', 'a', 'ganar', '.']\n",
      "#7: --------------------\n",
      "src => ['\"', 'we', 'continue', 'to', 'have', 'a', '50', '%', 'chance', 'of', 'being', 'at', 'euro', '2012', ',', '\"', 'even', 'under', 'the', 'successor', 'of', 'carlos', 'queiroz', '.']\n",
      "trg => ['\"', 'seguimos', 'teniendo', 'un', '50%', 'de', 'posibilidades', 'de', 'participar', 'en', 'la', 'eurocopa', '2012', '\"', ',', 'ha', ',', 'no', 'obstante', ',', 'relativizado', 'el', 'sucesor', 'de', 'carlos', 'queiroz', '.']\n",
      "#8: --------------------\n",
      "src => ['\"', 'we', 'are', 'expecting', 'a', 'very', 'close', 'match', ',', 'but', 'we', 'are', 'convinced', 'that', 'we', 'can', 'win', ',', 'declared', 'the', 'portuguese', 'trainer', 'aged', '42', '.']\n",
      "trg => ['\"', 'esperamos', 'que', 'el', 'partido', 'esté', 'muy', 'igualado', ',', 'pero', 'estamos', 'completamente', 'convencidos', 'de', 'que', 'podemos', 'tomar', 'la', 'delantera', '\"', ',', 'declaró', 'el', 'entrenador', 'portugués', 'de', '42', 'años', '.']\n",
      "#9: --------------------\n",
      "src => ['but', 'on', 'their', 'side', ',', 'in', 'their', 'illuminated', 'stade', 'de', 'la', 'luz', 'in', 'lisbon', ',', 'the', 'portuguese', 'are', 'convinced', 'that', 'they', 'are', 'playing', 'in', 'front', 'of', 'a', 'public', 'which', 'must', 'be', 'enthusiastic', ',', 'even', 'if', 'the', 'match', 'is', 'very', 'close', ',', '\"', 'said', 'an', 'optimistic', ',', 'but', 'lucid', ',', 'bento']\n",
      "trg => ['pero', 'en', 'casa', ',', 'en', 'el', 'luminoso', 'estadio', 'de', 'la', 'luz', 'de', 'lisboa', ',', 'los', 'portugueses', 'están', 'convencidos', 'de', 'que', 'pasarán', ',', 'ante', 'un', 'público', 'que', 'debería', 'estar', 'igual', 'de', 'entusiasmado', ',', 'incluso', 'si', 'resulta', 'evidente', 'que', 'el', 'partido', '\"', 'está', 'muy', 'igualado', '\"', ',', 'dixit', 'un', 'bento', 'optimista', 'pero', 'lúcido', '.']\n",
      "#10: --------------------\n",
      "src => ['\"', 'it', 'is', 'a', 'good', 'result', ',', 'which', 'nevertheless', 'involves', 'a', 'certain', 'risk', '\"']\n",
      "trg => ['\"', 'es', 'un', 'buen', 'resultado', ',', 'pero', 'a', 'la', 'vez', 'conlleva', 'un', 'riesgo', ',', 'puesto', 'que', 'no', 'hemos', 'marcado', 'fuera', 'de', 'casa', '\"', '.']\n",
      "\n"
     ]
    }
   ],
   "source": [
    "n=10\n",
    "print(\"Head: \" + \"#\"*20)\n",
    "print(\"(Firsts) Train dataset: \" + \"*\"*20)\n",
    "view_pairs(train_data.examples, indices=range(0, n))\n",
    "\n",
    "print(\"(Firsts) Dev dataset: \" + \"*\"*20)\n",
    "view_pairs(dev_data.examples, indices=range(0, n))\n",
    "\n",
    "print(\"(Firsts) Test dataset: \" + \"*\"*20)\n",
    "view_pairs(test_data.examples, indices=range(0, n))\n",
    "\n",
    "print(\"Tail: \" + \"#\"*20)\n",
    "print(\"(Lasts) Train dataset: \" + \"*\"*20)\n",
    "view_pairs(train_data.examples, indices=range(-1,-n-1,-1))\n",
    "\n",
    "print(\"(Lasts) Dev dataset: \" + \"*\"*20)\n",
    "view_pairs(dev_data.examples, indices=range(-1,-n-1,-1))\n",
    "\n",
    "print(\"(Lasts) Test dataset: \" + \"*\"*20)\n",
    "view_pairs(test_data.examples, indices=range(-1,-n-1,-1))\n"
   ]
  },
  {
   "cell_type": "markdown",
   "metadata": {
    "pycharm": {
     "name": "#%% md\n"
    }
   },
   "source": [
    "### Sequence lengths\n",
    "\n",
    "Since some of models that use of attention have a quadratic growth with regard the length of a sequence, we need to \n",
    "carefully study the lengths of the pairs in our dataset so that we can choose the maximum length of a sequence in a \n",
    "educated way.\n",
    "\n",
    "From the results below we observe a huge gap between pairs. This gap gets accentuated for the train and dev/test partitions. In the former, the gap is greater than in the later."
   ]
  },
  {
   "cell_type": "code",
   "execution_count": 9,
   "metadata": {
    "pycharm": {
     "name": "#%%\n"
    }
   },
   "outputs": [],
   "source": [
    "# Get lengths\n",
    "train_lenghts = np.array([(len(pair.src), len(pair.trg)) for pair in train_data.examples])\n",
    "dev_lenghts = np.array([(len(pair.src), len(pair.trg)) for pair in dev_data.examples])\n",
    "test_lenghts = np.array([(len(pair.src), len(pair.trg)) for pair in test_data.examples])\n",
    "\n",
    "# Get min lengths\n",
    "train_min_len = train_lenghts.min(axis=0).astype(int)\n",
    "dev_min_len = dev_lenghts.min(axis=0).astype(int)\n",
    "test_min_len = test_lenghts.min(axis=0).astype(int)\n",
    "\n",
    "\n",
    "# Get max lengths\n",
    "train_max_len = train_lenghts.max(axis=0).astype(int)\n",
    "dev_max_len = dev_lenghts.max(axis=0).astype(int)\n",
    "test_max_len = test_lenghts.max(axis=0).astype(int)"
   ]
  },
  {
   "cell_type": "code",
   "execution_count": 10,
   "metadata": {},
   "outputs": [
    {
     "name": "stdout",
     "output_type": "stream",
     "text": [
      "Train => Range length: src=1-137 | trg=1-140\n",
      "Dev => Range length: src=1-137 | trg=1-140\n",
      "Test => Range length: src=1-137 | trg=1-140\n"
     ]
    }
   ],
   "source": [
    "print(f\"Train => Range length: src={train_min_len[0]}-{train_max_len[0]} | trg={train_min_len[1]}-{train_max_len[1]}\")\n",
    "print(f\"Dev => Range length: src={dev_min_len[0]}-{dev_max_len[0]} | trg={dev_min_len[1]}-{dev_max_len[1]}\")\n",
    "print(f\"Test => Range length: src={test_min_len[0]}-{test_max_len[0]} | trg={test_min_len[1]}-{test_max_len[1]}\")"
   ]
  },
  {
   "cell_type": "markdown",
   "metadata": {},
   "source": [
    "#### Checking for zero-length sequences\n",
    "\n",
    "Additionally, I like to check if there is any sequence with length zero. This is more important that it looks, since an empty sequence could indicate an error or problem in the dataset which could lead to a waste of computational resources, a `RuntimeError` in the middle of the training or even jeopardising the training of our model"
   ]
  },
  {
   "cell_type": "code",
   "execution_count": 11,
   "metadata": {},
   "outputs": [
    {
     "name": "stdout",
     "output_type": "stream",
     "text": [
      "Train => Sentences with no words: SRC=0 | TRG=0\n",
      "Dev => Sentences with no words: SRC=0 | TRG=0\n",
      "Test => Sentences with no words: SRC=0 | TRG=0\n"
     ]
    }
   ],
   "source": [
    "tr_no_sent = np.sum(train_lenghts == 0, axis=0).astype(int)\n",
    "dev_no_sent = np.sum(dev_lenghts == 0, axis=0).astype(int)\n",
    "ts_no_sent = np.sum(test_lenghts == 0, axis=0).astype(int)\n",
    "\n",
    "print(f\"Train => Sentences with no words: SRC={tr_no_sent[0]} | TRG={tr_no_sent[1]}\")\n",
    "print(f\"Dev => Sentences with no words: SRC={dev_no_sent[0]} | TRG={dev_no_sent[1]}\")\n",
    "print(f\"Test => Sentences with no words: SRC={ts_no_sent[0]} | TRG={ts_no_sent[1]}\")"
   ]
  },
  {
   "cell_type": "markdown",
   "metadata": {},
   "source": [
    "### Viewing extreme sequences\n",
    "\n",
    "To know the range in which the sequences are ranging is important, but it is even more important to understand what are the extreme pairs in that range. By studying these extreme cases, we can educatively tune our model to get the most of our dataset without compromissing their requirements too much.\n",
    "\n",
    "To get these extreme pairs, we simply keep the indices of the sorted lengths using `argsort`."
   ]
  },
  {
   "cell_type": "code",
   "execution_count": 12,
   "metadata": {
    "pycharm": {
     "name": "#%%\n"
    }
   },
   "outputs": [],
   "source": [
    "def view_lengths(raw, indices):\n",
    "    for i, idx in enumerate(indices):\n",
    "        p1_src, p1_trg = raw[idx[0]].src, raw[idx[0]].trg  # Shortest src (+trg)\n",
    "        p2_src, p2_trg = raw[idx[1]].src, raw[idx[1]].trg  # Shortest trg (+src)\n",
    "\n",
    "        \n",
    "        print(f\"#{i+1}: \" + \"-\"*20)\n",
    "        print(f\"[Shortest SRC: idx={idx[0]}]\")\n",
    "        print(f\"\\t- src (len={len(p1_src)}): {p1_src} => {p1_trg}\")\n",
    "        \n",
    "        print(f\"[Shortest TRG: idx={idx[1]}]\")\n",
    "        print(f\"\\t- trg (len={len(p2_src)}): {p2_src} => {p2_trg}\")\n",
    "    print(\"\")"
   ]
  },
  {
   "cell_type": "code",
   "execution_count": 13,
   "metadata": {
    "pycharm": {
     "name": "#%%\n"
    }
   },
   "outputs": [],
   "source": [
    "# Sort columns independently (ascending)\n",
    "train_sort_len_idx = np.argsort(train_lenghts, axis=0)\n",
    "dev_sort_len_idx = np.argsort(dev_lenghts, axis=0)\n",
    "test_sort_len_idx = np.argsort(test_lenghts, axis=0)"
   ]
  },
  {
   "cell_type": "markdown",
   "metadata": {},
   "source": [
    "Now we see which sentences contain the minimum and the maximum number of tokens. The shortests sequences correspond to word-to-word translations such as: `italy => italia` or `Informality => Informalidad`.\n",
    " \n",
    "**Notice** that columns in the array are sorted independely. This is because a source sequence can be a single word but its translation can be many (and viceversa), such as: `shopping => ir de compras`"
   ]
  },
  {
   "cell_type": "code",
   "execution_count": 14,
   "metadata": {
    "pycharm": {
     "name": "#%%\n"
    }
   },
   "outputs": [
    {
     "name": "stdout",
     "output_type": "stream",
     "text": [
      "Shortest: ####################\n",
      "(Shortest) Train dataset: ********************\n",
      "#1: --------------------\n",
      "[Shortest SRC: idx=2573]\n",
      "\t- src (len=1): ['italy'] => ['italia']\n",
      "[Shortest TRG: idx=2573]\n",
      "\t- trg (len=1): ['italy'] => ['italia']\n",
      "#2: --------------------\n",
      "[Shortest SRC: idx=437]\n",
      "\t- src (len=1): ['gossiping'] => ['calumnias', 'y', 'chismes']\n",
      "[Shortest TRG: idx=2621]\n",
      "\t- trg (len=1): ['austria'] => ['austria']\n",
      "#3: --------------------\n",
      "[Shortest SRC: idx=1873]\n",
      "\t- src (len=1): ['informality'] => ['informalidad']\n",
      "[Shortest TRG: idx=1882]\n",
      "\t- trg (len=1): ['reactions'] => ['reacciones']\n",
      "#4: --------------------\n",
      "[Shortest SRC: idx=2621]\n",
      "\t- src (len=1): ['austria'] => ['austria']\n",
      "[Shortest TRG: idx=179]\n",
      "\t- trg (len=1): ['review'] => ['reseña']\n",
      "#5: --------------------\n",
      "[Shortest SRC: idx=1880]\n",
      "\t- src (len=1): ['debt'] => ['la', 'deuda']\n",
      "[Shortest TRG: idx=1873]\n",
      "\t- trg (len=1): ['informality'] => ['informalidad']\n",
      "\n",
      "(Shortest) Dev dataset: ********************\n",
      "#1: --------------------\n",
      "[Shortest SRC: idx=2573]\n",
      "\t- src (len=1): ['italy'] => ['italia']\n",
      "[Shortest TRG: idx=2573]\n",
      "\t- trg (len=1): ['italy'] => ['italia']\n",
      "#2: --------------------\n",
      "[Shortest SRC: idx=437]\n",
      "\t- src (len=1): ['gossiping'] => ['calumnias', 'y', 'chismes']\n",
      "[Shortest TRG: idx=2621]\n",
      "\t- trg (len=1): ['austria'] => ['austria']\n",
      "#3: --------------------\n",
      "[Shortest SRC: idx=1873]\n",
      "\t- src (len=1): ['informality'] => ['informalidad']\n",
      "[Shortest TRG: idx=1882]\n",
      "\t- trg (len=1): ['reactions'] => ['reacciones']\n",
      "#4: --------------------\n",
      "[Shortest SRC: idx=2621]\n",
      "\t- src (len=1): ['austria'] => ['austria']\n",
      "[Shortest TRG: idx=179]\n",
      "\t- trg (len=1): ['review'] => ['reseña']\n",
      "#5: --------------------\n",
      "[Shortest SRC: idx=1880]\n",
      "\t- src (len=1): ['debt'] => ['la', 'deuda']\n",
      "[Shortest TRG: idx=1873]\n",
      "\t- trg (len=1): ['informality'] => ['informalidad']\n",
      "\n",
      "(Shortest) Test dataset: ********************\n",
      "#1: --------------------\n",
      "[Shortest SRC: idx=2573]\n",
      "\t- src (len=1): ['italy'] => ['italia']\n",
      "[Shortest TRG: idx=2573]\n",
      "\t- trg (len=1): ['italy'] => ['italia']\n",
      "#2: --------------------\n",
      "[Shortest SRC: idx=437]\n",
      "\t- src (len=1): ['gossiping'] => ['calumnias', 'y', 'chismes']\n",
      "[Shortest TRG: idx=2621]\n",
      "\t- trg (len=1): ['austria'] => ['austria']\n",
      "#3: --------------------\n",
      "[Shortest SRC: idx=1873]\n",
      "\t- src (len=1): ['informality'] => ['informalidad']\n",
      "[Shortest TRG: idx=1882]\n",
      "\t- trg (len=1): ['reactions'] => ['reacciones']\n",
      "#4: --------------------\n",
      "[Shortest SRC: idx=2621]\n",
      "\t- src (len=1): ['austria'] => ['austria']\n",
      "[Shortest TRG: idx=179]\n",
      "\t- trg (len=1): ['review'] => ['reseña']\n",
      "#5: --------------------\n",
      "[Shortest SRC: idx=1880]\n",
      "\t- src (len=1): ['debt'] => ['la', 'deuda']\n",
      "[Shortest TRG: idx=1873]\n",
      "\t- trg (len=1): ['informality'] => ['informalidad']\n",
      "\n",
      "Longest: ####################\n",
      "(Longest) Train dataset: ********************\n",
      "#1: --------------------\n",
      "[Shortest SRC: idx=2314]\n",
      "\t- src (len=137): ['with', 'the', 'result', 'obtained', 'last', 'night', 'in', 'cartagena', ',', 'where', 'miss', 'atlantic', 'won', 'the', 'crown', 'and', 'scepter', ',', 'the', 'department', 'counts', 'with', '14', 'princess', 'titles', 'and', 'melina', 'joins', 'the', 'legion', 'of', 'women', 'of', 'valley', 'of', 'cauca', 'who', 'have', 'been', 'close', 'to', 'the', 'crown', 'but', 'were', 'proclaimed', 'princesses', ',', 'among', 'them', 'miriam', 'ospina', 'benoit', '(', '1947', ')', ',', 'clara', 'borrero', 'dominguez', '(', '1949', ')', ',', 'patricia', 'bellini', 'ayala', '(', '1979', ')', ',', 'lorena', 'álvarez', '(', '1981', ')', ',', 'rose', 'mary', 'alzate', '(', '1983', ')', ',', 'olga', 'maria', 'arenas', '(', '1987', ')', ',', 'leila', 'blanque', '(', '1988', ')', ',', 'monica', 'evers', '(', '1989', ')', ',', 'maria', 'consuela', 'pinedo', '(', '1990', ')', ',', 'diana', 'isabel', 'romero', '(', '1993', ')', ',', 'giselle', 'aljure', 'garcés', '(', '2000', ')', ',', 'catalina', 'giraldo', '(', '2007', ')', ',', 'stephanie', 'garcés', 'aljure', '(', '2008', ')', '.'] => ['con', 'el', 'resultado', 'obtenido', 'anoche', 'en', 'cartagena', ',', 'donde', 'la', 'señorita', 'atlántico', 'se', 'alzó', 'con', 'la', 'corona', 'y', 'el', 'cetro', ',', 'el', 'departamento', 'ya', 'suma', '14', 'títulos', 'de', 'princesa', 'y', 'melina', 'se', 'un', 'a', 'la', 'legión', 'de', 'mujeres', 'vallecaucanas', 'que', 'han', 'estado', 'cerca', 'de', 'la', 'corona', 'pero', 'que', 'fueron', 'proclamas', 'princesas', 'entre', 'ellas', 'miriam', 'ospina', 'benoit', '(', '1947', ')', ',', 'clara', 'domínguez', 'borrero', '(', '1949', ')', ',', 'patricia', 'bellini', 'ayala', '(', '1979', ')', ',', 'lorena', 'álvarez', '(', '1981', ')', ',', 'rose', 'mary', 'alzate', '(', '1983', ')', ',', 'olga', 'maría', 'arenas', '(', '1987', ')', ',', 'leila', 'blanque', '(', '1988', ')', ',', 'mónica', 'evers', '(', '1989', ')', ',', 'maría', 'consuela', 'pinedo', '(', '1990', ')', ',', 'diana', 'isabel', 'romero', '(', '1993', ')', ',', 'giselle', 'garcés', 'aljure', '(', '2000', ')', ',', 'catalina', 'giraldo', '(', '2007', ')', ',', 'stephanie', 'garcés', 'aljure', '(', '2008', ')', '.']\n",
      "[Shortest TRG: idx=2314]\n",
      "\t- trg (len=137): ['with', 'the', 'result', 'obtained', 'last', 'night', 'in', 'cartagena', ',', 'where', 'miss', 'atlantic', 'won', 'the', 'crown', 'and', 'scepter', ',', 'the', 'department', 'counts', 'with', '14', 'princess', 'titles', 'and', 'melina', 'joins', 'the', 'legion', 'of', 'women', 'of', 'valley', 'of', 'cauca', 'who', 'have', 'been', 'close', 'to', 'the', 'crown', 'but', 'were', 'proclaimed', 'princesses', ',', 'among', 'them', 'miriam', 'ospina', 'benoit', '(', '1947', ')', ',', 'clara', 'borrero', 'dominguez', '(', '1949', ')', ',', 'patricia', 'bellini', 'ayala', '(', '1979', ')', ',', 'lorena', 'álvarez', '(', '1981', ')', ',', 'rose', 'mary', 'alzate', '(', '1983', ')', ',', 'olga', 'maria', 'arenas', '(', '1987', ')', ',', 'leila', 'blanque', '(', '1988', ')', ',', 'monica', 'evers', '(', '1989', ')', ',', 'maria', 'consuela', 'pinedo', '(', '1990', ')', ',', 'diana', 'isabel', 'romero', '(', '1993', ')', ',', 'giselle', 'aljure', 'garcés', '(', '2000', ')', ',', 'catalina', 'giraldo', '(', '2007', ')', ',', 'stephanie', 'garcés', 'aljure', '(', '2008', ')', '.'] => ['con', 'el', 'resultado', 'obtenido', 'anoche', 'en', 'cartagena', ',', 'donde', 'la', 'señorita', 'atlántico', 'se', 'alzó', 'con', 'la', 'corona', 'y', 'el', 'cetro', ',', 'el', 'departamento', 'ya', 'suma', '14', 'títulos', 'de', 'princesa', 'y', 'melina', 'se', 'un', 'a', 'la', 'legión', 'de', 'mujeres', 'vallecaucanas', 'que', 'han', 'estado', 'cerca', 'de', 'la', 'corona', 'pero', 'que', 'fueron', 'proclamas', 'princesas', 'entre', 'ellas', 'miriam', 'ospina', 'benoit', '(', '1947', ')', ',', 'clara', 'domínguez', 'borrero', '(', '1949', ')', ',', 'patricia', 'bellini', 'ayala', '(', '1979', ')', ',', 'lorena', 'álvarez', '(', '1981', ')', ',', 'rose', 'mary', 'alzate', '(', '1983', ')', ',', 'olga', 'maría', 'arenas', '(', '1987', ')', ',', 'leila', 'blanque', '(', '1988', ')', ',', 'mónica', 'evers', '(', '1989', ')', ',', 'maría', 'consuela', 'pinedo', '(', '1990', ')', ',', 'diana', 'isabel', 'romero', '(', '1993', ')', ',', 'giselle', 'garcés', 'aljure', '(', '2000', ')', ',', 'catalina', 'giraldo', '(', '2007', ')', ',', 'stephanie', 'garcés', 'aljure', '(', '2008', ')', '.']\n",
      "#2: --------------------\n",
      "[Shortest SRC: idx=1866]\n",
      "\t- src (len=125): ['the', 'fall', 'in', 'the', 'economic', 'activity', 'has', 'generated', ',', 'until', 'november', ',', 'a', 'constant', 'increase', 'of', 'the', 'unemployment', 'in', 'the', 'state', ',', 'according', 'to', 'the', 'national', 'institute', 'of', 'statistics', 'and', 'geography', ',', 'the', 'unemployment', 'state', 'rate', 'during', 'the', 'first', 'three', 'quarters', 'of', 'the', 'year', 'registered', 'an', 'accelerated', 'growth', ',', 'from', 'january', 'to', 'march', '55.053', 'sinaloa', 'habitants', 'were', 'unemployed', ',', 'with', 'a', 'rate', 'of', '4.53', 'percent', 'of', 'the', 'economically', 'active', 'population', 'for', 'the', 'second', 'quarter', ',', 'the', 'rate', 'became', '5.28', 'percent', ',', 'and', 'between', 'july', 'and', 'september', 'the', 'average', 'continued', 'to', 'increase', 'to', '6.19', 'percent', ',', 'a', 'rate', 'that', 'in', 'terms', 'of', 'the', 'number', 'of', 'people', 'represents', 'more', 'than', '74.000', 'of', 'unemployed', 'sinaloa', 'habitants', ',', 'an', 'increase', 'compared', 'to', 'the', 'first', 'half', 'of', '18.969', 'individuals', '.'] => ['la', 'caída', 'en', 'la', 'actividad', 'económica', 'ha', 'generado', ',', 'hasta', 'noviembre', ',', 'un', 'aumento', 'constante', 'del', 'desempleo', 'en', 'el', 'estado', ',', 'según', 'el', 'instituto', 'nacional', 'de', 'estadística', 'y', 'geografía', 'la', 'tasa', 'de', 'desocupación', 'estatal', 'durante', 'los', 'tres', 'primeros', 'trimestres', 'del', 'año', 'se', 'observó', 'un', 'crecimiento', 'acelerado', ',', 'ya', 'que', 'mientras', 'de', 'enero', 'a', 'marzo', '55', 'mil', '053', 'sinaloenses', 'estaban', 'desocupados', ',', 'con', 'una', 'tasa', 'de', '4.53', 'por', 'ciento', 'de', 'la', 'población', 'económicamente', 'activa', ',', 'para', 'el', 'segundo', 'trimestre', 'la', 'tasa', 'pasó', 'a', 'ser', '5.28', 'por', 'ciento', ',', 'y', 'entre', 'julio', 'y', 'septiembre', 'el', 'promedio', 'continuó', 'incrementándose', 'hasta', '6.19', 'por', 'ciento', ',', 'una', 'tasa', 'que', 'en', 'número', 'de', 'personas', 'arroja', 'a', 'más', 'de', '74', 'mil', 'sinaloenses', 'desempleados', ',', 'un', 'aumento', 'respecto', 'al', 'primer', 'semestre', 'de', '18', 'mil', '969', 'individuos', '.']\n",
      "[Shortest TRG: idx=1866]\n",
      "\t- trg (len=125): ['the', 'fall', 'in', 'the', 'economic', 'activity', 'has', 'generated', ',', 'until', 'november', ',', 'a', 'constant', 'increase', 'of', 'the', 'unemployment', 'in', 'the', 'state', ',', 'according', 'to', 'the', 'national', 'institute', 'of', 'statistics', 'and', 'geography', ',', 'the', 'unemployment', 'state', 'rate', 'during', 'the', 'first', 'three', 'quarters', 'of', 'the', 'year', 'registered', 'an', 'accelerated', 'growth', ',', 'from', 'january', 'to', 'march', '55.053', 'sinaloa', 'habitants', 'were', 'unemployed', ',', 'with', 'a', 'rate', 'of', '4.53', 'percent', 'of', 'the', 'economically', 'active', 'population', 'for', 'the', 'second', 'quarter', ',', 'the', 'rate', 'became', '5.28', 'percent', ',', 'and', 'between', 'july', 'and', 'september', 'the', 'average', 'continued', 'to', 'increase', 'to', '6.19', 'percent', ',', 'a', 'rate', 'that', 'in', 'terms', 'of', 'the', 'number', 'of', 'people', 'represents', 'more', 'than', '74.000', 'of', 'unemployed', 'sinaloa', 'habitants', ',', 'an', 'increase', 'compared', 'to', 'the', 'first', 'half', 'of', '18.969', 'individuals', '.'] => ['la', 'caída', 'en', 'la', 'actividad', 'económica', 'ha', 'generado', ',', 'hasta', 'noviembre', ',', 'un', 'aumento', 'constante', 'del', 'desempleo', 'en', 'el', 'estado', ',', 'según', 'el', 'instituto', 'nacional', 'de', 'estadística', 'y', 'geografía', 'la', 'tasa', 'de', 'desocupación', 'estatal', 'durante', 'los', 'tres', 'primeros', 'trimestres', 'del', 'año', 'se', 'observó', 'un', 'crecimiento', 'acelerado', ',', 'ya', 'que', 'mientras', 'de', 'enero', 'a', 'marzo', '55', 'mil', '053', 'sinaloenses', 'estaban', 'desocupados', ',', 'con', 'una', 'tasa', 'de', '4.53', 'por', 'ciento', 'de', 'la', 'población', 'económicamente', 'activa', ',', 'para', 'el', 'segundo', 'trimestre', 'la', 'tasa', 'pasó', 'a', 'ser', '5.28', 'por', 'ciento', ',', 'y', 'entre', 'julio', 'y', 'septiembre', 'el', 'promedio', 'continuó', 'incrementándose', 'hasta', '6.19', 'por', 'ciento', ',', 'una', 'tasa', 'que', 'en', 'número', 'de', 'personas', 'arroja', 'a', 'más', 'de', '74', 'mil', 'sinaloenses', 'desempleados', ',', 'un', 'aumento', 'respecto', 'al', 'primer', 'semestre', 'de', '18', 'mil', '969', 'individuos', '.']\n",
      "#3: --------------------\n",
      "[Shortest SRC: idx=1936]\n",
      "\t- src (len=90): ['in', 'addition', ',', 'the', 'total', 'count', 'of', 'the', 'vote', 'received', 'in', 'all', 'boxes', 'of', 'the', 'election', 'may', 'take', 'place', 'when', 'there', 'is', 'an', 'indication', 'that', 'the', 'difference', 'between', 'the', 'alleged', 'candidate', 'winner', 'of', 'the', 'election', 'in', 'question', 'and', 'the', 'one', 'who', 'has', 'obtained', 'the', 'second', 'place', 'in', 'the', 'voting', ',', 'is', 'equal', 'to', 'or', 'less', 'than', 'one', 'percentage', 'point', ',', 'as', 'long', 'as', 'at', 'the', 'beginning', 'of', 'the', 'session', 'there', 'is', 'a', 'request', 'of', 'the', 'representative', 'of', 'the', 'party', 'and/or', 'coalition', 'that', 'nominated', 'the', 'second', 'of', 'the', 'mentioned', 'candidates', '.'] => ['además', ',', 'el', 'recuento', 'total', 'de', 'la', 'votación', 'recibida', 'en', 'todas', 'las', 'casillas', 'de', 'la', 'elección', 'podrá', 'realizarse', 'cuando', 'exista', 'indicio', 'de', 'que', 'la', 'diferencia', 'entre', 'el', 'candidato', 'presunto', 'ganador', 'de', 'la', 'elección', 'de', 'que', 'se', 'trate', 'y', 'el', 'que', 'haya', 'obtenido', 'el', 'segundo', 'lugar', 'en', 'la', 'votación', ',', 'es', 'igual', 'o', 'menor', 'a', 'un', 'punto', 'porcentual', ';', 'siempre', 'y', 'cuando', 'al', 'inicio', 'de', 'la', 'sesión', 'exista', 'la', 'petición', 'expresa', 'del', 'representante', 'del', 'partido', 'y', '/', 'o', 'coalición', 'que', 'postuló', 'al', 'segundo', 'de', 'los', 'candidatos', 'señalados', '.']\n",
      "[Shortest TRG: idx=2442]\n",
      "\t- trg (len=73): ['the', 'queen', 'opened', 'yesterday', 'the', 'fifth', 'global', 'microcredit', 'summit', 'in', 'valladolid', 'with', 'the', 'belief', 'that', '\"', 'there', 'is', 'no', 'doubt', '\"', 'that', 'such', 'operations', 'are', '\"', 'absolutely', 'essential', '\"', 'to', 'achieve', 'the', 'millennium', 'goals', 'set', 'by', 'the', 'united', 'nations', 'for', '2015', ',', 'and', ',', '\"', 'especially', 'having', 'as', 'a', 'goal', 'halving', 'the', 'volume', 'of', 'people', 'living', 'with', 'less', 'than', 'a', 'dollar', 'per', 'day', ',', 'with', 'this', 'fixing', 'the', '\"', 'poverty', 'line', '.', '\"'] => ['la', 'reina', 'inauguró', 'ayer', 'la', 'v', 'cumbre', 'mundial', 'del', 'microcrédito', 'en', 'valladolid', 'con', 'el', 'convencimiento', 'de', 'que', '\"', 'no', 'hay', 'duda', '\"', 'de', 'que', 'esté', 'tipo', 'de', 'operaciones', 'son', '\"', 'absolutamente', 'indispensables', '\"', 'para', 'alcanzar', 'los', 'objetivos', 'del', 'milenio', 'establecidos', 'por', 'naciones', 'unidas', 'con', 'horizonte', '2015', ',', 'y', ',', '\"', 'muy', 'especialmente', ',', 'en', 'aquél', 'que', 'tiene', 'como', 'meta', 'la', 'reducción', 'a', 'la', 'mitad', 'del', 'volumen', 'de', 'personas', 'que', 'viven', 'con', 'ingresos', 'inferiores', 'a', 'un', 'dolar', 'diario', ',', 'con', 'en', 'el', 'que', 'se', 'fija', 'el', '\"', 'umbral', 'de', 'pobreza', '\"', '.']\n",
      "#4: --------------------\n",
      "[Shortest SRC: idx=2092]\n",
      "\t- src (len=87): ['there', 'were', 'many', 'frustrations', 'because', 'lasted', 'so', 'long', 'and', 'the', 'most', 'important', 'thing', 'is', 'that', 'we', 'are', 'still', 'close', 'friends', 'of', 'bruce', '(', 'fair', '-', 'weather', ')', 'and', 'greg', '(', 'gilmore', ')', ',', 'who', 'started', 'in', 'the', 'band', 'with', 'us', 'and', 'when', 'i', 'hear', 'a', 'song', 'or', 'see', 'a', 'picture', 'i', 'think', 'of', 'the', 'incredible', 'person', 'that', 'andy', 'was', 'and', 'how', 'he', 'made', '\\u200b\\u200bme', 'laugh', ',', 'it', 'was', 'always', 'a', 'pleasure', 'to', 'go', 'to', 'work', ',', 'laugh', ',', 'talk', 'about', 'music', 'and', 'football', 'and', 'much', 'more', '.'] => ['hubo', 'muchas', 'frustraciones', 'porque', 'durara', 'tanto', 'y', 'lo', 'más', 'importante', 'es', 'que', 'todavía', 'somos', 'muy', 'amigos', 'de', 'bruce', '(', 'fairweather', ')', 'y', 'greg', '(', 'gilmore', ')', ',', 'que', 'empezaron', 'en', 'la', 'banda', 'con', 'nosotros', 'y', 'cuando', 'oigo', 'una', 'canción', 'o', 'veo', 'una', 'foto', 'pienso', 'en', 'la', 'increíble', 'persona', 'que', 'andy', 'fue', 'y', 'cómo', 'me', 'hacía', 'reír', ',', 'siempre', 'fue', 'un', 'placer', 'ir', 'a', 'trabajar', ',', 'reírnos', ',', 'hablar', 'de', 'música', 'y', 'futbol', 'y', 'mucho', 'más', '.']\n",
      "[Shortest TRG: idx=1936]\n",
      "\t- trg (len=90): ['in', 'addition', ',', 'the', 'total', 'count', 'of', 'the', 'vote', 'received', 'in', 'all', 'boxes', 'of', 'the', 'election', 'may', 'take', 'place', 'when', 'there', 'is', 'an', 'indication', 'that', 'the', 'difference', 'between', 'the', 'alleged', 'candidate', 'winner', 'of', 'the', 'election', 'in', 'question', 'and', 'the', 'one', 'who', 'has', 'obtained', 'the', 'second', 'place', 'in', 'the', 'voting', ',', 'is', 'equal', 'to', 'or', 'less', 'than', 'one', 'percentage', 'point', ',', 'as', 'long', 'as', 'at', 'the', 'beginning', 'of', 'the', 'session', 'there', 'is', 'a', 'request', 'of', 'the', 'representative', 'of', 'the', 'party', 'and/or', 'coalition', 'that', 'nominated', 'the', 'second', 'of', 'the', 'mentioned', 'candidates', '.'] => ['además', ',', 'el', 'recuento', 'total', 'de', 'la', 'votación', 'recibida', 'en', 'todas', 'las', 'casillas', 'de', 'la', 'elección', 'podrá', 'realizarse', 'cuando', 'exista', 'indicio', 'de', 'que', 'la', 'diferencia', 'entre', 'el', 'candidato', 'presunto', 'ganador', 'de', 'la', 'elección', 'de', 'que', 'se', 'trate', 'y', 'el', 'que', 'haya', 'obtenido', 'el', 'segundo', 'lugar', 'en', 'la', 'votación', ',', 'es', 'igual', 'o', 'menor', 'a', 'un', 'punto', 'porcentual', ';', 'siempre', 'y', 'cuando', 'al', 'inicio', 'de', 'la', 'sesión', 'exista', 'la', 'petición', 'expresa', 'del', 'representante', 'del', 'partido', 'y', '/', 'o', 'coalición', 'que', 'postuló', 'al', 'segundo', 'de', 'los', 'candidatos', 'señalados', '.']\n",
      "#5: --------------------\n",
      "[Shortest SRC: idx=1953]\n",
      "\t- src (len=85): ['shot', 'guns', 'were', 'fired', 'for', 'the', 'lieutenant', 'colonel', 'of', 'the', 'mexican', 'air', 'force', ',', 'felipe', 'cortés', 'bacio', ',', 'headed', 'by', 'the', 'governor', 'jorge', 'torres', 'lopez', ',', 'the', 'people', 'of', 'the', 'village', 'and', 'government', 'of', 'the', 'state', ',', 'the', 'mexican', 'army', ',', 'through', 'the', 'sixth', 'military', 'zone', ',', 'the', 'mexican', 'air', 'force', 'itself', ',', 'managers', 'and', 'students', 'of', 'the', 'technological', 'high', 'school', 'of', 'saltillo', ',', 'where', 'he', 'studied', 'in', '1985', 'and', 'made', 'himself', 'remarked', 'both', 'in', 'study', 'or', 'in', 'sport', 'gave', 'him', 'the', 'last', 'farewell', '.'] => ['con', 'honores', 'fue', 'despedido', 'el', 'teniente', 'coronel', 'de', 'la', 'fuerza', 'aérea', 'mexicana', ',', 'felipe', 'bacio', 'cortés', ',', 'en', 'homenaje', 'que', 'encabezó', 'el', 'gobernador', 'jorge', 'torres', 'lópez', ',', 'y', 'que', 'le', 'rindió', 'pueblo', 'y', 'gobierno', 'del', 'estado', ',', 'el', 'ejercito', 'mexicano', ',', 'a', 'través', 'de', 'la', 'sexta', 'zona', 'militar', ',', 'la', 'propia', 'fuerza', 'aérea', 'mexicana', ',', 'directivos', 'y', 'estudiantes', 'del', 'tecnológico', 'de', 'saltillo', ',', 'donde', 'estudió', 'en', '1985', 'y', 'se', 'destacó', 'tanto', 'en', 'el', 'estudio', 'como', 'en', 'el', 'deporte', '.']\n",
      "[Shortest TRG: idx=1881]\n",
      "\t- trg (len=79): ['against', 'the', 'backdrop', 'of', 'economic', 'downturn', ',', 'the', 'state', 'government', 'asked', 'in', 'july', 'during', 'the', 'state', 'congress', ',', 'the', 'approval', 'of', 'a', 'credit', 'of', '3', 'billion', 'pesos', ',', 'which', 'would', 'be', 'for', 'the', 'investment', 'in', 'infrastructure', 'projects', 'in', '18', 'municipalities', ',', 'in', 'order', 'to', 'reactivate', 'the', 'economy', ',', 'the', 'local', 'congressional', 'approval', 'was', 'for', 'a', 'total', 'of', '2.600', 'million', 'pesos', ',', 'and', 'until', 'november', 'no', 'benefits', 'of', 'the', 'debt', 'were', 'observed', 'in', 'any', 'sector', 'of', 'the', 'state', 'economy', '.'] => ['ante', 'el', 'escenario', 'de', 'contracción', 'económica', ',', 'el', 'gobierno', 'del', 'estado', 'solicitó', 'en', 'julio', 'al', 'congreso', 'estatal', 'la', 'aprobación', 'de', 'un', 'crédito', 'por', '3', 'mil', 'millones', 'de', 'pesos', ',', 'mismos', 'que', 'serían', 'destinados', 'la', 'inversión', 'en', 'proyectos', 'de', 'infraestructura', 'en', 'los', '18', 'municipios', ',', 'con', 'la', 'finalidad', 'de', 'reactivar', 'la', 'economía', ',', 'la', 'aprobación', 'del', 'congreso', 'local', 'fue', 'por', 'un', 'monto', 'de', '2', 'mil', '600', 'millones', 'de', 'pesos', ',', 'y', 'hasta', 'noviembre', 'no', 'han', 'observado', 'los', 'beneficios', 'del', 'endeudamiento', 'en', 'ningún', 'sector', 'de', 'la', 'economía', 'estatal', '.']\n",
      "\n",
      "(Longest) Dev dataset: ********************\n",
      "#1: --------------------\n",
      "[Shortest SRC: idx=2314]\n",
      "\t- src (len=137): ['with', 'the', 'result', 'obtained', 'last', 'night', 'in', 'cartagena', ',', 'where', 'miss', 'atlantic', 'won', 'the', 'crown', 'and', 'scepter', ',', 'the', 'department', 'counts', 'with', '14', 'princess', 'titles', 'and', 'melina', 'joins', 'the', 'legion', 'of', 'women', 'of', 'valley', 'of', 'cauca', 'who', 'have', 'been', 'close', 'to', 'the', 'crown', 'but', 'were', 'proclaimed', 'princesses', ',', 'among', 'them', 'miriam', 'ospina', 'benoit', '(', '1947', ')', ',', 'clara', 'borrero', 'dominguez', '(', '1949', ')', ',', 'patricia', 'bellini', 'ayala', '(', '1979', ')', ',', 'lorena', 'álvarez', '(', '1981', ')', ',', 'rose', 'mary', 'alzate', '(', '1983', ')', ',', 'olga', 'maria', 'arenas', '(', '1987', ')', ',', 'leila', 'blanque', '(', '1988', ')', ',', 'monica', 'evers', '(', '1989', ')', ',', 'maria', 'consuela', 'pinedo', '(', '1990', ')', ',', 'diana', 'isabel', 'romero', '(', '1993', ')', ',', 'giselle', 'aljure', 'garcés', '(', '2000', ')', ',', 'catalina', 'giraldo', '(', '2007', ')', ',', 'stephanie', 'garcés', 'aljure', '(', '2008', ')', '.'] => ['con', 'el', 'resultado', 'obtenido', 'anoche', 'en', 'cartagena', ',', 'donde', 'la', 'señorita', 'atlántico', 'se', 'alzó', 'con', 'la', 'corona', 'y', 'el', 'cetro', ',', 'el', 'departamento', 'ya', 'suma', '14', 'títulos', 'de', 'princesa', 'y', 'melina', 'se', 'un', 'a', 'la', 'legión', 'de', 'mujeres', 'vallecaucanas', 'que', 'han', 'estado', 'cerca', 'de', 'la', 'corona', 'pero', 'que', 'fueron', 'proclamas', 'princesas', 'entre', 'ellas', 'miriam', 'ospina', 'benoit', '(', '1947', ')', ',', 'clara', 'domínguez', 'borrero', '(', '1949', ')', ',', 'patricia', 'bellini', 'ayala', '(', '1979', ')', ',', 'lorena', 'álvarez', '(', '1981', ')', ',', 'rose', 'mary', 'alzate', '(', '1983', ')', ',', 'olga', 'maría', 'arenas', '(', '1987', ')', ',', 'leila', 'blanque', '(', '1988', ')', ',', 'mónica', 'evers', '(', '1989', ')', ',', 'maría', 'consuela', 'pinedo', '(', '1990', ')', ',', 'diana', 'isabel', 'romero', '(', '1993', ')', ',', 'giselle', 'garcés', 'aljure', '(', '2000', ')', ',', 'catalina', 'giraldo', '(', '2007', ')', ',', 'stephanie', 'garcés', 'aljure', '(', '2008', ')', '.']\n",
      "[Shortest TRG: idx=2314]\n",
      "\t- trg (len=137): ['with', 'the', 'result', 'obtained', 'last', 'night', 'in', 'cartagena', ',', 'where', 'miss', 'atlantic', 'won', 'the', 'crown', 'and', 'scepter', ',', 'the', 'department', 'counts', 'with', '14', 'princess', 'titles', 'and', 'melina', 'joins', 'the', 'legion', 'of', 'women', 'of', 'valley', 'of', 'cauca', 'who', 'have', 'been', 'close', 'to', 'the', 'crown', 'but', 'were', 'proclaimed', 'princesses', ',', 'among', 'them', 'miriam', 'ospina', 'benoit', '(', '1947', ')', ',', 'clara', 'borrero', 'dominguez', '(', '1949', ')', ',', 'patricia', 'bellini', 'ayala', '(', '1979', ')', ',', 'lorena', 'álvarez', '(', '1981', ')', ',', 'rose', 'mary', 'alzate', '(', '1983', ')', ',', 'olga', 'maria', 'arenas', '(', '1987', ')', ',', 'leila', 'blanque', '(', '1988', ')', ',', 'monica', 'evers', '(', '1989', ')', ',', 'maria', 'consuela', 'pinedo', '(', '1990', ')', ',', 'diana', 'isabel', 'romero', '(', '1993', ')', ',', 'giselle', 'aljure', 'garcés', '(', '2000', ')', ',', 'catalina', 'giraldo', '(', '2007', ')', ',', 'stephanie', 'garcés', 'aljure', '(', '2008', ')', '.'] => ['con', 'el', 'resultado', 'obtenido', 'anoche', 'en', 'cartagena', ',', 'donde', 'la', 'señorita', 'atlántico', 'se', 'alzó', 'con', 'la', 'corona', 'y', 'el', 'cetro', ',', 'el', 'departamento', 'ya', 'suma', '14', 'títulos', 'de', 'princesa', 'y', 'melina', 'se', 'un', 'a', 'la', 'legión', 'de', 'mujeres', 'vallecaucanas', 'que', 'han', 'estado', 'cerca', 'de', 'la', 'corona', 'pero', 'que', 'fueron', 'proclamas', 'princesas', 'entre', 'ellas', 'miriam', 'ospina', 'benoit', '(', '1947', ')', ',', 'clara', 'domínguez', 'borrero', '(', '1949', ')', ',', 'patricia', 'bellini', 'ayala', '(', '1979', ')', ',', 'lorena', 'álvarez', '(', '1981', ')', ',', 'rose', 'mary', 'alzate', '(', '1983', ')', ',', 'olga', 'maría', 'arenas', '(', '1987', ')', ',', 'leila', 'blanque', '(', '1988', ')', ',', 'mónica', 'evers', '(', '1989', ')', ',', 'maría', 'consuela', 'pinedo', '(', '1990', ')', ',', 'diana', 'isabel', 'romero', '(', '1993', ')', ',', 'giselle', 'garcés', 'aljure', '(', '2000', ')', ',', 'catalina', 'giraldo', '(', '2007', ')', ',', 'stephanie', 'garcés', 'aljure', '(', '2008', ')', '.']\n",
      "#2: --------------------\n",
      "[Shortest SRC: idx=1866]\n",
      "\t- src (len=125): ['the', 'fall', 'in', 'the', 'economic', 'activity', 'has', 'generated', ',', 'until', 'november', ',', 'a', 'constant', 'increase', 'of', 'the', 'unemployment', 'in', 'the', 'state', ',', 'according', 'to', 'the', 'national', 'institute', 'of', 'statistics', 'and', 'geography', ',', 'the', 'unemployment', 'state', 'rate', 'during', 'the', 'first', 'three', 'quarters', 'of', 'the', 'year', 'registered', 'an', 'accelerated', 'growth', ',', 'from', 'january', 'to', 'march', '55.053', 'sinaloa', 'habitants', 'were', 'unemployed', ',', 'with', 'a', 'rate', 'of', '4.53', 'percent', 'of', 'the', 'economically', 'active', 'population', 'for', 'the', 'second', 'quarter', ',', 'the', 'rate', 'became', '5.28', 'percent', ',', 'and', 'between', 'july', 'and', 'september', 'the', 'average', 'continued', 'to', 'increase', 'to', '6.19', 'percent', ',', 'a', 'rate', 'that', 'in', 'terms', 'of', 'the', 'number', 'of', 'people', 'represents', 'more', 'than', '74.000', 'of', 'unemployed', 'sinaloa', 'habitants', ',', 'an', 'increase', 'compared', 'to', 'the', 'first', 'half', 'of', '18.969', 'individuals', '.'] => ['la', 'caída', 'en', 'la', 'actividad', 'económica', 'ha', 'generado', ',', 'hasta', 'noviembre', ',', 'un', 'aumento', 'constante', 'del', 'desempleo', 'en', 'el', 'estado', ',', 'según', 'el', 'instituto', 'nacional', 'de', 'estadística', 'y', 'geografía', 'la', 'tasa', 'de', 'desocupación', 'estatal', 'durante', 'los', 'tres', 'primeros', 'trimestres', 'del', 'año', 'se', 'observó', 'un', 'crecimiento', 'acelerado', ',', 'ya', 'que', 'mientras', 'de', 'enero', 'a', 'marzo', '55', 'mil', '053', 'sinaloenses', 'estaban', 'desocupados', ',', 'con', 'una', 'tasa', 'de', '4.53', 'por', 'ciento', 'de', 'la', 'población', 'económicamente', 'activa', ',', 'para', 'el', 'segundo', 'trimestre', 'la', 'tasa', 'pasó', 'a', 'ser', '5.28', 'por', 'ciento', ',', 'y', 'entre', 'julio', 'y', 'septiembre', 'el', 'promedio', 'continuó', 'incrementándose', 'hasta', '6.19', 'por', 'ciento', ',', 'una', 'tasa', 'que', 'en', 'número', 'de', 'personas', 'arroja', 'a', 'más', 'de', '74', 'mil', 'sinaloenses', 'desempleados', ',', 'un', 'aumento', 'respecto', 'al', 'primer', 'semestre', 'de', '18', 'mil', '969', 'individuos', '.']\n",
      "[Shortest TRG: idx=1866]\n",
      "\t- trg (len=125): ['the', 'fall', 'in', 'the', 'economic', 'activity', 'has', 'generated', ',', 'until', 'november', ',', 'a', 'constant', 'increase', 'of', 'the', 'unemployment', 'in', 'the', 'state', ',', 'according', 'to', 'the', 'national', 'institute', 'of', 'statistics', 'and', 'geography', ',', 'the', 'unemployment', 'state', 'rate', 'during', 'the', 'first', 'three', 'quarters', 'of', 'the', 'year', 'registered', 'an', 'accelerated', 'growth', ',', 'from', 'january', 'to', 'march', '55.053', 'sinaloa', 'habitants', 'were', 'unemployed', ',', 'with', 'a', 'rate', 'of', '4.53', 'percent', 'of', 'the', 'economically', 'active', 'population', 'for', 'the', 'second', 'quarter', ',', 'the', 'rate', 'became', '5.28', 'percent', ',', 'and', 'between', 'july', 'and', 'september', 'the', 'average', 'continued', 'to', 'increase', 'to', '6.19', 'percent', ',', 'a', 'rate', 'that', 'in', 'terms', 'of', 'the', 'number', 'of', 'people', 'represents', 'more', 'than', '74.000', 'of', 'unemployed', 'sinaloa', 'habitants', ',', 'an', 'increase', 'compared', 'to', 'the', 'first', 'half', 'of', '18.969', 'individuals', '.'] => ['la', 'caída', 'en', 'la', 'actividad', 'económica', 'ha', 'generado', ',', 'hasta', 'noviembre', ',', 'un', 'aumento', 'constante', 'del', 'desempleo', 'en', 'el', 'estado', ',', 'según', 'el', 'instituto', 'nacional', 'de', 'estadística', 'y', 'geografía', 'la', 'tasa', 'de', 'desocupación', 'estatal', 'durante', 'los', 'tres', 'primeros', 'trimestres', 'del', 'año', 'se', 'observó', 'un', 'crecimiento', 'acelerado', ',', 'ya', 'que', 'mientras', 'de', 'enero', 'a', 'marzo', '55', 'mil', '053', 'sinaloenses', 'estaban', 'desocupados', ',', 'con', 'una', 'tasa', 'de', '4.53', 'por', 'ciento', 'de', 'la', 'población', 'económicamente', 'activa', ',', 'para', 'el', 'segundo', 'trimestre', 'la', 'tasa', 'pasó', 'a', 'ser', '5.28', 'por', 'ciento', ',', 'y', 'entre', 'julio', 'y', 'septiembre', 'el', 'promedio', 'continuó', 'incrementándose', 'hasta', '6.19', 'por', 'ciento', ',', 'una', 'tasa', 'que', 'en', 'número', 'de', 'personas', 'arroja', 'a', 'más', 'de', '74', 'mil', 'sinaloenses', 'desempleados', ',', 'un', 'aumento', 'respecto', 'al', 'primer', 'semestre', 'de', '18', 'mil', '969', 'individuos', '.']\n",
      "#3: --------------------\n",
      "[Shortest SRC: idx=1936]\n",
      "\t- src (len=90): ['in', 'addition', ',', 'the', 'total', 'count', 'of', 'the', 'vote', 'received', 'in', 'all', 'boxes', 'of', 'the', 'election', 'may', 'take', 'place', 'when', 'there', 'is', 'an', 'indication', 'that', 'the', 'difference', 'between', 'the', 'alleged', 'candidate', 'winner', 'of', 'the', 'election', 'in', 'question', 'and', 'the', 'one', 'who', 'has', 'obtained', 'the', 'second', 'place', 'in', 'the', 'voting', ',', 'is', 'equal', 'to', 'or', 'less', 'than', 'one', 'percentage', 'point', ',', 'as', 'long', 'as', 'at', 'the', 'beginning', 'of', 'the', 'session', 'there', 'is', 'a', 'request', 'of', 'the', 'representative', 'of', 'the', 'party', 'and/or', 'coalition', 'that', 'nominated', 'the', 'second', 'of', 'the', 'mentioned', 'candidates', '.'] => ['además', ',', 'el', 'recuento', 'total', 'de', 'la', 'votación', 'recibida', 'en', 'todas', 'las', 'casillas', 'de', 'la', 'elección', 'podrá', 'realizarse', 'cuando', 'exista', 'indicio', 'de', 'que', 'la', 'diferencia', 'entre', 'el', 'candidato', 'presunto', 'ganador', 'de', 'la', 'elección', 'de', 'que', 'se', 'trate', 'y', 'el', 'que', 'haya', 'obtenido', 'el', 'segundo', 'lugar', 'en', 'la', 'votación', ',', 'es', 'igual', 'o', 'menor', 'a', 'un', 'punto', 'porcentual', ';', 'siempre', 'y', 'cuando', 'al', 'inicio', 'de', 'la', 'sesión', 'exista', 'la', 'petición', 'expresa', 'del', 'representante', 'del', 'partido', 'y', '/', 'o', 'coalición', 'que', 'postuló', 'al', 'segundo', 'de', 'los', 'candidatos', 'señalados', '.']\n",
      "[Shortest TRG: idx=2442]\n",
      "\t- trg (len=73): ['the', 'queen', 'opened', 'yesterday', 'the', 'fifth', 'global', 'microcredit', 'summit', 'in', 'valladolid', 'with', 'the', 'belief', 'that', '\"', 'there', 'is', 'no', 'doubt', '\"', 'that', 'such', 'operations', 'are', '\"', 'absolutely', 'essential', '\"', 'to', 'achieve', 'the', 'millennium', 'goals', 'set', 'by', 'the', 'united', 'nations', 'for', '2015', ',', 'and', ',', '\"', 'especially', 'having', 'as', 'a', 'goal', 'halving', 'the', 'volume', 'of', 'people', 'living', 'with', 'less', 'than', 'a', 'dollar', 'per', 'day', ',', 'with', 'this', 'fixing', 'the', '\"', 'poverty', 'line', '.', '\"'] => ['la', 'reina', 'inauguró', 'ayer', 'la', 'v', 'cumbre', 'mundial', 'del', 'microcrédito', 'en', 'valladolid', 'con', 'el', 'convencimiento', 'de', 'que', '\"', 'no', 'hay', 'duda', '\"', 'de', 'que', 'esté', 'tipo', 'de', 'operaciones', 'son', '\"', 'absolutamente', 'indispensables', '\"', 'para', 'alcanzar', 'los', 'objetivos', 'del', 'milenio', 'establecidos', 'por', 'naciones', 'unidas', 'con', 'horizonte', '2015', ',', 'y', ',', '\"', 'muy', 'especialmente', ',', 'en', 'aquél', 'que', 'tiene', 'como', 'meta', 'la', 'reducción', 'a', 'la', 'mitad', 'del', 'volumen', 'de', 'personas', 'que', 'viven', 'con', 'ingresos', 'inferiores', 'a', 'un', 'dolar', 'diario', ',', 'con', 'en', 'el', 'que', 'se', 'fija', 'el', '\"', 'umbral', 'de', 'pobreza', '\"', '.']\n",
      "#4: --------------------\n",
      "[Shortest SRC: idx=2092]\n",
      "\t- src (len=87): ['there', 'were', 'many', 'frustrations', 'because', 'lasted', 'so', 'long', 'and', 'the', 'most', 'important', 'thing', 'is', 'that', 'we', 'are', 'still', 'close', 'friends', 'of', 'bruce', '(', 'fair', '-', 'weather', ')', 'and', 'greg', '(', 'gilmore', ')', ',', 'who', 'started', 'in', 'the', 'band', 'with', 'us', 'and', 'when', 'i', 'hear', 'a', 'song', 'or', 'see', 'a', 'picture', 'i', 'think', 'of', 'the', 'incredible', 'person', 'that', 'andy', 'was', 'and', 'how', 'he', 'made', '\\u200b\\u200bme', 'laugh', ',', 'it', 'was', 'always', 'a', 'pleasure', 'to', 'go', 'to', 'work', ',', 'laugh', ',', 'talk', 'about', 'music', 'and', 'football', 'and', 'much', 'more', '.'] => ['hubo', 'muchas', 'frustraciones', 'porque', 'durara', 'tanto', 'y', 'lo', 'más', 'importante', 'es', 'que', 'todavía', 'somos', 'muy', 'amigos', 'de', 'bruce', '(', 'fairweather', ')', 'y', 'greg', '(', 'gilmore', ')', ',', 'que', 'empezaron', 'en', 'la', 'banda', 'con', 'nosotros', 'y', 'cuando', 'oigo', 'una', 'canción', 'o', 'veo', 'una', 'foto', 'pienso', 'en', 'la', 'increíble', 'persona', 'que', 'andy', 'fue', 'y', 'cómo', 'me', 'hacía', 'reír', ',', 'siempre', 'fue', 'un', 'placer', 'ir', 'a', 'trabajar', ',', 'reírnos', ',', 'hablar', 'de', 'música', 'y', 'futbol', 'y', 'mucho', 'más', '.']\n",
      "[Shortest TRG: idx=1936]\n",
      "\t- trg (len=90): ['in', 'addition', ',', 'the', 'total', 'count', 'of', 'the', 'vote', 'received', 'in', 'all', 'boxes', 'of', 'the', 'election', 'may', 'take', 'place', 'when', 'there', 'is', 'an', 'indication', 'that', 'the', 'difference', 'between', 'the', 'alleged', 'candidate', 'winner', 'of', 'the', 'election', 'in', 'question', 'and', 'the', 'one', 'who', 'has', 'obtained', 'the', 'second', 'place', 'in', 'the', 'voting', ',', 'is', 'equal', 'to', 'or', 'less', 'than', 'one', 'percentage', 'point', ',', 'as', 'long', 'as', 'at', 'the', 'beginning', 'of', 'the', 'session', 'there', 'is', 'a', 'request', 'of', 'the', 'representative', 'of', 'the', 'party', 'and/or', 'coalition', 'that', 'nominated', 'the', 'second', 'of', 'the', 'mentioned', 'candidates', '.'] => ['además', ',', 'el', 'recuento', 'total', 'de', 'la', 'votación', 'recibida', 'en', 'todas', 'las', 'casillas', 'de', 'la', 'elección', 'podrá', 'realizarse', 'cuando', 'exista', 'indicio', 'de', 'que', 'la', 'diferencia', 'entre', 'el', 'candidato', 'presunto', 'ganador', 'de', 'la', 'elección', 'de', 'que', 'se', 'trate', 'y', 'el', 'que', 'haya', 'obtenido', 'el', 'segundo', 'lugar', 'en', 'la', 'votación', ',', 'es', 'igual', 'o', 'menor', 'a', 'un', 'punto', 'porcentual', ';', 'siempre', 'y', 'cuando', 'al', 'inicio', 'de', 'la', 'sesión', 'exista', 'la', 'petición', 'expresa', 'del', 'representante', 'del', 'partido', 'y', '/', 'o', 'coalición', 'que', 'postuló', 'al', 'segundo', 'de', 'los', 'candidatos', 'señalados', '.']\n",
      "#5: --------------------\n",
      "[Shortest SRC: idx=1953]\n",
      "\t- src (len=85): ['shot', 'guns', 'were', 'fired', 'for', 'the', 'lieutenant', 'colonel', 'of', 'the', 'mexican', 'air', 'force', ',', 'felipe', 'cortés', 'bacio', ',', 'headed', 'by', 'the', 'governor', 'jorge', 'torres', 'lopez', ',', 'the', 'people', 'of', 'the', 'village', 'and', 'government', 'of', 'the', 'state', ',', 'the', 'mexican', 'army', ',', 'through', 'the', 'sixth', 'military', 'zone', ',', 'the', 'mexican', 'air', 'force', 'itself', ',', 'managers', 'and', 'students', 'of', 'the', 'technological', 'high', 'school', 'of', 'saltillo', ',', 'where', 'he', 'studied', 'in', '1985', 'and', 'made', 'himself', 'remarked', 'both', 'in', 'study', 'or', 'in', 'sport', 'gave', 'him', 'the', 'last', 'farewell', '.'] => ['con', 'honores', 'fue', 'despedido', 'el', 'teniente', 'coronel', 'de', 'la', 'fuerza', 'aérea', 'mexicana', ',', 'felipe', 'bacio', 'cortés', ',', 'en', 'homenaje', 'que', 'encabezó', 'el', 'gobernador', 'jorge', 'torres', 'lópez', ',', 'y', 'que', 'le', 'rindió', 'pueblo', 'y', 'gobierno', 'del', 'estado', ',', 'el', 'ejercito', 'mexicano', ',', 'a', 'través', 'de', 'la', 'sexta', 'zona', 'militar', ',', 'la', 'propia', 'fuerza', 'aérea', 'mexicana', ',', 'directivos', 'y', 'estudiantes', 'del', 'tecnológico', 'de', 'saltillo', ',', 'donde', 'estudió', 'en', '1985', 'y', 'se', 'destacó', 'tanto', 'en', 'el', 'estudio', 'como', 'en', 'el', 'deporte', '.']\n",
      "[Shortest TRG: idx=1881]\n",
      "\t- trg (len=79): ['against', 'the', 'backdrop', 'of', 'economic', 'downturn', ',', 'the', 'state', 'government', 'asked', 'in', 'july', 'during', 'the', 'state', 'congress', ',', 'the', 'approval', 'of', 'a', 'credit', 'of', '3', 'billion', 'pesos', ',', 'which', 'would', 'be', 'for', 'the', 'investment', 'in', 'infrastructure', 'projects', 'in', '18', 'municipalities', ',', 'in', 'order', 'to', 'reactivate', 'the', 'economy', ',', 'the', 'local', 'congressional', 'approval', 'was', 'for', 'a', 'total', 'of', '2.600', 'million', 'pesos', ',', 'and', 'until', 'november', 'no', 'benefits', 'of', 'the', 'debt', 'were', 'observed', 'in', 'any', 'sector', 'of', 'the', 'state', 'economy', '.'] => ['ante', 'el', 'escenario', 'de', 'contracción', 'económica', ',', 'el', 'gobierno', 'del', 'estado', 'solicitó', 'en', 'julio', 'al', 'congreso', 'estatal', 'la', 'aprobación', 'de', 'un', 'crédito', 'por', '3', 'mil', 'millones', 'de', 'pesos', ',', 'mismos', 'que', 'serían', 'destinados', 'la', 'inversión', 'en', 'proyectos', 'de', 'infraestructura', 'en', 'los', '18', 'municipios', ',', 'con', 'la', 'finalidad', 'de', 'reactivar', 'la', 'economía', ',', 'la', 'aprobación', 'del', 'congreso', 'local', 'fue', 'por', 'un', 'monto', 'de', '2', 'mil', '600', 'millones', 'de', 'pesos', ',', 'y', 'hasta', 'noviembre', 'no', 'han', 'observado', 'los', 'beneficios', 'del', 'endeudamiento', 'en', 'ningún', 'sector', 'de', 'la', 'economía', 'estatal', '.']\n",
      "\n",
      "(Longest) Test dataset: ********************\n",
      "#1: --------------------\n",
      "[Shortest SRC: idx=2314]\n",
      "\t- src (len=137): ['with', 'the', 'result', 'obtained', 'last', 'night', 'in', 'cartagena', ',', 'where', 'miss', 'atlantic', 'won', 'the', 'crown', 'and', 'scepter', ',', 'the', 'department', 'counts', 'with', '14', 'princess', 'titles', 'and', 'melina', 'joins', 'the', 'legion', 'of', 'women', 'of', 'valley', 'of', 'cauca', 'who', 'have', 'been', 'close', 'to', 'the', 'crown', 'but', 'were', 'proclaimed', 'princesses', ',', 'among', 'them', 'miriam', 'ospina', 'benoit', '(', '1947', ')', ',', 'clara', 'borrero', 'dominguez', '(', '1949', ')', ',', 'patricia', 'bellini', 'ayala', '(', '1979', ')', ',', 'lorena', 'álvarez', '(', '1981', ')', ',', 'rose', 'mary', 'alzate', '(', '1983', ')', ',', 'olga', 'maria', 'arenas', '(', '1987', ')', ',', 'leila', 'blanque', '(', '1988', ')', ',', 'monica', 'evers', '(', '1989', ')', ',', 'maria', 'consuela', 'pinedo', '(', '1990', ')', ',', 'diana', 'isabel', 'romero', '(', '1993', ')', ',', 'giselle', 'aljure', 'garcés', '(', '2000', ')', ',', 'catalina', 'giraldo', '(', '2007', ')', ',', 'stephanie', 'garcés', 'aljure', '(', '2008', ')', '.'] => ['con', 'el', 'resultado', 'obtenido', 'anoche', 'en', 'cartagena', ',', 'donde', 'la', 'señorita', 'atlántico', 'se', 'alzó', 'con', 'la', 'corona', 'y', 'el', 'cetro', ',', 'el', 'departamento', 'ya', 'suma', '14', 'títulos', 'de', 'princesa', 'y', 'melina', 'se', 'un', 'a', 'la', 'legión', 'de', 'mujeres', 'vallecaucanas', 'que', 'han', 'estado', 'cerca', 'de', 'la', 'corona', 'pero', 'que', 'fueron', 'proclamas', 'princesas', 'entre', 'ellas', 'miriam', 'ospina', 'benoit', '(', '1947', ')', ',', 'clara', 'domínguez', 'borrero', '(', '1949', ')', ',', 'patricia', 'bellini', 'ayala', '(', '1979', ')', ',', 'lorena', 'álvarez', '(', '1981', ')', ',', 'rose', 'mary', 'alzate', '(', '1983', ')', ',', 'olga', 'maría', 'arenas', '(', '1987', ')', ',', 'leila', 'blanque', '(', '1988', ')', ',', 'mónica', 'evers', '(', '1989', ')', ',', 'maría', 'consuela', 'pinedo', '(', '1990', ')', ',', 'diana', 'isabel', 'romero', '(', '1993', ')', ',', 'giselle', 'garcés', 'aljure', '(', '2000', ')', ',', 'catalina', 'giraldo', '(', '2007', ')', ',', 'stephanie', 'garcés', 'aljure', '(', '2008', ')', '.']\n",
      "[Shortest TRG: idx=2314]\n",
      "\t- trg (len=137): ['with', 'the', 'result', 'obtained', 'last', 'night', 'in', 'cartagena', ',', 'where', 'miss', 'atlantic', 'won', 'the', 'crown', 'and', 'scepter', ',', 'the', 'department', 'counts', 'with', '14', 'princess', 'titles', 'and', 'melina', 'joins', 'the', 'legion', 'of', 'women', 'of', 'valley', 'of', 'cauca', 'who', 'have', 'been', 'close', 'to', 'the', 'crown', 'but', 'were', 'proclaimed', 'princesses', ',', 'among', 'them', 'miriam', 'ospina', 'benoit', '(', '1947', ')', ',', 'clara', 'borrero', 'dominguez', '(', '1949', ')', ',', 'patricia', 'bellini', 'ayala', '(', '1979', ')', ',', 'lorena', 'álvarez', '(', '1981', ')', ',', 'rose', 'mary', 'alzate', '(', '1983', ')', ',', 'olga', 'maria', 'arenas', '(', '1987', ')', ',', 'leila', 'blanque', '(', '1988', ')', ',', 'monica', 'evers', '(', '1989', ')', ',', 'maria', 'consuela', 'pinedo', '(', '1990', ')', ',', 'diana', 'isabel', 'romero', '(', '1993', ')', ',', 'giselle', 'aljure', 'garcés', '(', '2000', ')', ',', 'catalina', 'giraldo', '(', '2007', ')', ',', 'stephanie', 'garcés', 'aljure', '(', '2008', ')', '.'] => ['con', 'el', 'resultado', 'obtenido', 'anoche', 'en', 'cartagena', ',', 'donde', 'la', 'señorita', 'atlántico', 'se', 'alzó', 'con', 'la', 'corona', 'y', 'el', 'cetro', ',', 'el', 'departamento', 'ya', 'suma', '14', 'títulos', 'de', 'princesa', 'y', 'melina', 'se', 'un', 'a', 'la', 'legión', 'de', 'mujeres', 'vallecaucanas', 'que', 'han', 'estado', 'cerca', 'de', 'la', 'corona', 'pero', 'que', 'fueron', 'proclamas', 'princesas', 'entre', 'ellas', 'miriam', 'ospina', 'benoit', '(', '1947', ')', ',', 'clara', 'domínguez', 'borrero', '(', '1949', ')', ',', 'patricia', 'bellini', 'ayala', '(', '1979', ')', ',', 'lorena', 'álvarez', '(', '1981', ')', ',', 'rose', 'mary', 'alzate', '(', '1983', ')', ',', 'olga', 'maría', 'arenas', '(', '1987', ')', ',', 'leila', 'blanque', '(', '1988', ')', ',', 'mónica', 'evers', '(', '1989', ')', ',', 'maría', 'consuela', 'pinedo', '(', '1990', ')', ',', 'diana', 'isabel', 'romero', '(', '1993', ')', ',', 'giselle', 'garcés', 'aljure', '(', '2000', ')', ',', 'catalina', 'giraldo', '(', '2007', ')', ',', 'stephanie', 'garcés', 'aljure', '(', '2008', ')', '.']\n",
      "#2: --------------------\n",
      "[Shortest SRC: idx=1866]\n",
      "\t- src (len=125): ['the', 'fall', 'in', 'the', 'economic', 'activity', 'has', 'generated', ',', 'until', 'november', ',', 'a', 'constant', 'increase', 'of', 'the', 'unemployment', 'in', 'the', 'state', ',', 'according', 'to', 'the', 'national', 'institute', 'of', 'statistics', 'and', 'geography', ',', 'the', 'unemployment', 'state', 'rate', 'during', 'the', 'first', 'three', 'quarters', 'of', 'the', 'year', 'registered', 'an', 'accelerated', 'growth', ',', 'from', 'january', 'to', 'march', '55.053', 'sinaloa', 'habitants', 'were', 'unemployed', ',', 'with', 'a', 'rate', 'of', '4.53', 'percent', 'of', 'the', 'economically', 'active', 'population', 'for', 'the', 'second', 'quarter', ',', 'the', 'rate', 'became', '5.28', 'percent', ',', 'and', 'between', 'july', 'and', 'september', 'the', 'average', 'continued', 'to', 'increase', 'to', '6.19', 'percent', ',', 'a', 'rate', 'that', 'in', 'terms', 'of', 'the', 'number', 'of', 'people', 'represents', 'more', 'than', '74.000', 'of', 'unemployed', 'sinaloa', 'habitants', ',', 'an', 'increase', 'compared', 'to', 'the', 'first', 'half', 'of', '18.969', 'individuals', '.'] => ['la', 'caída', 'en', 'la', 'actividad', 'económica', 'ha', 'generado', ',', 'hasta', 'noviembre', ',', 'un', 'aumento', 'constante', 'del', 'desempleo', 'en', 'el', 'estado', ',', 'según', 'el', 'instituto', 'nacional', 'de', 'estadística', 'y', 'geografía', 'la', 'tasa', 'de', 'desocupación', 'estatal', 'durante', 'los', 'tres', 'primeros', 'trimestres', 'del', 'año', 'se', 'observó', 'un', 'crecimiento', 'acelerado', ',', 'ya', 'que', 'mientras', 'de', 'enero', 'a', 'marzo', '55', 'mil', '053', 'sinaloenses', 'estaban', 'desocupados', ',', 'con', 'una', 'tasa', 'de', '4.53', 'por', 'ciento', 'de', 'la', 'población', 'económicamente', 'activa', ',', 'para', 'el', 'segundo', 'trimestre', 'la', 'tasa', 'pasó', 'a', 'ser', '5.28', 'por', 'ciento', ',', 'y', 'entre', 'julio', 'y', 'septiembre', 'el', 'promedio', 'continuó', 'incrementándose', 'hasta', '6.19', 'por', 'ciento', ',', 'una', 'tasa', 'que', 'en', 'número', 'de', 'personas', 'arroja', 'a', 'más', 'de', '74', 'mil', 'sinaloenses', 'desempleados', ',', 'un', 'aumento', 'respecto', 'al', 'primer', 'semestre', 'de', '18', 'mil', '969', 'individuos', '.']\n",
      "[Shortest TRG: idx=1866]\n",
      "\t- trg (len=125): ['the', 'fall', 'in', 'the', 'economic', 'activity', 'has', 'generated', ',', 'until', 'november', ',', 'a', 'constant', 'increase', 'of', 'the', 'unemployment', 'in', 'the', 'state', ',', 'according', 'to', 'the', 'national', 'institute', 'of', 'statistics', 'and', 'geography', ',', 'the', 'unemployment', 'state', 'rate', 'during', 'the', 'first', 'three', 'quarters', 'of', 'the', 'year', 'registered', 'an', 'accelerated', 'growth', ',', 'from', 'january', 'to', 'march', '55.053', 'sinaloa', 'habitants', 'were', 'unemployed', ',', 'with', 'a', 'rate', 'of', '4.53', 'percent', 'of', 'the', 'economically', 'active', 'population', 'for', 'the', 'second', 'quarter', ',', 'the', 'rate', 'became', '5.28', 'percent', ',', 'and', 'between', 'july', 'and', 'september', 'the', 'average', 'continued', 'to', 'increase', 'to', '6.19', 'percent', ',', 'a', 'rate', 'that', 'in', 'terms', 'of', 'the', 'number', 'of', 'people', 'represents', 'more', 'than', '74.000', 'of', 'unemployed', 'sinaloa', 'habitants', ',', 'an', 'increase', 'compared', 'to', 'the', 'first', 'half', 'of', '18.969', 'individuals', '.'] => ['la', 'caída', 'en', 'la', 'actividad', 'económica', 'ha', 'generado', ',', 'hasta', 'noviembre', ',', 'un', 'aumento', 'constante', 'del', 'desempleo', 'en', 'el', 'estado', ',', 'según', 'el', 'instituto', 'nacional', 'de', 'estadística', 'y', 'geografía', 'la', 'tasa', 'de', 'desocupación', 'estatal', 'durante', 'los', 'tres', 'primeros', 'trimestres', 'del', 'año', 'se', 'observó', 'un', 'crecimiento', 'acelerado', ',', 'ya', 'que', 'mientras', 'de', 'enero', 'a', 'marzo', '55', 'mil', '053', 'sinaloenses', 'estaban', 'desocupados', ',', 'con', 'una', 'tasa', 'de', '4.53', 'por', 'ciento', 'de', 'la', 'población', 'económicamente', 'activa', ',', 'para', 'el', 'segundo', 'trimestre', 'la', 'tasa', 'pasó', 'a', 'ser', '5.28', 'por', 'ciento', ',', 'y', 'entre', 'julio', 'y', 'septiembre', 'el', 'promedio', 'continuó', 'incrementándose', 'hasta', '6.19', 'por', 'ciento', ',', 'una', 'tasa', 'que', 'en', 'número', 'de', 'personas', 'arroja', 'a', 'más', 'de', '74', 'mil', 'sinaloenses', 'desempleados', ',', 'un', 'aumento', 'respecto', 'al', 'primer', 'semestre', 'de', '18', 'mil', '969', 'individuos', '.']\n",
      "#3: --------------------\n",
      "[Shortest SRC: idx=1936]\n",
      "\t- src (len=90): ['in', 'addition', ',', 'the', 'total', 'count', 'of', 'the', 'vote', 'received', 'in', 'all', 'boxes', 'of', 'the', 'election', 'may', 'take', 'place', 'when', 'there', 'is', 'an', 'indication', 'that', 'the', 'difference', 'between', 'the', 'alleged', 'candidate', 'winner', 'of', 'the', 'election', 'in', 'question', 'and', 'the', 'one', 'who', 'has', 'obtained', 'the', 'second', 'place', 'in', 'the', 'voting', ',', 'is', 'equal', 'to', 'or', 'less', 'than', 'one', 'percentage', 'point', ',', 'as', 'long', 'as', 'at', 'the', 'beginning', 'of', 'the', 'session', 'there', 'is', 'a', 'request', 'of', 'the', 'representative', 'of', 'the', 'party', 'and/or', 'coalition', 'that', 'nominated', 'the', 'second', 'of', 'the', 'mentioned', 'candidates', '.'] => ['además', ',', 'el', 'recuento', 'total', 'de', 'la', 'votación', 'recibida', 'en', 'todas', 'las', 'casillas', 'de', 'la', 'elección', 'podrá', 'realizarse', 'cuando', 'exista', 'indicio', 'de', 'que', 'la', 'diferencia', 'entre', 'el', 'candidato', 'presunto', 'ganador', 'de', 'la', 'elección', 'de', 'que', 'se', 'trate', 'y', 'el', 'que', 'haya', 'obtenido', 'el', 'segundo', 'lugar', 'en', 'la', 'votación', ',', 'es', 'igual', 'o', 'menor', 'a', 'un', 'punto', 'porcentual', ';', 'siempre', 'y', 'cuando', 'al', 'inicio', 'de', 'la', 'sesión', 'exista', 'la', 'petición', 'expresa', 'del', 'representante', 'del', 'partido', 'y', '/', 'o', 'coalición', 'que', 'postuló', 'al', 'segundo', 'de', 'los', 'candidatos', 'señalados', '.']\n",
      "[Shortest TRG: idx=2442]\n",
      "\t- trg (len=73): ['the', 'queen', 'opened', 'yesterday', 'the', 'fifth', 'global', 'microcredit', 'summit', 'in', 'valladolid', 'with', 'the', 'belief', 'that', '\"', 'there', 'is', 'no', 'doubt', '\"', 'that', 'such', 'operations', 'are', '\"', 'absolutely', 'essential', '\"', 'to', 'achieve', 'the', 'millennium', 'goals', 'set', 'by', 'the', 'united', 'nations', 'for', '2015', ',', 'and', ',', '\"', 'especially', 'having', 'as', 'a', 'goal', 'halving', 'the', 'volume', 'of', 'people', 'living', 'with', 'less', 'than', 'a', 'dollar', 'per', 'day', ',', 'with', 'this', 'fixing', 'the', '\"', 'poverty', 'line', '.', '\"'] => ['la', 'reina', 'inauguró', 'ayer', 'la', 'v', 'cumbre', 'mundial', 'del', 'microcrédito', 'en', 'valladolid', 'con', 'el', 'convencimiento', 'de', 'que', '\"', 'no', 'hay', 'duda', '\"', 'de', 'que', 'esté', 'tipo', 'de', 'operaciones', 'son', '\"', 'absolutamente', 'indispensables', '\"', 'para', 'alcanzar', 'los', 'objetivos', 'del', 'milenio', 'establecidos', 'por', 'naciones', 'unidas', 'con', 'horizonte', '2015', ',', 'y', ',', '\"', 'muy', 'especialmente', ',', 'en', 'aquél', 'que', 'tiene', 'como', 'meta', 'la', 'reducción', 'a', 'la', 'mitad', 'del', 'volumen', 'de', 'personas', 'que', 'viven', 'con', 'ingresos', 'inferiores', 'a', 'un', 'dolar', 'diario', ',', 'con', 'en', 'el', 'que', 'se', 'fija', 'el', '\"', 'umbral', 'de', 'pobreza', '\"', '.']\n",
      "#4: --------------------\n",
      "[Shortest SRC: idx=2092]\n",
      "\t- src (len=87): ['there', 'were', 'many', 'frustrations', 'because', 'lasted', 'so', 'long', 'and', 'the', 'most', 'important', 'thing', 'is', 'that', 'we', 'are', 'still', 'close', 'friends', 'of', 'bruce', '(', 'fair', '-', 'weather', ')', 'and', 'greg', '(', 'gilmore', ')', ',', 'who', 'started', 'in', 'the', 'band', 'with', 'us', 'and', 'when', 'i', 'hear', 'a', 'song', 'or', 'see', 'a', 'picture', 'i', 'think', 'of', 'the', 'incredible', 'person', 'that', 'andy', 'was', 'and', 'how', 'he', 'made', '\\u200b\\u200bme', 'laugh', ',', 'it', 'was', 'always', 'a', 'pleasure', 'to', 'go', 'to', 'work', ',', 'laugh', ',', 'talk', 'about', 'music', 'and', 'football', 'and', 'much', 'more', '.'] => ['hubo', 'muchas', 'frustraciones', 'porque', 'durara', 'tanto', 'y', 'lo', 'más', 'importante', 'es', 'que', 'todavía', 'somos', 'muy', 'amigos', 'de', 'bruce', '(', 'fairweather', ')', 'y', 'greg', '(', 'gilmore', ')', ',', 'que', 'empezaron', 'en', 'la', 'banda', 'con', 'nosotros', 'y', 'cuando', 'oigo', 'una', 'canción', 'o', 'veo', 'una', 'foto', 'pienso', 'en', 'la', 'increíble', 'persona', 'que', 'andy', 'fue', 'y', 'cómo', 'me', 'hacía', 'reír', ',', 'siempre', 'fue', 'un', 'placer', 'ir', 'a', 'trabajar', ',', 'reírnos', ',', 'hablar', 'de', 'música', 'y', 'futbol', 'y', 'mucho', 'más', '.']\n",
      "[Shortest TRG: idx=1936]\n",
      "\t- trg (len=90): ['in', 'addition', ',', 'the', 'total', 'count', 'of', 'the', 'vote', 'received', 'in', 'all', 'boxes', 'of', 'the', 'election', 'may', 'take', 'place', 'when', 'there', 'is', 'an', 'indication', 'that', 'the', 'difference', 'between', 'the', 'alleged', 'candidate', 'winner', 'of', 'the', 'election', 'in', 'question', 'and', 'the', 'one', 'who', 'has', 'obtained', 'the', 'second', 'place', 'in', 'the', 'voting', ',', 'is', 'equal', 'to', 'or', 'less', 'than', 'one', 'percentage', 'point', ',', 'as', 'long', 'as', 'at', 'the', 'beginning', 'of', 'the', 'session', 'there', 'is', 'a', 'request', 'of', 'the', 'representative', 'of', 'the', 'party', 'and/or', 'coalition', 'that', 'nominated', 'the', 'second', 'of', 'the', 'mentioned', 'candidates', '.'] => ['además', ',', 'el', 'recuento', 'total', 'de', 'la', 'votación', 'recibida', 'en', 'todas', 'las', 'casillas', 'de', 'la', 'elección', 'podrá', 'realizarse', 'cuando', 'exista', 'indicio', 'de', 'que', 'la', 'diferencia', 'entre', 'el', 'candidato', 'presunto', 'ganador', 'de', 'la', 'elección', 'de', 'que', 'se', 'trate', 'y', 'el', 'que', 'haya', 'obtenido', 'el', 'segundo', 'lugar', 'en', 'la', 'votación', ',', 'es', 'igual', 'o', 'menor', 'a', 'un', 'punto', 'porcentual', ';', 'siempre', 'y', 'cuando', 'al', 'inicio', 'de', 'la', 'sesión', 'exista', 'la', 'petición', 'expresa', 'del', 'representante', 'del', 'partido', 'y', '/', 'o', 'coalición', 'que', 'postuló', 'al', 'segundo', 'de', 'los', 'candidatos', 'señalados', '.']\n",
      "#5: --------------------\n",
      "[Shortest SRC: idx=1953]\n",
      "\t- src (len=85): ['shot', 'guns', 'were', 'fired', 'for', 'the', 'lieutenant', 'colonel', 'of', 'the', 'mexican', 'air', 'force', ',', 'felipe', 'cortés', 'bacio', ',', 'headed', 'by', 'the', 'governor', 'jorge', 'torres', 'lopez', ',', 'the', 'people', 'of', 'the', 'village', 'and', 'government', 'of', 'the', 'state', ',', 'the', 'mexican', 'army', ',', 'through', 'the', 'sixth', 'military', 'zone', ',', 'the', 'mexican', 'air', 'force', 'itself', ',', 'managers', 'and', 'students', 'of', 'the', 'technological', 'high', 'school', 'of', 'saltillo', ',', 'where', 'he', 'studied', 'in', '1985', 'and', 'made', 'himself', 'remarked', 'both', 'in', 'study', 'or', 'in', 'sport', 'gave', 'him', 'the', 'last', 'farewell', '.'] => ['con', 'honores', 'fue', 'despedido', 'el', 'teniente', 'coronel', 'de', 'la', 'fuerza', 'aérea', 'mexicana', ',', 'felipe', 'bacio', 'cortés', ',', 'en', 'homenaje', 'que', 'encabezó', 'el', 'gobernador', 'jorge', 'torres', 'lópez', ',', 'y', 'que', 'le', 'rindió', 'pueblo', 'y', 'gobierno', 'del', 'estado', ',', 'el', 'ejercito', 'mexicano', ',', 'a', 'través', 'de', 'la', 'sexta', 'zona', 'militar', ',', 'la', 'propia', 'fuerza', 'aérea', 'mexicana', ',', 'directivos', 'y', 'estudiantes', 'del', 'tecnológico', 'de', 'saltillo', ',', 'donde', 'estudió', 'en', '1985', 'y', 'se', 'destacó', 'tanto', 'en', 'el', 'estudio', 'como', 'en', 'el', 'deporte', '.']\n",
      "[Shortest TRG: idx=1881]\n",
      "\t- trg (len=79): ['against', 'the', 'backdrop', 'of', 'economic', 'downturn', ',', 'the', 'state', 'government', 'asked', 'in', 'july', 'during', 'the', 'state', 'congress', ',', 'the', 'approval', 'of', 'a', 'credit', 'of', '3', 'billion', 'pesos', ',', 'which', 'would', 'be', 'for', 'the', 'investment', 'in', 'infrastructure', 'projects', 'in', '18', 'municipalities', ',', 'in', 'order', 'to', 'reactivate', 'the', 'economy', ',', 'the', 'local', 'congressional', 'approval', 'was', 'for', 'a', 'total', 'of', '2.600', 'million', 'pesos', ',', 'and', 'until', 'november', 'no', 'benefits', 'of', 'the', 'debt', 'were', 'observed', 'in', 'any', 'sector', 'of', 'the', 'state', 'economy', '.'] => ['ante', 'el', 'escenario', 'de', 'contracción', 'económica', ',', 'el', 'gobierno', 'del', 'estado', 'solicitó', 'en', 'julio', 'al', 'congreso', 'estatal', 'la', 'aprobación', 'de', 'un', 'crédito', 'por', '3', 'mil', 'millones', 'de', 'pesos', ',', 'mismos', 'que', 'serían', 'destinados', 'la', 'inversión', 'en', 'proyectos', 'de', 'infraestructura', 'en', 'los', '18', 'municipios', ',', 'con', 'la', 'finalidad', 'de', 'reactivar', 'la', 'economía', ',', 'la', 'aprobación', 'del', 'congreso', 'local', 'fue', 'por', 'un', 'monto', 'de', '2', 'mil', '600', 'millones', 'de', 'pesos', ',', 'y', 'hasta', 'noviembre', 'no', 'han', 'observado', 'los', 'beneficios', 'del', 'endeudamiento', 'en', 'ningún', 'sector', 'de', 'la', 'economía', 'estatal', '.']\n",
      "\n"
     ]
    }
   ],
   "source": [
    "n=5\n",
    "print(\"Shortest: \" + \"#\"*20)\n",
    "print(\"(Shortest) Train dataset: \" + \"*\"*20)\n",
    "view_lengths(train_data.examples, indices=train_sort_len_idx[:n])\n",
    "\n",
    "print(\"(Shortest) Dev dataset: \" + \"*\"*20)\n",
    "view_lengths(dev_data.examples, indices=dev_sort_len_idx[:n])\n",
    "\n",
    "print(\"(Shortest) Test dataset: \" + \"*\"*20)\n",
    "view_lengths(test_data.examples, indices=test_sort_len_idx[:n])\n",
    "\n",
    "print(\"Longest: \" + \"#\"*20)\n",
    "print(\"(Longest) Train dataset: \" + \"*\"*20)\n",
    "view_lengths(train_data.examples, indices=train_sort_len_idx[::-1][:n])\n",
    "\n",
    "print(\"(Longest) Dev dataset: \" + \"*\"*20)\n",
    "view_lengths(dev_data.examples, indices=dev_sort_len_idx[::-1][:n])\n",
    "\n",
    "print(\"(Longest) Test dataset: \" + \"*\"*20)\n",
    "view_lengths(test_data.examples, indices=test_sort_len_idx[::-1][:n])\n",
    "\n"
   ]
  },
  {
   "cell_type": "markdown",
   "metadata": {},
   "source": [
    "### Plotting length distribution\n",
    "\n",
    "After printing a few examples of pairs, it is interesting to plot the length distribution of the different partitions so we can get an intuition on where to set the length cut.\n",
    "\n",
    "From the plots below, we see that the train partition come from a different source than our dev and test partitions. Luckily, this won't be a problem for setting out cut since the training partition is way bigger than our dev/test partitions"
   ]
  },
  {
   "cell_type": "code",
   "execution_count": 15,
   "metadata": {
    "pycharm": {
     "name": "#%%\n"
    }
   },
   "outputs": [],
   "source": [
    "# Get lengths\n",
    "tr_src_len = train_lenghts[:, 0]\n",
    "tr_trg_len = train_lenghts[:, 1]\n",
    "dev_src_len = dev_lenghts[:, 0]\n",
    "dev_trg_len = dev_lenghts[:, 1]\n",
    "ts_src_len = test_lenghts[:, 0]\n",
    "ts_trg_len = test_lenghts[:, 1]\n",
    "\n",
    "# Pair data and labels\n",
    "h_data = [tr_src_len, tr_trg_len, dev_src_len, dev_trg_len, ts_src_len, ts_trg_len]\n",
    "h_labels = ['tr_src_len', 'tr_trg_len', 'dev_src_len', 'dev_trg_len', 'ts_src_len', 'ts_trg_len']"
   ]
  },
  {
   "cell_type": "code",
   "execution_count": 16,
   "metadata": {
    "pycharm": {
     "name": "#%%\n"
    }
   },
   "outputs": [
    {
     "data": {
      "text/plain": "<Figure size 720x720 with 4 Axes>",
      "image/png": "[encoded data removed]"
     },
     "metadata": {
      "needs_background": "light"
     },
     "output_type": "display_data"
    }
   ],
   "source": [
    "def get_hist(ax, data, labels, title, bins=100):\n",
    "    # Draw the plot\n",
    "    ax.hist(data, bins=bins, density=True, label=labels)\n",
    "\n",
    "    # Title and labels\n",
    "    ax.set_title(title)\n",
    "    ax.set_xlabel(\"Lengths\")\n",
    "    ax.set_ylabel(\"Frenquency (normed)\")\n",
    "    ax.legend()\n",
    "\n",
    "\n",
    "plt.rcParams['figure.figsize'] = [10, 10]\n",
    "\n",
    "fig, axs = plt.subplots(4)\n",
    "get_hist(axs[0], h_data, h_labels, f\"Histogram of Train+Dev+Test\")\n",
    "get_hist(axs[1], h_data[0:2], h_labels[0:2], f\"Histogram of Train\")\n",
    "get_hist(axs[2], h_data[2:4], h_labels[2:4], f\"Histogram of Dev\")\n",
    "get_hist(axs[3], h_data[4:6], h_labels[4:6], f\"Histogram of Test\")\n",
    "\n",
    "plt.rcParams['figure.figsize'] = [10, 10]\n",
    "plt.subplots_adjust(hspace=1.0)"
   ]
  },
  {
   "cell_type": "markdown",
   "metadata": {},
   "source": [
    "### Sequence length stats\n",
    "\n",
    "We can also get some statistical values from partitions to get a rough idea of how long is the average sequence or in which range of values we can find 95% of our data.\n",
    "\n",
    "By doing this, we are obtaining a value with which perform the sequence cut in the dataset."
   ]
  },
  {
   "cell_type": "code",
   "execution_count": 17,
   "metadata": {
    "pycharm": {
     "name": "#%%\n"
    }
   },
   "outputs": [
    {
     "name": "stdout",
     "output_type": "stream",
     "text": [
      "Train => Mean length: src=25 | trg=26\n",
      "Dev => Mean length: src=25 | trg=26\n",
      "Test => Mean length: src=25 | trg=26\n"
     ]
    }
   ],
   "source": [
    "# Get means\n",
    "train_mean_len = train_lenghts.mean(axis=0).round().astype(int)\n",
    "dev_mean_len = dev_lenghts.mean(axis=0).round().astype(int)\n",
    "test_mean_len = test_lenghts.mean(axis=0).round().astype(int)\n",
    "\n",
    "print(f\"Train => Mean length: src={train_mean_len[0]} | trg={train_mean_len[1]}\")\n",
    "print(f\"Dev => Mean length: src={dev_mean_len[0]} | trg={dev_mean_len[1]}\")\n",
    "print(f\"Test => Mean length: src={test_mean_len[0]} | trg={test_mean_len[1]}\")"
   ]
  },
  {
   "cell_type": "markdown",
   "metadata": {},
   "source": [
    "### Setting the length threshold\n",
    "\n",
    "Let's say that our model has only memory for sequences with a maximum of 150 tokens. With this value in mind (and the sequence length distribution), we can now exactly know how much data we are leaving behind. \n",
    "\n",
    "This is important so that we can get the most of our model by carefully tuning it with the statistical values that we have calculated. Additionally, since this is an educated process, we will also have a rough idea of how much our model could improve if we increase the computational resources."
   ]
  },
  {
   "cell_type": "code",
   "execution_count": 18,
   "metadata": {
    "pycharm": {
     "name": "#%%\n"
    }
   },
   "outputs": [
    {
     "name": "stdout",
     "output_type": "stream",
     "text": [
      "Percentile Train:\n",
      "- SRC (0-99.65%): 1-77\n",
      "- TRG (0-99.65%): 1-80\n",
      "Percentile Dev:\n",
      "- SRC (0-99.65%): 1-77\n",
      "- TRG (0-99.65%): 1-80\n",
      "Percentile Test:\n",
      "- SRC (0-99.65%): 1-77\n",
      "- TRG (0-99.65%): 1-80\n"
     ]
    }
   ],
   "source": [
    "\n",
    "def get_percentiles(src_trg_lengths, lower_q, upper_q):\n",
    "    p = np.percentile(src_trg_lengths,  [lower_q, upper_q], axis=0)\n",
    "    (lb_tr_src_len, lb_tr_trg_len), (ub_tr_src_len, ub_tr_trg_len) = p\n",
    "\n",
    "    print(f\"- SRC ({lower_q}-{upper_q}%): {int(lb_tr_src_len)}-{int(ub_tr_src_len)}\")\n",
    "    print(f\"- TRG ({lower_q}-{upper_q}%): {int(lb_tr_trg_len)}-{int(ub_tr_trg_len)}\")\n",
    "\n",
    "    return p\n",
    "\n",
    "lower_q, upper_q = (0, 99.65)  # Percentage\n",
    "print(\"Percentile Train:\")\n",
    "tr_p = get_percentiles(train_lenghts, *(lower_q, upper_q))\n",
    "print(\"Percentile Dev:\")\n",
    "dev_p = get_percentiles(dev_lenghts, *(lower_q, upper_q))\n",
    "print(\"Percentile Test:\")\n",
    "ts_p = get_percentiles(test_lenghts, *(lower_q, upper_q))"
   ]
  },
  {
   "cell_type": "markdown",
   "source": [
    "### Vocabulary\n",
    "\n",
    "For the next step we will build the vocabulary. That is, creating a list of unique words/tokens that our model will\n",
    "\"understand\". All the other words that are not in the vocabulary will be marked as `<unk>`.\n",
    "\n",
    "Technically, we cannot use the dev partition for anything but evaluating our model during training. We do this in\n",
    "order to avoid overfitting our model on the \"super secret\" test partition. Hance, we have to build the vocabulary\n",
    "using only the train partition."
   ],
   "metadata": {
    "collapsed": false
   }
  },
  {
   "cell_type": "code",
   "execution_count": 26,
   "outputs": [
    {
     "name": "stdout",
     "output_type": "stream",
     "text": [
      "Train vocab:\n",
      "=> SRC (most common): [('the', 5118), (',', 3615), ('.', 2803), ('of', 2387), ('to', 1714), ('in', 1568), ('a', 1498), ('and', 1478), ('\"', 1378), ('that', 833)]\n",
      "=> SRC (least common): [('enthusiastic', 1), ('lucid', 1), ('42', 1), ('queiroz', 1), ('obliges', 1), ('carries', 1), ('regrets', 1), ('possessing', 1), ('exert', 1), ('maximal', 1), ('prove', 1)]\n",
      "=> TRG (most common): [('de', 4726), (',', 4183), ('la', 2801), ('.', 2753), ('el', 2402), ('en', 2153), ('que', 1950), ('\"', 1498), ('y', 1456), ('a', 1428)]\n",
      "=> TRG (least common): [('entusiasmado', 1), ('dixit', 1), ('lúcido', 1), ('42', 1), ('relativizado', 1), ('queiroz', 1), ('obliga', 1), ('lamenta', 1), ('intención', 1), ('máxima', 1), ('dejarles', 1)]\n"
     ]
    }
   ],
   "source": [
    "# Define Train fields\n",
    "train_src = data.Field(tokenize='spacy', tokenizer_language=SRC_LANG, init_token=SOS_WORD, eos_token=EOS_WORD, lower=True)\n",
    "train_trg = data.Field(tokenize='spacy', tokenizer_language=TRG_LANG, init_token=SOS_WORD, eos_token=EOS_WORD, lower=True)\n",
    "\n",
    "# Build vocabulary\n",
    "train_src.build_vocab(train_data.src)\n",
    "train_trg.build_vocab(train_data.trg)"
   ],
   "metadata": {
    "collapsed": false,
    "pycharm": {
     "name": "#%%\n"
    }
   }
  },
  {
   "cell_type": "markdown",
   "source": [
    "#### Vocabulary size\n",
    "\n",
    "Once the vocabulary is built, we need to check its size and see if we need to perform some refinement.\n",
    "\n",
    "Anything between 10k to 15k seems reasonable. We could go for even 30k for big models."
   ],
   "metadata": {
    "collapsed": false
   }
  },
  {
   "cell_type": "code",
   "execution_count": 27,
   "outputs": [
    {
     "name": "stdout",
     "output_type": "stream",
     "text": [
      "Words in SRC vocabulary: 9401\n",
      "Words in TRG vocabulary: 11829\n"
     ]
    }
   ],
   "source": [
    "print(f\"Words in SRC vocabulary: {len(train_src.vocab.freqs)}\")\n",
    "print(f\"Words in TRG vocabulary: {len(train_trg.vocab.freqs)}\")"
   ],
   "metadata": {
    "collapsed": false,
    "pycharm": {
     "name": "#%%\n"
    }
   }
  },
  {
   "cell_type": "markdown",
   "source": [
    "#### Vocabulary refinement\n",
    "\n",
    "We can use all unique tokens found in the train partition as our \"vocabulary\", but this is usually not a good idea since\n",
    "many of the less frequent words in the vocabulary will be typos, personal names, words in another languages, etc.\n",
    "Moreover, using everything as our vocabulary would notable increase the resources needed.\n",
    "\n",
    "Luckily, there is a really simple solution to deal with this problem: Using the `k` most frequent words.\n",
    "\n",
    "From the words below, we see that everything is reasonable as since the vocabulary is not that big, we could leave\n",
    "it as is."
   ],
   "metadata": {
    "collapsed": false,
    "pycharm": {
     "name": "#%% md\n"
    }
   }
  },
  {
   "cell_type": "code",
   "execution_count": 30,
   "outputs": [
    {
     "name": "stdout",
     "output_type": "stream",
     "text": [
      "Train vocab:\n",
      "=> SRC (most common): [('the', 5118), (',', 3615), ('.', 2803), ('of', 2387), ('to', 1714), ('in', 1568), ('a', 1498), ('and', 1478), ('\"', 1378), ('that', 833), ('is', 761), ('for', 599), ('on', 549), ('-', 502), ('it', 486), ('was', 435), ('with', 423), ('by', 381), ('he', 374), ('not', 372), ('at', 331), ('be', 326), (\"'s\", 321), ('as', 319), ('are', 307), ('from', 296), ('this', 277), ('has', 262), ('an', 250), ('have', 236), ('his', 225), ('will', 221), ('said', 221), ('which', 204), ('but', 202), ('we', 186), ('would', 185), ('i', 182), ('one', 178), ('were', 174), (')', 172), ('who', 172), ('or', 171), ('(', 171), ('you', 170), ('its', 164), ('there', 163), ('they', 160), ('had', 156), ('their', 154)]\n",
      "=> SRC (least common): [('attacker', 1), ('selector', 1), ('assures', 1), ('lillois', 1), ('performances', 1), ('justified', 1), ('lille', 1), ('marks', 1), ('denis', 1), ('pleasing', 1), ('encouraged', 1), ('victorious', 1), ('necessarily', 1), ('participates', 1), ('mathieu', 1), ('debuchy', 1), ('yohan', 1), ('cabaye', 1), ('adil', 1), ('rami', 1), ('pure', 1), ('bonhomie', 1), ('inding', 1), ('ass', 1), ('neighbour', 1), ('knysna', 1), ('laurent', 1), ('thunderbolt', 1), ('enthuses', 1), ('technician', 1), ('2014', 1), ('belgians', 1), ('22h00', 1), ('optimistically', 1), ('realism', 1), ('shadow', 1), ('qualify', 1), ('conquer', 1), ('consoled', 1), ('illuminated', 1), ('enthusiastic', 1), ('lucid', 1), ('42', 1), ('queiroz', 1), ('obliges', 1), ('carries', 1), ('regrets', 1), ('possessing', 1), ('exert', 1), ('maximal', 1), ('prove', 1)]\n",
      "=> TRG (most common): [('de', 4726), (',', 4183), ('la', 2801), ('.', 2753), ('el', 2402), ('en', 2153), ('que', 1950), ('\"', 1498), ('y', 1456), ('a', 1428), ('los', 1354), ('un', 1031), ('se', 937), ('del', 890), ('las', 751), ('una', 718), ('por', 713), ('con', 674), ('no', 560), ('para', 543), ('su', 489), ('es', 402), ('al', 375), ('más', 301), ('como', 291), ('lo', 264), ('ha', 232), ('(', 200), (')', 199), ('pero', 190), ('sus', 186), ('sobre', 171), ('o', 170), (':', 158), ('también', 156), ('sin', 146), ('años', 143), ('desde', 136), ('entre', 133), ('le', 129), ('ya', 123), ('si', 122), ('dijo', 119), ('fue', 117), ('han', 113), ('millones', 112), ('este', 109), ('hasta', 108), ('está', 106), ('solo', 102)]\n",
      "=> TRG (least common): [('situarme', 1), ('saint-denis', 1), ('brillar', 1), ('olvidarnos', 1), ('campañas', 1), ('victoriosas', 1), ('fan', 1), ('mathieu', 1), ('debuchy', 1), ('yohan', 1), ('cabaye', 1), ('adil', 1), ('rami', 1), ('acabamos', 1), ('enfrentar', 1), ('sencillez', 1), ('disputar', 1), ('traumatismo', 1), ('knysna', 1), ('laurent', 1), ('formidable', 1), ('entusiasmo', 1), ('asistirá', 1), ('encantado', 1), ('2014', 1), ('belgas', 1), ('hambrientos', 1), ('22h00', 1), ('transcurran', 1), ('seremos', 1), ('selecçao', 1), ('cualificarse', 1), ('separan', 1), ('derrotar', 1), ('decidida', 1), ('dominó', 1), ('valioso', 1), ('tranquilidad', 1), ('luminoso', 1), ('pasarán', 1), ('entusiasmado', 1), ('dixit', 1), ('lúcido', 1), ('42', 1), ('relativizado', 1), ('queiroz', 1), ('obliga', 1), ('lamenta', 1), ('intención', 1), ('máxima', 1), ('dejarles', 1)]\n"
     ]
    }
   ],
   "source": [
    "n=50\n",
    "\n",
    "print(\"Train vocab:\")\n",
    "print(\"=> SRC (most common): \" + str(train_src.vocab.freqs.most_common(n)))\n",
    "print(\"=> SRC (least common): \" + str(train_src.vocab.freqs.most_common()[-n-1:]))\n",
    "print(\"=> TRG (most common): \" + str(train_trg.vocab.freqs.most_common(n)))\n",
    "print(\"=> TRG (least common): \" + str(train_trg.vocab.freqs.most_common()[-n-1:]))"
   ],
   "metadata": {
    "collapsed": false,
    "pycharm": {
     "name": "#%%\n"
    }
   }
  },
  {
   "cell_type": "markdown",
   "source": [
    "## Saving preprocessed dataset\n",
    "\n",
    "Since preprocessing and tokenizing a big dataset can take time, I recommend to save it always, if possible, in other\n",
    "to save us some time when debugging our model.\n",
    "\n",
    "For torchtext, we'll need to save the preprocessed examples for the train, dev and test partitions, along with their\n",
    "fields. Depending on the case we can ignore the last part. Here, I'll save only the train fields with their\n",
    "vocabularies."
   ],
   "metadata": {
    "collapsed": false
   }
  },
  {
   "cell_type": "code",
   "execution_count": null,
   "outputs": [],
   "source": [],
   "metadata": {
    "collapsed": false,
    "pycharm": {
     "name": "#%%\n"
    }
   }
  }
 ],
 "metadata": {
  "kernelspec": {
   "display_name": "Python 3",
   "language": "python",
   "name": "python3"
  },
  "language_info": {
   "codemirror_mode": {
    "name": "ipython",
    "version": 3
   },
   "file_extension": ".py",
   "mimetype": "text/x-python",
   "name": "python",
   "nbconvert_exporter": "python",
   "pygments_lexer": "ipython3",
   "version": "3.8.5"
  }
 },
 "nbformat": 4,
 "nbformat_minor": 1
}