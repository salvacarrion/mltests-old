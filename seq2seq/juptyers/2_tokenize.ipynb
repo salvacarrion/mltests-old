{
 "cells": [
  {
   "cell_type": "code",
   "execution_count": 20,
   "metadata": {
    "pycharm": {
     "name": "#%%\n"
    },
    "slideshow": {
     "slide_type": "slide"
    }
   },
   "outputs": [],
   "source": [
    "import sys\n",
    "sys.path.append(\"..\")\n",
    "\n",
    "import torch\n",
    "import torch.nn as nn\n",
    "import torch.optim as optim\n",
    "\n",
    "from torchtext import data, datasets\n",
    "import pandas as pd\n",
    "from tqdm import tqdm\n",
    "\n",
    "import spacy\n",
    "import numpy as np\n",
    "\n",
    "import random\n",
    "import math\n",
    "import time\n",
    "\n",
    "from seq2seq import utils, helpers\n",
    "import re\n",
    "import os\n",
    "import pickle\n",
    "\n",
    "# Import the libraries\n",
    "import matplotlib.pyplot as plt\n",
    "import seaborn as sns"
   ]
  },
  {
   "cell_type": "code",
   "execution_count": 21,
   "metadata": {
    "pycharm": {
     "name": "#%%\n"
    }
   },
   "outputs": [],
   "source": [
    "DATASET_PATH = f\"../.data/miguel\""
   ]
  },
  {
   "cell_type": "markdown",
   "metadata": {},
   "source": [
    "## Load dataset"
   ]
  },
  {
   "cell_type": "code",
   "execution_count": 22,
   "metadata": {
    "pycharm": {
     "name": "#%%\n"
    }
   },
   "outputs": [],
   "source": [
    "def load_dataset(filename_src, filename_trg):\n",
    "    file_src = open(filename_src, encoding='utf-8').read().split('\\n')\n",
    "    file_trg = open(filename_trg, encoding='utf-8').read().split('\\n')\n",
    "    assert len(file_src) == len(file_trg)\n",
    "    return file_src, file_trg"
   ]
  },
  {
   "cell_type": "code",
   "execution_count": 23,
   "metadata": {
    "pycharm": {
     "name": "#%%\n"
    }
   },
   "outputs": [],
   "source": [
    "(train_src, train_trg) = load_dataset(filename_src=f\"{DATASET_PATH}/europarl.en\", filename_trg=f\"{DATASET_PATH}/europarl.es\")\n",
    "(dev_src, dev_trg) = load_dataset(filename_src=f\"{DATASET_PATH}/dev.en\", filename_trg=f\"{DATASET_PATH}/dev.es\")\n",
    "(test_src, test_trg) = load_dataset(filename_src=f\"{DATASET_PATH}/test.en\", filename_trg=f\"{DATASET_PATH}/test.es\")"
   ]
  },
  {
   "cell_type": "code",
   "execution_count": 24,
   "outputs": [
    {
     "name": "stdout",
     "output_type": "stream",
     "text": [
      "Train => Total sentences: SRC=1960642 | TRG=1960642\n",
      "Dev => Total sentences: SRC=3004 | TRG=3004\n",
      "Test => Total sentences: SRC=3001 | TRG=3001\n"
     ]
    }
   ],
   "source": [
    "print(f\"Train => Total sentences: SRC={len(train_src)} | TRG={len(train_trg)}\")\n",
    "print(f\"Dev => Total sentences: SRC={len(dev_src)} | TRG={len(dev_trg)}\")\n",
    "print(f\"Test => Total sentences: SRC={len(test_src)} | TRG={len(test_trg)}\")"
   ],
   "metadata": {
    "collapsed": false,
    "pycharm": {
     "name": "#%%\n"
    }
   }
  },
  {
   "cell_type": "markdown",
   "metadata": {},
   "source": [
    "## Qualitative review of the dataset\n",
    "\n",
    "\n",
    "From a qualitative inspection of the raw files, I have encountered the following problems:\n",
    "\n",
    "Train:\n",
    "- Two files (en, es)\n",
    "- `<0 `\n",
    "- Chars like: `NBSP`\n",
    "- Short sentences, around 50-100 words\n",
    "- Sentences starting with `(`\n",
    "- UTF-8\n",
    "- No tokenization done (like replacing numbers with `NUM`, dates with `DATE` or things like that)\n",
    "- Words/Sentences hard to translate: `(H-0521/00)`, `78/319/CEE`\n",
    "- Last line empty\n",
    "- Some sentences end with period, others don't\n",
    "\n",
    "Dev:\n",
    "- Two files (en, es)\n",
    "- Chars like: `NBSP`, `ZWSP`\n",
    "- Short sentences, around 50-100 words\n",
    "- Sentences starting with `\"`\n",
    "- UTF-8\n",
    "- No tokenization done (like replacing numbers with `NUM`, dates with `DATE` or things like that)\n",
    "- Words/Sentences hard to translate: `Wolfgang Schäuble`, `Hašek`\n",
    "- Last line empty\n",
    "- Some sentences end with period, others don't\n",
    "\n",
    "\n",
    "Test:\n",
    "- Two files (en, es)\n",
    "- `<seg id=` tags\n",
    "- Chars like: `NBSP`, `ZWSP`\n",
    "- Short sentences, around 50-100 words\n",
    "- Sentences starting with `\"`\n",
    "- UTF-8\n",
    "- No tokenization done (like replacing numbers with `NUM`, dates with `DATE` or things like that)\n",
    "- Words/Sentences hard to translate: `Nikolaev`, `www.kpks.cz`, `(0-0)`\n",
    "- Last line empty\n",
    "- Some sentences end with period, others don't\n",
    "- Multiple formats for datates: `20.12.2012`\n",
    "\n",
    "Sizes:\n",
    "\n",
    "```bash\n",
    "-rw-r--r-- 1 salvacarrion salvacarrion 373K ene 23  2013 dev.en\n",
    "-rw-r--r-- 1 salvacarrion salvacarrion 417K ene 23  2013 dev.es\n",
    "-rw-rw-r-- 1 salvacarrion salvacarrion 281M mar 31  2020 europarl.en\n",
    "-rw-rw-r-- 1 salvacarrion salvacarrion 310M mar 31  2020 europarl.es\n",
    "-rw-r--r-- 1 salvacarrion salvacarrion 329K mar 31  2020 test.en\n",
    "-rw-r--r-- 1 salvacarrion salvacarrion 374K mar 31  2020 test.es\n",
    "```"
   ]
  },
  {
   "cell_type": "code",
   "execution_count": 25,
   "outputs": [],
   "source": [
    "def view_raw(src_raw, trg_raw, indices):\n",
    "    for i, idx in enumerate(indices):\n",
    "        (src, trg) = src_raw[idx], trg_raw[idx]\n",
    "        print(f\"#{i+1}: \" + \"-\"*20)\n",
    "        print(f\"src => {src}\")\n",
    "        print(f\"trg => {trg}\")\n",
    "    print(\"\")\n"
   ],
   "metadata": {
    "collapsed": false,
    "pycharm": {
     "name": "#%%\n"
    }
   }
  },
  {
   "cell_type": "code",
   "execution_count": 26,
   "metadata": {
    "pycharm": {
     "name": "#%%\n"
    }
   },
   "outputs": [
    {
     "name": "stdout",
     "output_type": "stream",
     "text": [
      "Head: ####################\n",
      "(Firsts) Train dataset: ********************\n",
      "#1: --------------------\n",
      "src => Resumption of the session\n",
      "trg => Reanudación del período de sesiones\n",
      "#2: --------------------\n",
      "src => I declare resumed the session of the European Parliament adjourned on Friday 17 December 1999, and I would like once again to wish you a happy new year in the hope that you enjoyed a pleasant festive period.\n",
      "trg => Declaro reanudado el período de sesiones del Parlamento Europeo, interrumpido el viernes 17 de diciembre pasado, y reitero a Sus Señorías mi deseo de que hayan tenido unas buenas vacaciones.\n",
      "#3: --------------------\n",
      "src => Although, as you will have seen, the dreaded 'millennium bug' failed to materialise, still the people in a number of countries suffered a series of natural disasters that truly were dreadful.\n",
      "trg => Como todos han podido comprobar, el gran \"efecto del año 2000\" no se ha producido. En cambio, los ciudadanos de varios de nuestros países han sido víctimas de catástrofes naturales verdaderamente terribles.\n",
      "\n",
      "(Firsts) Dev dataset: ********************\n",
      "#1: --------------------\n",
      "src => Parliament Does Not Support Amendment Freeing Tymoshenko\n",
      "trg => El parlamento no apoyó una enmienda para liberar a Tymoshenko\n",
      "#2: --------------------\n",
      "src => Today, the Ukraine parliament dismissed, within the Code of Criminal Procedure amendment, the motion to revoke an article based on which the opposition leader, Yulia Tymoshenko, was sentenced.\n",
      "trg => El Parlamento de Ucrania ha rechazado hoy la propuesta de derogar la enmienda de la sección del Código Penal en la que se condena a la líder de la oposición Yulia Tymoshenko.\n",
      "#3: --------------------\n",
      "src => The amendment that would lead to freeing the imprisoned former Prime Minister was revoked during second reading of the proposal for mitigation of sentences for economic offences.\n",
      "trg => La modificación abriría las puertas a la excarcelación de la exprimer ministra, pero los parlamentarios rechazaron la propuesta de reducir las penas por delitos económicos en la segunda lectura.\n",
      "\n",
      "(Firsts) Test dataset: ********************\n",
      "#1: --------------------\n",
      "src => A Republican strategy to counter the re-election of Obama \n",
      "trg => Una estrategia republicana para obstaculizar la reelección de Obama\n",
      "#2: --------------------\n",
      "src => Republican leaders justified their policy by the need to combat electoral fraud.\n",
      "trg => Los dirigentes republicanos justificaron su política por la necesidad de luchar contra el fraude electoral.\n",
      "#3: --------------------\n",
      "src => However, the Brennan Centre considers this a myth, stating that electoral fraud is rarer in the United States than the number of people killed by lightning.\n",
      "trg => Ahora bien, el Centro Brennan considera esto último un mito y afirma que el fraude electoral es menos frecuente en los Estados Unidos que el número de personas que mueren a causa de la caída de un rayo.\n",
      "\n",
      "Tail: ####################\n",
      "(Lasts) Train dataset: ********************\n",
      "#1: --------------------\n",
      "src => \n",
      "trg => \n",
      "#2: --------------------\n",
      "src => (The sitting was closed at 10.50 a.m.)\n",
      "trg => (Se levanta la sesión a las 10.50 horas)\n",
      "#3: --------------------\n",
      "src => I declare the session of the European Parliament adjourned.\n",
      "trg => Declaro interrumpido el período de sesiones del Parlamento Europeo.\n",
      "\n",
      "(Lasts) Dev dataset: ********************\n",
      "#1: --------------------\n",
      "src => \n",
      "trg => \n",
      "#2: --------------------\n",
      "src => A good idea, provided that it will, prove realistic this time.\n",
      "trg => Una buena idea, siempre que, esta vez, sea realista.\n",
      "#3: --------------------\n",
      "src => As already in Zenica, the Portuguese would plan to exert maximal pressure on the Bosnians from the start, to \"give them no time to think.\"\n",
      "trg => Al igual que en Zenica, los portugueses irán con la intención de ejercer, desde el principio, una presión máxima sobre los bosnios para \"no dejarles tiempo a pensar\".\n",
      "\n",
      "(Lasts) Test dataset: ********************\n",
      "#1: --------------------\n",
      "src => \n",
      "trg => \n",
      "#2: --------------------\n",
      "src => \"Maybe I'll call some friends so we can have a laugh together\" said Samira Ford, 20-year-old communications student.\n",
      "trg => \"Tal vez llame a algunos amigos para que nos riamos juntos\", comentó Samira Ford, estudiante de comunicaciones de 20 años.\n",
      "#3: --------------------\n",
      "src => <seg id=\"40\">Some said they plan to go to \"end of the world\" parties.\n",
      "trg => <seg id=\"40\">Varios dijeron que piensan ir a fiestas \"del fin del mundo\".\n",
      "\n"
     ]
    }
   ],
   "source": [
    "n=3\n",
    "print(\"Head: \" + \"#\"*20)\n",
    "print(\"(Firsts) Train dataset: \" + \"*\"*20)\n",
    "view_raw(train_src, train_trg, indices=range(0, n))\n",
    "\n",
    "print(\"(Firsts) Dev dataset: \" + \"*\"*20)\n",
    "view_raw(dev_src, dev_trg, indices=range(0, n))\n",
    "\n",
    "print(\"(Firsts) Test dataset: \" + \"*\"*20)\n",
    "view_raw(test_src, test_trg, indices=range(0, n))\n",
    "\n",
    "print(\"Tail: \" + \"#\"*20)\n",
    "print(\"(Lasts) Train dataset: \" + \"*\"*20)\n",
    "view_raw(train_src, train_trg, indices=range(-1,-n-1,-1))\n",
    "\n",
    "print(\"(Lasts) Dev dataset: \" + \"*\"*20)\n",
    "view_raw(dev_src, dev_trg, indices=range(-1,-n-1,-1))\n",
    "\n",
    "print(\"(Lasts) Test dataset: \" + \"*\"*20)\n",
    "view_raw(test_src, test_trg, indices=range(-1,-n-1,-1))\n"
   ]
  },
  {
   "cell_type": "markdown",
   "source": [
    "## Preprocessing dataset\n",
    "\n",
    "From the results above we need to do the following steps in order to clean the input data:\n",
    "\n",
    "- Remove last empty row from: Train, Dev and Test\n",
    "- Remove XML tags\n"
   ],
   "metadata": {
    "collapsed": false
   }
  },
  {
   "cell_type": "code",
   "source": [
    "def preprocess_dataset(train_src, train_trg):\n",
    "    train_src_new, train_trg_new = [], []\n",
    "    p_xml = re.compile(\"^<seg id=\\\"\\d+\\\">\")\n",
    "    p_whitespace = re.compile(\" +\")\n",
    "\n",
    "    total = len(train_src)\n",
    "    for i in tqdm(range(total), total=total):\n",
    "        src, trg = train_src[i], train_trg[i]\n",
    "\n",
    "        # Remove html\n",
    "        src = p_xml.sub('', src)\n",
    "        trg = p_xml.sub('', trg)\n",
    "\n",
    "        # Remove repeated whitespaces \"   \" => \" \"\n",
    "        src = p_whitespace.sub(' ', src)\n",
    "        trg = p_whitespace.sub(' ', trg)\n",
    "\n",
    "        # Strip whitespace\n",
    "        src = src.strip()\n",
    "        trg = trg.strip()\n",
    "\n",
    "        # Remove empty line\n",
    "        if len(src) > 0 and len(trg) > 0:\n",
    "            train_src_new.append(src)\n",
    "            train_trg_new.append(trg)\n",
    "    return train_src_new, train_trg_new"
   ],
   "metadata": {
    "collapsed": false,
    "pycharm": {
     "name": "#%%\n"
    }
   },
   "execution_count": null,
   "outputs": []
  },
  {
   "cell_type": "code",
   "source": [
    "train_src, train_trg = preprocess_dataset(train_src, train_trg)\n",
    "dev_src, dev_trg = preprocess_dataset(dev_src, dev_trg)\n",
    "test_src, test_trg = preprocess_dataset(test_src, test_trg)\n",
    "\n",
    "\n",
    "# Convert to pandas\n",
    "data_raw = {lang_src: [line for line in file_src], lang_trg: [line for line in file_trg]}\n",
    "data_df = pd.DataFrame(data_raw, columns=[lang_src, lang_trg])"
   ],
   "metadata": {
    "collapsed": false,
    "pycharm": {
     "name": "#%%\n"
    }
   },
   "execution_count": null,
   "outputs": []
  },
  {
   "cell_type": "code",
   "execution_count": 27,
   "metadata": {
    "pycharm": {
     "name": "#%%\n"
    }
   },
   "outputs": [],
   "source": [
    "train_lenghts = np.array([(len(src), len(trg)) for src, trg in zip(train_src, train_trg)])\n",
    "dev_lenghts = np.array([(len(src), len(trg)) for src, trg in zip(dev_src, dev_trg)])\n",
    "test_lenghts = np.array([(len(src), len(trg)) for src, trg in zip(test_src, test_trg)])"
   ]
  },
  {
   "cell_type": "code",
   "execution_count": 28,
   "outputs": [],
   "source": [
    "# Sort columns independently (ascending)\n",
    "train_sort_len_idx = np.argsort(train_lenghts, axis=0)\n",
    "dev_sort_len_idx = np.argsort(dev_lenghts, axis=0)\n",
    "test_sort_len_idx = np.argsort(test_lenghts, axis=0)"
   ],
   "metadata": {
    "collapsed": false,
    "pycharm": {
     "name": "#%%\n"
    }
   }
  },
  {
   "cell_type": "code",
   "execution_count": 29,
   "metadata": {
    "pycharm": {
     "name": "#%%\n"
    }
   },
   "outputs": [
    {
     "name": "stdout",
     "output_type": "stream",
     "text": [
      "Train => Range length: src=0-3950 | trg=0-4278\n",
      "Dev => Range length: src=0-723 | trg=0-728\n",
      "Test => Range length: src=0-507 | trg=0-705\n"
     ]
    }
   ],
   "source": [
    "train_min_len = train_lenghts.min(axis=0).astype(int)\n",
    "dev_min_len = dev_lenghts.min(axis=0).astype(int)\n",
    "test_min_len = test_lenghts.min(axis=0).astype(int)\n",
    "\n",
    "train_max_len = train_lenghts.max(axis=0).astype(int)\n",
    "dev_max_len = dev_lenghts.max(axis=0).astype(int)\n",
    "test_max_len = test_lenghts.max(axis=0).astype(int)\n",
    "\n",
    "\n",
    "print(f\"Train => Range length: src={train_min_len[0]}-{train_max_len[0]} | trg={train_min_len[1]}-{train_max_len[1]}\")\n",
    "print(f\"Dev => Range length: src={dev_min_len[0]}-{dev_max_len[0]} | trg={dev_min_len[1]}-{dev_max_len[1]}\")\n",
    "print(f\"Test => Range length: src={test_min_len[0]}-{test_max_len[0]} | trg={test_min_len[1]}-{test_max_len[1]}\")\n",
    "\n"
   ]
  },
  {
   "cell_type": "code",
   "execution_count": 30,
   "outputs": [],
   "source": [
    "def view_lengths(raw, indices):\n",
    "    for i, idx in enumerate(indices):\n",
    "        src, trg = raw[idx[0]], raw[idx[1]]\n",
    "        print(f\"#{i+1}: \" + \"-\"*20)\n",
    "        print(f\"=> src (len={len(src)}; idx={idx[0]}) => {src}\")\n",
    "        print(f\"=> trg (len={len(trg)}; idx={idx[1]}) => {trg}\")\n",
    "    print(\"\")"
   ],
   "metadata": {
    "collapsed": false,
    "pycharm": {
     "name": "#%%\n"
    }
   }
  },
  {
   "cell_type": "code",
   "execution_count": 31,
   "outputs": [
    {
     "name": "stdout",
     "output_type": "stream",
     "text": [
      "Shortest: ####################\n",
      "(Shortest) Train dataset: ********************\n",
      "#1: --------------------\n",
      "=> src (len=0; idx=1960641) => \n",
      "=> trg (len=0; idx=1960641) => \n",
      "#2: --------------------\n",
      "=> src (len=1; idx=612155) => .\n",
      "=> trg (len=1; idx=629620) => .\n",
      "#3: --------------------\n",
      "=> src (len=1; idx=611971) => .\n",
      "=> trg (len=1; idx=629748) => .\n",
      "\n",
      "(Shortest) Dev dataset: ********************\n",
      "#1: --------------------\n",
      "=> src (len=0; idx=3003) => \n",
      "=> trg (len=0; idx=3003) => \n",
      "#2: --------------------\n",
      "=> src (len=4; idx=1880) => Debt\n",
      "=> trg (len=5; idx=2113) => Peru:\n",
      "#3: --------------------\n",
      "=> src (len=5; idx=2113) => Peru:\n",
      "=> trg (len=6; idx=179) => Review\n",
      "\n",
      "(Shortest) Test dataset: ********************\n",
      "#1: --------------------\n",
      "=> src (len=0; idx=3000) => \n",
      "=> trg (len=0; idx=3000) => \n",
      "#2: --------------------\n",
      "=> src (len=4; idx=1570) => Why?\n",
      "=> trg (len=4; idx=2307) => Yes.\n",
      "#3: --------------------\n",
      "=> src (len=4; idx=2307) => Yes.\n",
      "=> trg (len=7; idx=2308) => And no.\n",
      "\n",
      "Longest: ####################\n",
      "(Longest) Train dataset: ********************\n",
      "#1: --------------------\n",
      "=> src (len=3950; idx=1726867) => B4-0012/99 - O-0009/98 and B4-0013/98 - O-0010/98, by Mrs Maij-Weggen and others, on behalf of the Group of the European People's Party, to the Council and the Commission, on the EU's attitude to Nigeria; -B4-0020/98 - O-0028/98 and B4-0122/98 - O-0029/98, by Mr Bertens, on behalf of the Group of the European Liberal Democrat and Reform Party, to the Council and to the Commission, on the EU's attitude to Nigeria; -B4-0123/98 - O-0030/98 and B4-0124/98 - O-0031/98, by Mr Müller and others, on behalf of the Green Group in the European Parliament, on the European Union's attitude to Nigeria; -B4-0127/98 - O-0035/98 by Mr Carnero González and Mr Pettinari, on behalf of the Confederal Group of the European United Left - Nordic Green Left, to the Council, on relations between the European Union and Nigeria; -B4-0128/98 - O-0036/98 and B4-0129/98 - O-0037/98, by Mr Macartney and Mr Hory, to the Council and to the Commission, on the European Union's attitude to Nigeria; -B4-0134/98 - O-0042/98 and B4-0135/98 - O-0043/98, by Mr Andrews and Mr Girão Pereira, on behalf of the Union for Europe Group, to the Council and to the Commission, on the European Union's attitude to Nigeria; -B4-0137/98 - O-0046/98 and B4-0169/98 - O-0051/98, by Mrs Kinnock and Mr Vecchi, on behalf of the Group of the Party of European Socialists, to the Council and to the Commission, on the situation in Nigeria; -B4-0014/98 - O-0011/98 and B4-0015/98 - O-0012/98 by Mrs Maij-Weggen and Mrs Oomen-Ruijten, on behalf of the Group of the European People's Party, to the Council and to the Commission, on human rights violations in Burma; -B4-0018/98 - O-0026/98 and B4-0019/98 - O-0027/98, by Mr Bertens, on behalf of the Group of the European Liberal Democrat and Reform Party, to the Council and to the Commission, on human rights violations in Burma; -B4-0126/98 - O-0034/98 by Mr Pettinari and Mr Vinci, on behalf of the Confederal Group of the European United Left - Nordic Green Left, to the Council, on relations between the European Union and Burma; -B4-0131/98 - O-0039/98 by Mr Dupuis, on behalf of the Group of the European Radical Alliance, to the Commission, on human rights violations in Burma; -B4-0133/98 - O-0041/98 by Mr Telkämper and others, on behalf of the Green Group in the European Parliament, to the Commission, on human rights violations in Burma; -B4-0136/98 - O-0045/98 and B4-0141/98 - O-0050/98, by Mrs Kinnock and Mr Vecchi, on behalf of the Group of the Party of European Socialists, to the Council and to the Commission, on the situation in Burma; -B4-0139/98 - O-0048/98 by Mrs van Bladel, on behalf of the Union for Europe Group, to the Council, on the human rights situation in Burma; -B4-0011/98 - O-0182/98 by Mr Bertens, on behalf of the Group of the European Liberal Democrat and Reform Party, to the Council, on the EU position at the 54th session of the United Nations Human Rights Commission in Geneva; -B4-0125/98 - O-0033/98 by Mr Carnero González and others, on behalf of the Confederal Group of the European United Left - Nordic Green Left, to the Council, on the United Nations Human Rights Commission; -B4-0130/98 - O-0038/98 by Mr Dupuis, on behalf of the Group of the European Radical Alliance, to the Council, on the EU's position at the 54th session of the United Nations Human Rights Commission in Geneva; -B4-0132/98 - O-0040/98 by Mrs Aglietta and others, on behalf of the Green Group in the European Parliament, to the Council, on the EU's position at the 54th session of the United Nations Human Rights Commission in Geneva; -B4-0138/98 - O-0047/98 by Mrs van Bladel, on behalf of the Union for Europe Group, to the Council, on the 54th session of the United Nations Human Rights Commission; -B4-0140/98 - O-0049/98 by Mr Barros Moura, on behalf of the Group of the Party of European Socialists, to the Council, on the EU's position at the 54th session of the United Nations Human Rights Commission in Geneva.\n",
      "=> trg (len=3941; idx=1683207) => B4-0825/97 by Mrs André-Léonard, Mr Fassa and Mr Bertens, on behalf of the Group of the European Liberal, Democratic and Reformist Party, on the withdrawal of the UN investigation team from Congo; -B4-0832/97 by Mrs Aelvoet and Mr Telkämper, on behalf of the Green Group in the European Parliament, on the UN mission of inquiry in Congo; -B4-0850/97 by Mr Dury and Mr Swoboda, on behalf of the Group of the Party of European Socialists, on the refusal to allow a UN mission of inquiry in the Democratic Republic of Congo; -B4-0856/97 by Mr Hory, Mr Dell'Alba and Mr Dupuis, on behalf of the Group of the European Radical Alliance, on the UN mission of inquiry into human rights violations in the Democratic Republic of the Congo; -B4-0863/97 by Mr Chanterie, Mr Stasi, Mr Tindemans, Mr Verwaerde, Mrs Maij-Weggen and Mrs Oomen-Ruijten, on behalf of the Group of the European People's Party, on the situation in the Democratic Republic of Congo; -B4-0877/97 by Mr Pettinari, Mr Carnero González, Mr Ojala and Mr Sjöstedt, on behalf of the Group of the European United Left - Nordic Green Left, on the UN International mission of inquiry into human rights violations in the former Zaire; -B4-0890/97 by Mr Pasty and Mr Azzolini, on behalf of the Group Union for Europe, on the situation in the Democratic Republic of the Congo; -B4-0830/97 by Mr Bertens and Mrs Larive, on behalf of the Group of the European Liberal, Democratic and Reformist Party, on the European Union's position on the promotion of human rights in China; -B4-0847/97 by Mr Swoboda, on behalf of the Group of the Party of European Socialists, on promotion of human rights in China; -B4-0855/97 by Mr Dupuis, Mr Dell'Alba and Mr Hory, on behalf of the Group of the European Radical Alliance, on the EU's position on the promotion of human rights in China; -B4-0862/97 by Mr McMillan-Scott and Mr Habsburg-Lothringen, on behalf of the Group of the European People's Party, on the EU's position on the promotion of human rights in China; -B4-0872/97 by Mrs Aglietta and Mrs Schroedter, on behalf of the Green Group in the European Parliament, on the promotion of human rights in China; -B4-0828/97 by Mrs Cars and Mr La Malfa, on behalf of the Group of the European Liberal, Democratic and Reformist Party, on the situation in Kosovo; -B4-0837/97 by Mrs Aelvoet, Mr Cohn-Bendit, Mr Gahrton, Mrs Müller and Mr Tamino, on behalf of the Green Group in the European Parliament, on the situation in Kosovo; -B4-0848/97 by Mr Swoboda, on behalf of the Group of the Party of European Socialists, on the situation in Kosovo; -B4-0854/97 by Mr Dupuis and Mr Dell'Alba, on behalf of the Group of the European Radical Alliance, on the situation in Kosovo; -B4-0865/97 by Mrs Oostlander, Mrs Pack, Mr Habsburg-Lothringen, Mrs Maij-Weggen, Mr Posselt and Mrs OomenRuijten, on behalf of the Group of the European People's Party, on the situation in Kosovo; -B4-0878/97 by Mr Manisco, Mr Sjöstedt, Mrs Sierra González and Mr Mohamed Alí, on behalf of the Group of the European United Left - Nordic Green Left, on human rights violations in Kosovo; -B4-0858/97 by Mr Pradier, on behalf of the Group of the European Radical Alliance, on the conditions in Khiam detention centre; -B4-0864/97 by Mr Soulier and Mrs Peijs, on behalf of the Group of the European People's Party, on the situation of Souha Bechara, held in prison in southern Lebanon; -B4-0879/97 by Mr Wurtz, Mrs Castellina, Mr Marset Campos, Mrs Miranda, Mr Ephremidis, Mr Alavanos and Mrs Seppänen, on behalf of the Group of the European United Left - Nordic Green Left, on the release of Souha Bechara; -B4-0849/97 by Mrs Hoff, Mr Wiersma, Mr Bösch and Mr Swoboda, on behalf of the Group of the Party of European Socialists, on the political situation in Slovakia; -B4-0827/97 by Mrs André-Léonard, Mr Fassa, Mr Bertens and Mr Nordmann, on behalf of the Group of the European Liberal, Democratic and Reformist Party, on Algeria.\n",
      "#2: --------------------\n",
      "=> src (len=3941; idx=1683207) => B4-0825/97 by Mrs André-Léonard, Mr Fassa and Mr Bertens, on behalf of the Group of the European Liberal, Democratic and Reformist Party, on the withdrawal of the UN investigation team from Congo; -B4-0832/97 by Mrs Aelvoet and Mr Telkämper, on behalf of the Green Group in the European Parliament, on the UN mission of inquiry in Congo; -B4-0850/97 by Mr Dury and Mr Swoboda, on behalf of the Group of the Party of European Socialists, on the refusal to allow a UN mission of inquiry in the Democratic Republic of Congo; -B4-0856/97 by Mr Hory, Mr Dell'Alba and Mr Dupuis, on behalf of the Group of the European Radical Alliance, on the UN mission of inquiry into human rights violations in the Democratic Republic of the Congo; -B4-0863/97 by Mr Chanterie, Mr Stasi, Mr Tindemans, Mr Verwaerde, Mrs Maij-Weggen and Mrs Oomen-Ruijten, on behalf of the Group of the European People's Party, on the situation in the Democratic Republic of Congo; -B4-0877/97 by Mr Pettinari, Mr Carnero González, Mr Ojala and Mr Sjöstedt, on behalf of the Group of the European United Left - Nordic Green Left, on the UN International mission of inquiry into human rights violations in the former Zaire; -B4-0890/97 by Mr Pasty and Mr Azzolini, on behalf of the Group Union for Europe, on the situation in the Democratic Republic of the Congo; -B4-0830/97 by Mr Bertens and Mrs Larive, on behalf of the Group of the European Liberal, Democratic and Reformist Party, on the European Union's position on the promotion of human rights in China; -B4-0847/97 by Mr Swoboda, on behalf of the Group of the Party of European Socialists, on promotion of human rights in China; -B4-0855/97 by Mr Dupuis, Mr Dell'Alba and Mr Hory, on behalf of the Group of the European Radical Alliance, on the EU's position on the promotion of human rights in China; -B4-0862/97 by Mr McMillan-Scott and Mr Habsburg-Lothringen, on behalf of the Group of the European People's Party, on the EU's position on the promotion of human rights in China; -B4-0872/97 by Mrs Aglietta and Mrs Schroedter, on behalf of the Green Group in the European Parliament, on the promotion of human rights in China; -B4-0828/97 by Mrs Cars and Mr La Malfa, on behalf of the Group of the European Liberal, Democratic and Reformist Party, on the situation in Kosovo; -B4-0837/97 by Mrs Aelvoet, Mr Cohn-Bendit, Mr Gahrton, Mrs Müller and Mr Tamino, on behalf of the Green Group in the European Parliament, on the situation in Kosovo; -B4-0848/97 by Mr Swoboda, on behalf of the Group of the Party of European Socialists, on the situation in Kosovo; -B4-0854/97 by Mr Dupuis and Mr Dell'Alba, on behalf of the Group of the European Radical Alliance, on the situation in Kosovo; -B4-0865/97 by Mrs Oostlander, Mrs Pack, Mr Habsburg-Lothringen, Mrs Maij-Weggen, Mr Posselt and Mrs OomenRuijten, on behalf of the Group of the European People's Party, on the situation in Kosovo; -B4-0878/97 by Mr Manisco, Mr Sjöstedt, Mrs Sierra González and Mr Mohamed Alí, on behalf of the Group of the European United Left - Nordic Green Left, on human rights violations in Kosovo; -B4-0858/97 by Mr Pradier, on behalf of the Group of the European Radical Alliance, on the conditions in Khiam detention centre; -B4-0864/97 by Mr Soulier and Mrs Peijs, on behalf of the Group of the European People's Party, on the situation of Souha Bechara, held in prison in southern Lebanon; -B4-0879/97 by Mr Wurtz, Mrs Castellina, Mr Marset Campos, Mrs Miranda, Mr Ephremidis, Mr Alavanos and Mrs Seppänen, on behalf of the Group of the European United Left - Nordic Green Left, on the release of Souha Bechara; -B4-0849/97 by Mrs Hoff, Mr Wiersma, Mr Bösch and Mr Swoboda, on behalf of the Group of the Party of European Socialists, on the political situation in Slovakia; -B4-0827/97 by Mrs André-Léonard, Mr Fassa, Mr Bertens and Mr Nordmann, on behalf of the Group of the European Liberal, Democratic and Reformist Party, on Algeria.\n",
      "=> trg (len=3384; idx=1840420) => A4-0451/98 by Mr Tannert, on behalf of the Committee on Research, Technological Development and Energy, on the proposal for a Council Decision adopting a specific programme for research, technological development and demonstration on 'Quality of life and management of living resources' (1998 to 2002) (COM(98)0305 - C4-0433/98-98/0177(CNS)); -A4-0452/98 by Mr Malerba, on behalf of the Committee on Research, Technological Development and Energy, on the proposal for a Council Decision adopting a specific programme for research, technological development and demonstration on a 'User-friendly information society' (1998-2002) (COM(98)0305 - C4-0434/98-98/0178(CNS)); -A4-0453/98 by Mr Argyros, on behalf of the Committee on Research, Technological Development and Energy, on the proposal for a Council Decision adopting a specific programme for research, technological development and demonstration on 'Competitive and sustainable growth' (1998 to 2002) (COM(98)0305 - C4-0435/98-98/0179(CNS)); -A4-0454/98 by Mrs Estevan Bolea, on behalf of the Committee on Research, Technological Development and Energy, on the proposal for a Council Decision adopting a specific programme for research, technological development and demonstration on 'Preserving the ecosystem' (1998 to 2002) (COM(98)0305 - C4-0436/98-98/0180(CNS)); -A4-0455/98 by Mr Marset Campos, on behalf of the Committee on Research, Technological Development and Energy, on the proposal for a Council Decision adopting a specific programme for research, technological development and demonstration on 'Confirming the international role of Community research' (1998 to 2002) (COM(98)0305 - C4-0437/98-98/0181(CNS)); -A4-0456/98 by Mrs Plooij-van Gorsel, on behalf of the Committee on Research, Technological Development and Energy, on the proposal for a Council Decision adopting a specific programme for research, technological development and demonstration on 'Promotion of innovation and encouragement of participation of SMEs' (1998 to 2002) (COM(98)0305 - C4-0438/98-98/0182(CNS)); -A4-0457/98 by Mr Lange, on behalf of the Committee on Research, Technological Development and Energy, on the proposal for a Council Decision adopting a specific programme for research, technological development and demonstration on 'Improving the human research potential and the socio-economic knowledge base' (1998-2002) (COM(98)0305 - C4-0439/98-98/0183(CNS)); -A4-0458/98 by Mrs McNally, on behalf of the Committee on Research, Technological Development and Energy, onI. the proposal for a Council Decision adopting a specific programme for research and technological development, including demonstration, to be carried out by means of direct actions for the European Community (1998-2002) by the Joint Research Centre (COM(98)0305 - C4-0440/98-98/0184(CNS))II. the proposal for a Council Decision adopting a specific programme for research and training to be implemented by the Joint Research Centre by means of direct actions for the European Atomic Energy Community (1998-2002) (COM(98)0306 - C4-0431/98-98/0188(CNS)); -A4-0459/98 by Mrs Matikainen-Kallström, on behalf of the Committee on Research, Technological Development and Energy, on the proposal for a Council Decision adopting a specific programme (Euratom) for research and training on 'Preserving the ecosystem' (1998 to 2002) (COM(98)0306 - C4-0430/98-98/0187(CNS)).\n",
      "#3: --------------------\n",
      "=> src (len=3751; idx=1720214) => B4-0050/98 by Mr Pompidou, Mr Scapagnini and Mr Baldi, on behalf of the Group Union for Europe, on cloning of human beings; -B4-0053/98 by Mr Monfils, on behalf of the Group of the European Liberal, Democratic and Reformist Party, on cloning of human beings; -B4-0068/98 by Mrs Green and Mr Cot, on behalf of the Group of the Party of European Socialists, on human cloning; -B4-0074/98 by Mr Liese, Mr C. Casini, Mrs Oomen-Ruijten, Mr Trakatellis and Mr Tindemans, on behalf of the Group of the European People's Party, on cloning of human beings; -B4-0079/98 by Mr Hory, Mr Pradier and Mr Macartney, on behalf of the Group of the European Radical Alliance, on human cloning; -B4-0087/98 by Mr Papayannakis, Mrs González Álvarez, Mr Gutiérrez Díaz, Mrs Ainardi, Mrs Sornosa Martínez, Mr Sjöstedt, Mr Ojala and Mr Marset Campos, on behalf of the Confederal Group of the European United Left - Nordic Green Left, on cloning of human beings; -B4-0102/98 by Mrs Aelvoet, Mrs Roth, Mrs Ahern, Mr Graefe zu Baringdorf, Mrs Hautala, Mr Lannoye, Ms Mckenna, Mrs Schörling, Mr Tamino and Mr Voggenhuber, on behalf of the Green Group in the European Parliament, on the death penalty in the United States; -B4-0059/98 by Mr Habsburg-Lothringen and Mrs Oomen-Ruijten, on behalf of the Group of the European People's Party, on the situation in the Ingusci Republic; -B4-0077/98 by Mr Dupuis, Mr Dell'Alba and Mr Hory, on behalf of the Group of the European Radical Alliance, on the situation in the Ingusci Republic; -B4-0100/98 by Mrs Schroedter and Mr Gahrton, on behalf of the Green Group in the European Parliament, on the return of the Ingusci in the districts of Prigrodni and Vladikavkaz; -B4-0060/98 by Mr Stasi, Mr Tindemans and Mrs Oomen-Ruijten, on behalf of the Group of the European People's Party, on the arrest of Z'ahidi Ngoma (Democratic Republic of Congo); -B4-0072/98 by Mr Azzolini, Mr Pasty and Mr Andrews, on behalf of the Group Union for Europe, on the violation of human rights in the Democratic Republic of Congo; -B4-0078/98 by Mr Macartney, on behalf of the Group of the European Radical Alliance, on the protection of the Aborigine population in Australia; -B4-0089/98 by Mr Papayannakis, Mr Mohamed Alí, Mr Sjöstedt and Mr Ojala, on behalf of the Confederal Group of the European United Left - Nordic Green Left, on the extraction of uranium in the Aborigine territories; -B4-0098/98 by Mrs Aelvoet, Mrs Bloch von Blottnitz, Mr Holm, Mr Lannoye and Ms Mckenna, on behalf of the Green Group in the European Parliament, on the extraction of uranium in Aborigine territories; -B4-0054/98 by Mr Bertens and Mrs Cars, on behalf of the Group of the European Liberal, Democratic and Reformist Party, on the mass executions in South Korea; -B4-0080/98 by Mr Dupuis and Mr Dell'Alba, on behalf of the Group of the European Radical Alliance, on the death sentence in the United States on Karla Faye Tucker; -B4-0103/98 by Mr Manisco, on behalf of the Confederal Group of the European United Left - Nordic Green Left, and Mrs Aglietta and Ms Mckenna, on behalf of the Green Group in the European Parliament, on the situation in the state of Chiapas (Mexico); -B4-0076/98 by Mr Dupuis, Mr Dell'Alba and Mr Hory, on behalf of the Group of the European Radical Alliance, on the human rights situation in China; -B4-0097/98 by Mrs Aglietta, on behalf of the Green Group in the European Parliament, on the appointment of a special representative of the European Union for Tibet; -B4-0035/98 by Mr Watson, Mr Mulder, Mr Fassa and Mr Bertens, on behalf of the Group of the European Liberal, Democratic and Reformist Party, on Kenya; -B4-0084/98 by Mr Hory, on behalf of the Group of the European Radical Alliance, on the result of the election in Kenya.\n",
      "=> trg (len=3007; idx=1649223) => (B4-0468/97) by Mr Cars and others, on behalf of the ELDR Group, on the abolition of the death penalty; -(B4-0487/97) by Mr Soulier and others, on behalf of the PPE Group, on the abolition of the death penalty; -(B4-0497/97) by Mr Dupuis and others, on behalf of the ARE Group, on the abolition of the death penalty; -(B4-0513/97) by Mrs Aglietta and others, on behalf of the V Group, on the abolition of the death penalty; -(B4-0542/97) by Mr Alavanos and others, on behalf of the GUE/NGL Group, on the abolition of the death penalty; -(B4-0511/97) by Mr Kreissl-Dörfler and Mrs Aelvoet, on behalf of the V Group, on human rights in Colombia; -(B4-0538/97) by Mr Puerta and others, on behalf of the GUE/NGL Group, on human rights in Colombia; -(B4-0552/97) by Mrs Lenz and others, on behalf of the PPE Group, on the situation in Colombia; -(B4-0560/97) by Mr Howitt, on behalf of the PSE Group, on human rights in Colombia; -(B4-0485/97) by Mrs Maij-Weggen and others, on behalf of the PPE Group, on the political situation and continuing human-rights abuses in Burma; -(B4-0547/97) by Mr Vinci and others, on behalf of the GUE/NGL Group, on human rights in Burma and Burma's accession to ASEAN; -(B4-0551/97) by Mr Telkämper and Mrs Hautala, on behalf of the V Group, on the situation in Burma; -(B4-0467/97) by Mr De Vries and others, on behalf of the ELDR Group, on the return of refugees and displaced persons in Croatia; -(B4-0510/97) by Mrs Aelvoet and others, on behalf of the V Group, on the situation in Croatia and the implementation of the Dayton Accords; -(B4-0517/97) by Mr Hory and others, on behalf of the ARE Group, on the implementation of the Dayton Agreements in former Yugoslavia; -(B4-0531/97) by Mr Pasty and others, on behalf of the UPE Group, on the implementation of the Dayton Agreements in Croatia and Bosnia; -(B4-0548/97) by Mr Alavanos and others, on behalf of the GUE/NGL Group, on the implementation of the Dayton Agreements in Croatia; -(B4-0553/97) by Mr Oostlander and others, on behalf of the PPE Group, on the conditions for economic recovery and the return of refugees to their homes in the Republic of Bosnia-Herzegovina; -(B4-0559/97) by Mr Wiersma and others, on behalf of the PSE Group, on the development of the peace process in the former Yugoslavia; -(B4-0486/97) by Mr Castagnetti and others, on behalf of the PPE Group, on the 'Island of Hope' in Moscow; -(B4-0515/97) by Mrs Schroedter, on behalf of the V Group, on the fate of street children in Moscow; -(B4-0503/97) by Mrs André-Léonard and Mr Bertens, on behalf of the ELDR Group, on elections in Indonesia; -(B4-0357/97) by Mr Ribeiro and others, on behalf of the GUE/NGL Group, on the situation in Timor and the Indonesian elections; -(B4-0550/97) by Mrs McKenna and Mrs Hautala, on behalf of the V Group, on the situation in Indonesia and East Timor; -(B4-0514/97) by Mrs Schroedter and others, on behalf of the V Group, on obstruction of non-governmental humanitarian relief organizations in Belarus.\n",
      "\n",
      "(Longest) Dev dataset: ********************\n",
      "#1: --------------------\n",
      "=> src (len=723; idx=1866) => The fall in the economic activity has generated, until November, a constant increase of the unemployment in the state, according to the National Institute of Statistics and Geography, the unemployment state rate during the first three quarters of the year registered an accelerated growth, from January to March 55.053 Sinaloa habitants were unemployed, with a rate of 4.53 percent of the economically active population for the second quarter, the rate became 5.28 percent, and between July and September the average continued to increase to 6.19 percent, a rate that in terms of the number of people represents more than 74.000 of unemployed Sinaloa habitants, an increase compared to the first half of 18.969 individuals.\n",
      "=> trg (len=723; idx=1866) => The fall in the economic activity has generated, until November, a constant increase of the unemployment in the state, according to the National Institute of Statistics and Geography, the unemployment state rate during the first three quarters of the year registered an accelerated growth, from January to March 55.053 Sinaloa habitants were unemployed, with a rate of 4.53 percent of the economically active population for the second quarter, the rate became 5.28 percent, and between July and September the average continued to increase to 6.19 percent, a rate that in terms of the number of people represents more than 74.000 of unemployed Sinaloa habitants, an increase compared to the first half of 18.969 individuals.\n",
      "#2: --------------------\n",
      "=> src (len=628; idx=2314) => With the result obtained last night in Cartagena, where Miss Atlantic won the crown and scepter, the department counts with 14 Princess titles and Melina joins the legion of women of Valley of Cauca who have been close to the crown but were proclaimed princesses, among them Miriam Ospina Benoit (1947), Clara Borrero Dominguez (1949), Patricia Bellini Ayala (1979), Lorena Álvarez (1981), Rose Mary Alzate (1983), Olga Maria Arenas (1987), Leila Blanque (1988), Monica Evers (1989), Maria Consuela Pinedo (1990), Diana Isabel Romero (1993), Giselle Aljure Garcés (2000), Catalina Giraldo (2007), Stephanie Garcés Aljure (2008).\n",
      "=> trg (len=628; idx=2314) => With the result obtained last night in Cartagena, where Miss Atlantic won the crown and scepter, the department counts with 14 Princess titles and Melina joins the legion of women of Valley of Cauca who have been close to the crown but were proclaimed princesses, among them Miriam Ospina Benoit (1947), Clara Borrero Dominguez (1949), Patricia Bellini Ayala (1979), Lorena Álvarez (1981), Rose Mary Alzate (1983), Olga Maria Arenas (1987), Leila Blanque (1988), Monica Evers (1989), Maria Consuela Pinedo (1990), Diana Isabel Romero (1993), Giselle Aljure Garcés (2000), Catalina Giraldo (2007), Stephanie Garcés Aljure (2008).\n",
      "#3: --------------------\n",
      "=> src (len=483; idx=1936) => In addition, the total count of the vote received in all boxes of the election may take place when there is an indication that the difference between the alleged candidate winner of the election in question and the one who has obtained the second place in the voting, is equal to or less than one percentage point, as long as at the beginning of the session there is a request of the representative of the party and/or coalition that nominated the second of the mentioned candidates.\n",
      "=> trg (len=434; idx=1881) => Against the backdrop of economic downturn, the state government asked in July during the state congress, the approval of a credit of 3 billion pesos, which would be for the investment in infrastructure projects in 18 municipalities, in order to reactivate the economy, the local congressional approval was for a total of 2.600 million pesos, and until November no benefits of the debt were observed in any sector of the state economy.\n",
      "\n",
      "(Longest) Test dataset: ********************\n",
      "#1: --------------------\n",
      "=> src (len=507; idx=1326) => Israel's current prime minister, Netanyahu 'the hawk', is a typical example of a fascist politician, loyal to the international bankers, who does everything to instigate war with Iran, which would, due to its membership in the Shanghai Cooperation Organisation (China, India, Russia, Pakistan, ...) lead to a greater threat of global conflict, and through its control of the Hormuz Strait, where 20% of the world's oil must sail (the channel is only 2 miles wide), to the destruction of the world's economy.\n",
      "=> trg (len=503; idx=1316) => To facilitate the inception of the Second World War, they allowed bankers and politicians to create a latent conflict situation by saddling Germany with huge war reparations, thereby making a radicalist example of the impoverished masses, it remained only to introduce a sufficiently convincing culprit and a leader with a simple solution, while also creating a multi-racial Czechoslovakia with a strong German minority to play, and indeed did, the role of a fifth colony, once the war had been ignited.\n",
      "#2: --------------------\n",
      "=> src (len=503; idx=1316) => To facilitate the inception of the Second World War, they allowed bankers and politicians to create a latent conflict situation by saddling Germany with huge war reparations, thereby making a radicalist example of the impoverished masses, it remained only to introduce a sufficiently convincing culprit and a leader with a simple solution, while also creating a multi-racial Czechoslovakia with a strong German minority to play, and indeed did, the role of a fifth colony, once the war had been ignited.\n",
      "=> trg (len=507; idx=1326) => Israel's current prime minister, Netanyahu 'the hawk', is a typical example of a fascist politician, loyal to the international bankers, who does everything to instigate war with Iran, which would, due to its membership in the Shanghai Cooperation Organisation (China, India, Russia, Pakistan, ...) lead to a greater threat of global conflict, and through its control of the Hormuz Strait, where 20% of the world's oil must sail (the channel is only 2 miles wide), to the destruction of the world's economy.\n",
      "#3: --------------------\n",
      "=> src (len=478; idx=1279) => Bribery and corruption were rife and unhindered, and the people would vote for a result which had been bought\" ...\"people with principles did not run for office, so on one occasion the whole debacle meant the state went eight months without consuls..\" ..\"There was actually talk about the only answer to this terrible situation being autocracy, and an energetic man should be elected.\" Appian had Pompei in mind, but it was Cesar who changed democracy for autocracy permanently.\n",
      "=> trg (len=478; idx=1279) => Bribery and corruption were rife and unhindered, and the people would vote for a result which had been bought\" ...\"people with principles did not run for office, so on one occasion the whole debacle meant the state went eight months without consuls..\" ..\"There was actually talk about the only answer to this terrible situation being autocracy, and an energetic man should be elected.\" Appian had Pompei in mind, but it was Cesar who changed democracy for autocracy permanently.\n",
      "\n"
     ]
    }
   ],
   "source": [
    "n=3\n",
    "print(\"Shortest: \" + \"#\"*20)\n",
    "print(\"(Shortest) Train dataset: \" + \"*\"*20)\n",
    "view_lengths(train_src, indices=train_sort_len_idx[:n])\n",
    "\n",
    "print(\"(Shortest) Dev dataset: \" + \"*\"*20)\n",
    "view_lengths(dev_src, indices=dev_sort_len_idx[:n])\n",
    "\n",
    "print(\"(Shortest) Test dataset: \" + \"*\"*20)\n",
    "view_lengths(test_src, indices=test_sort_len_idx[:n])\n",
    "\n",
    "print(\"Longest: \" + \"#\"*20)\n",
    "print(\"(Longest) Train dataset: \" + \"*\"*20)\n",
    "view_lengths(train_src, indices=train_sort_len_idx[::-1][:n])\n",
    "\n",
    "print(\"(Longest) Dev dataset: \" + \"*\"*20)\n",
    "view_lengths(dev_src, indices=dev_sort_len_idx[::-1][:n])\n",
    "\n",
    "print(\"(Longest) Test dataset: \" + \"*\"*20)\n",
    "view_lengths(test_src, indices=test_sort_len_idx[::-1][:n])\n",
    "\n"
   ],
   "metadata": {
    "collapsed": false,
    "pycharm": {
     "name": "#%%\n"
    }
   }
  },
  {
   "cell_type": "code",
   "execution_count": 32,
   "metadata": {
    "pycharm": {
     "name": "#%%\n"
    }
   },
   "outputs": [],
   "source": [
    "# Get lengths\n",
    "tr_src_len = train_lenghts[:, 0]\n",
    "tr_trg_len = train_lenghts[:, 1]\n",
    "dev_src_len = dev_lenghts[:, 0]\n",
    "dev_trg_len = dev_lenghts[:, 1]\n",
    "ts_src_len = test_lenghts[:, 0]\n",
    "ts_trg_len = test_lenghts[:, 1]\n",
    "\n",
    "# Pair data and labels\n",
    "h_data = [tr_src_len, tr_trg_len, dev_src_len, dev_trg_len, ts_src_len, ts_trg_len]\n",
    "h_labels = ['tr_src_len', 'tr_trg_len', 'dev_src_len', 'dev_trg_len', 'ts_src_len', 'ts_trg_len']"
   ]
  },
  {
   "cell_type": "code",
   "execution_count": 33,
   "metadata": {
    "pycharm": {
     "name": "#%%\n"
    }
   },
   "outputs": [
    {
     "data": {
      "text/plain": "<Figure size 720x720 with 4 Axes>",
      "image/png": "[encoded data removed]"
     },
     "metadata": {
      "needs_background": "light"
     },
     "output_type": "display_data"
    }
   ],
   "source": [
    "def get_hist(ax, data, labels, title, bins=100):\n",
    "    # Draw the plot\n",
    "    ax.hist(data, bins=bins, density=True, label=labels)\n",
    "\n",
    "    # Title and labels\n",
    "    ax.set_title(title)\n",
    "    ax.set_xlabel(\"Lengths\")\n",
    "    ax.set_ylabel(\"Frenquency (normed)\")\n",
    "    ax.legend()\n",
    "\n",
    "\n",
    "plt.rcParams['figure.figsize'] = [10, 10]\n",
    "\n",
    "fig, axs = plt.subplots(4)\n",
    "get_hist(axs[0], h_data, h_labels, f\"Histogram of Train+Dev+Test\")\n",
    "get_hist(axs[1], h_data[0:2], h_labels[0:2], f\"Histogram of Train\")\n",
    "get_hist(axs[2], h_data[2:4], h_labels[2:4], f\"Histogram of Dev\")\n",
    "get_hist(axs[3], h_data[4:6], h_labels[4:6], f\"Histogram of Test\")\n",
    "\n",
    "plt.rcParams['figure.figsize'] = [10, 10]\n",
    "plt.subplots_adjust(hspace=1.0)"
   ]
  },
  {
   "cell_type": "code",
   "execution_count": 34,
   "outputs": [
    {
     "name": "stdout",
     "output_type": "stream",
     "text": [
      "Train => Mean length: src=149 | trg=162\n",
      "Dev => Mean length: src=126 | trg=139\n",
      "Test => Mean length: src=111 | trg=124\n"
     ]
    }
   ],
   "source": [
    "# Get means\n",
    "train_mean_len = train_lenghts.mean(axis=0).round().astype(int)\n",
    "dev_mean_len = dev_lenghts.mean(axis=0).round().astype(int)\n",
    "test_mean_len = test_lenghts.mean(axis=0).round().astype(int)\n",
    "\n",
    "print(f\"Train => Mean length: src={train_mean_len[0]} | trg={train_mean_len[1]}\")\n",
    "print(f\"Dev => Mean length: src={dev_mean_len[0]} | trg={dev_mean_len[1]}\")\n",
    "print(f\"Test => Mean length: src={test_mean_len[0]} | trg={test_mean_len[1]}\")"
   ],
   "metadata": {
    "collapsed": false,
    "pycharm": {
     "name": "#%%\n"
    }
   }
  },
  {
   "cell_type": "code",
   "execution_count": 35,
   "outputs": [
    {
     "name": "stdout",
     "output_type": "stream",
     "text": [
      "Percentile Train:\n",
      "- SRC (1-90%): 15-266\n",
      "- TRG (1-90%): 15-289\n",
      "Percentile Dev:\n",
      "- SRC (1-90%): 14-230\n",
      "- TRG (1-90%): 16-253\n",
      "Percentile Test:\n",
      "- SRC (1-90%): 15-197\n",
      "- TRG (1-90%): 14-222\n"
     ]
    }
   ],
   "source": [
    "\n",
    "def get_percentiles(src_trg_lengths, lower_q, upper_q):\n",
    "    p = np.percentile(src_trg_lengths,  [lower_q, upper_q], axis=0)\n",
    "    (lb_tr_src_len, lb_tr_trg_len), (ub_tr_src_len, ub_tr_trg_len) = p\n",
    "\n",
    "    print(f\"- SRC ({lower_q}-{upper_q}%): {int(lb_tr_src_len)}-{int(ub_tr_src_len)}\")\n",
    "    print(f\"- TRG ({lower_q}-{upper_q}%): {int(lb_tr_trg_len)}-{int(ub_tr_trg_len)}\")\n",
    "\n",
    "    return p\n",
    "\n",
    "lower_q, upper_q = (1, 90)  # Percentage\n",
    "print(\"Percentile Train:\")\n",
    "tr_p = get_percentiles(train_lenghts, *(lower_q, upper_q))\n",
    "print(\"Percentile Dev:\")\n",
    "dev_p = get_percentiles(dev_lenghts, *(lower_q, upper_q))\n",
    "print(\"Percentile Test:\")\n",
    "ts_p = get_percentiles(test_lenghts, *(lower_q, upper_q))\n"
   ],
   "metadata": {
    "collapsed": false,
    "pycharm": {
     "name": "#%%\n"
    }
   }
  },
  {
   "cell_type": "code",
   "execution_count": 36,
   "outputs": [
    {
     "name": "stdout",
     "output_type": "stream",
     "text": [
      "Train => Sentences with no words: SRC=1 | TRG=1\n",
      "Dev => Sentences with no words: SRC=1 | TRG=1\n",
      "Test => Sentences with no words: SRC=1 | TRG=1\n"
     ]
    }
   ],
   "source": [
    "tr_no_sent = np.sum(train_lenghts == 0, axis=0).astype(int)\n",
    "dev_no_sent = np.sum(dev_lenghts == 0, axis=0).astype(int)\n",
    "ts_no_sent = np.sum(test_lenghts == 0, axis=0).astype(int)\n",
    "\n",
    "print(f\"Train => Sentences with no words: SRC={tr_no_sent[0]} | TRG={tr_no_sent[1]}\")\n",
    "print(f\"Dev => Sentences with no words: SRC={dev_no_sent[0]} | TRG={dev_no_sent[1]}\")\n",
    "print(f\"Test => Sentences with no words: SRC={ts_no_sent[0]} | TRG={ts_no_sent[1]}\")"
   ],
   "metadata": {
    "collapsed": false,
    "pycharm": {
     "name": "#%%\n"
    }
   }
  },
  {
   "cell_type": "markdown",
   "source": [],
   "metadata": {
    "collapsed": false,
    "pycharm": {
     "name": "#%% md\n"
    }
   }
  }
 ],
 "metadata": {
  "kernelspec": {
   "display_name": "Python 3",
   "language": "python",
   "name": "python3"
  },
  "language_info": {
   "codemirror_mode": {
    "name": "ipython",
    "version": 3
   },
   "file_extension": ".py",
   "mimetype": "text/x-python",
   "name": "python",
   "nbconvert_exporter": "python",
   "pygments_lexer": "ipython3",
   "version": "3.8.5"
  }
 },
 "nbformat": 4,
 "nbformat_minor": 1
}