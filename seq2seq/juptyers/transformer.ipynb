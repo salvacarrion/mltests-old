{
 "cells": [
  {
   "cell_type": "code",
   "execution_count": 14,
   "metadata": {
    "pycharm": {
     "name": "#%%\n"
    },
    "slideshow": {
     "slide_type": "slide"
    }
   },
   "outputs": [],
   "source": [
    "import sys\n",
    "sys.path.append(\"..\")\n",
    "\n",
    "import torch\n",
    "import torch.nn as nn\n",
    "import torch.optim as optim\n",
    "\n",
    "from torchtext import data, datasets\n",
    "import pandas as pd\n",
    "from tqdm import tqdm\n",
    "\n",
    "import spacy\n",
    "import numpy as np\n",
    "\n",
    "import random\n",
    "import math\n",
    "import time\n",
    "\n",
    "from seq2seq import utils, helpers\n",
    "import re\n",
    "import os\n",
    "import pickle"
   ]
  },
  {
   "cell_type": "code",
   "execution_count": 15,
   "metadata": {
    "pycharm": {
     "name": "#%%\n"
    }
   },
   "outputs": [],
   "source": [
    "DATASET_PATH = f\"../.data/miguel\""
   ]
  },
  {
   "cell_type": "markdown",
   "metadata": {},
   "source": [
    "**Load dataset**"
   ]
  },
  {
   "cell_type": "code",
   "execution_count": 16,
   "metadata": {
    "pycharm": {
     "name": "#%%\n"
    }
   },
   "outputs": [],
   "source": [
    "def load_dataset(filename_src, filename_trg):\n",
    "    file_src = open(filename_src, encoding='utf-8').read().split('\\n')\n",
    "    file_trg = open(filename_trg, encoding='utf-8').read().split('\\n')\n",
    "    assert len(file_src) == len(file_trg)\n",
    "    return file_src, file_trg"
   ]
  },
  {
   "cell_type": "code",
   "execution_count": 17,
   "metadata": {
    "pycharm": {
     "name": "#%%\n"
    }
   },
   "outputs": [],
   "source": [
    "(train_src, train_trg) = load_dataset(filename_src=f\"{DATASET_PATH}/europarl.en\", filename_trg=f\"{DATASET_PATH}/europarl.es\")\n",
    "(dev_src, dev_trg) = load_dataset(filename_src=f\"{DATASET_PATH}/dev.en\", filename_trg=f\"{DATASET_PATH}/dev.es\")\n",
    "(test_src, test_trg) = load_dataset(filename_src=f\"{DATASET_PATH}/test.en\", filename_trg=f\"{DATASET_PATH}/test.es\")\n"
   ]
  },
  {
   "cell_type": "markdown",
   "metadata": {},
   "source": [
    "**Preview dataset**"
   ]
  },
  {
   "cell_type": "code",
   "execution_count": 30,
   "metadata": {
    "pycharm": {
     "name": "#%%\n"
    }
   },
   "outputs": [],
   "source": [
    "def view_raw(src_raw, trg_raw, lines=5):\n",
    "    for i, (src, trg) in enumerate(zip(src_raw, trg_raw)):\n",
    "        print(f\"#{i+1}: \" + \"-\"*20)\n",
    "        print(f\"src => {src}\")\n",
    "        print(f\"trg => {trg}\")\n",
    "        if i+1 == lines:\n",
    "            print(\"\")\n",
    "            break"
   ]
  },
  {
   "cell_type": "code",
   "execution_count": 31,
   "metadata": {
    "pycharm": {
     "name": "#%%\n"
    }
   },
   "outputs": [
    {
     "name": "stdout",
     "output_type": "stream",
     "text": [
      "Train dataset: ********************\n",
      "#1: --------------------\n",
      "src => Resumption of the session\n",
      "trg => Reanudación del período de sesiones\n",
      "#2: --------------------\n",
      "src => I declare resumed the session of the European Parliament adjourned on Friday 17 December 1999, and I would like once again to wish you a happy new year in the hope that you enjoyed a pleasant festive period.\n",
      "trg => Declaro reanudado el período de sesiones del Parlamento Europeo, interrumpido el viernes 17 de diciembre pasado, y reitero a Sus Señorías mi deseo de que hayan tenido unas buenas vacaciones.\n",
      "#3: --------------------\n",
      "src => Although, as you will have seen, the dreaded 'millennium bug' failed to materialise, still the people in a number of countries suffered a series of natural disasters that truly were dreadful.\n",
      "trg => Como todos han podido comprobar, el gran \"efecto del año 2000\" no se ha producido. En cambio, los ciudadanos de varios de nuestros países han sido víctimas de catástrofes naturales verdaderamente terribles.\n",
      "#4: --------------------\n",
      "src => You have requested a debate on this subject in the course of the next few days, during this part-session.\n",
      "trg => Sus Señorías han solicitado un debate sobre el tema para los próximos días, en el curso de este período de sesiones.\n",
      "#5: --------------------\n",
      "src => In the meantime, I should like to observe a minute' s silence, as a number of Members have requested, on behalf of all the victims concerned, particularly those of the terrible storms, in the various countries of the European Union.\n",
      "trg => A la espera de que se produzca, de acuerdo con muchos colegas que me lo han pedido, pido que hagamos un minuto de silencio en memoria de todas las víctimas de las tormentas, en los distintos países de la Unión Europea afectados.\n",
      "\n",
      "Dev dataset: ********************\n",
      "#1: --------------------\n",
      "src => Parliament Does Not Support Amendment Freeing Tymoshenko\n",
      "trg => El parlamento no apoyó una enmienda para liberar a Tymoshenko\n",
      "#2: --------------------\n",
      "src => Today, the Ukraine parliament dismissed, within the Code of Criminal Procedure amendment, the motion to revoke an article based on which the opposition leader, Yulia Tymoshenko, was sentenced.\n",
      "trg => El Parlamento de Ucrania ha rechazado hoy la propuesta de derogar la enmienda de la sección del Código Penal en la que se condena a la líder de la oposición Yulia Tymoshenko.\n",
      "#3: --------------------\n",
      "src => The amendment that would lead to freeing the imprisoned former Prime Minister was revoked during second reading of the proposal for mitigation of sentences for economic offences.\n",
      "trg => La modificación abriría las puertas a la excarcelación de la exprimer ministra, pero los parlamentarios rechazaron la propuesta de reducir las penas por delitos económicos en la segunda lectura.\n",
      "#4: --------------------\n",
      "src => In October, Tymoshenko was sentenced to seven years in prison for entering into what was reported to be a disadvantageous gas deal with Russia.\n",
      "trg => En octubre, Tymoshenko fue sentenciada a siete años de prisión por la presunta firma de un acuerdo con Rusia desventajoso para Ucrania sobre compra de gas natural.\n",
      "#5: --------------------\n",
      "src => The verdict is not yet final; the court will hear Tymoshenko's appeal in December.\n",
      "trg => La sentencia aún no es firme, el tribunal de apelación tiene la obligación de revisarla en diciembre.\n",
      "\n",
      "Test dataset: ********************\n",
      "#1: --------------------\n",
      "src => A Republican strategy to counter the re-election of Obama \n",
      "trg => Una estrategia republicana para obstaculizar la reelección de Obama\n",
      "#2: --------------------\n",
      "src => Republican leaders justified their policy by the need to combat electoral fraud.\n",
      "trg => Los dirigentes republicanos justificaron su política por la necesidad de luchar contra el fraude electoral.\n",
      "#3: --------------------\n",
      "src => However, the Brennan Centre considers this a myth, stating that electoral fraud is rarer in the United States than the number of people killed by lightning.\n",
      "trg => Ahora bien, el Centro Brennan considera esto último un mito y afirma que el fraude electoral es menos frecuente en los Estados Unidos que el número de personas que mueren a causa de la caída de un rayo.\n",
      "#4: --------------------\n",
      "src => Indeed, Republican lawyers identified only 300 cases of electoral fraud in the United States in a decade.\n",
      "trg => De hecho, los abogados republicanos no han encontrado más que 300 casos de fraude electoral en los Estados Unidos en diez años.\n",
      "#5: --------------------\n",
      "src => One thing is certain: these new provisions will have a negative impact on voter turn-out.\n",
      "trg => Una cosa es cierta: esas nuevas disposiciones afectarán negativamente a la tasa de participación.\n",
      "\n"
     ]
    }
   ],
   "source": [
    "print(\"Train dataset: \" + \"*\"*20)\n",
    "view_raw(train_src, train_trg)\n",
    "\n",
    "print(\"Dev dataset: \" + \"*\"*20)\n",
    "view_raw(dev_src, dev_trg)\n",
    "\n",
    "print(\"Test dataset: \" + \"*\"*20)\n",
    "view_raw(test_src, test_trg)"
   ]
  },
  {
   "cell_type": "markdown",
   "source": [
    "**Dataset stats**"
   ],
   "metadata": {
    "collapsed": false
   }
  },
  {
   "cell_type": "code",
   "execution_count": 32,
   "metadata": {
    "pycharm": {
     "name": "#%%\n"
    }
   },
   "outputs": [],
   "source": [
    "train_lenghts = np.array([(len(src), len(trg)) for src, trg in zip(train_src, train_trg)])\n",
    "dev_lenghts = np.array([(len(src), len(trg)) for src, trg in zip(dev_src, dev_trg)])\n",
    "test_lenghts = np.array([(len(src), len(trg)) for src, trg in zip(test_src, test_trg)])\n"
   ]
  },
  {
   "cell_type": "code",
   "execution_count": 33,
   "outputs": [
    {
     "name": "stdout",
     "output_type": "stream",
     "text": [
      "Train => Mean length: src=149 | trg=162\n",
      "Dev => Mean length: src=126 | trg=139\n",
      "Test => Mean length: src=111 | trg=124\n"
     ]
    }
   ],
   "source": [
    "train_mean_len = train_lenghts.mean(axis=0).round().astype(int)\n",
    "dev_mean_len = dev_lenghts.mean(axis=0).round().astype(int)\n",
    "test_mean_len = test_lenghts.mean(axis=0).round().astype(int)\n",
    "\n",
    "print(f\"Train => Mean length: src={train_mean_len[0]} | trg={train_mean_len[1]}\")\n",
    "print(f\"Dev => Mean length: src={dev_mean_len[0]} | trg={dev_mean_len[1]}\")\n",
    "print(f\"Test => Mean length: src={test_mean_len[0]} | trg={test_mean_len[1]}\")"
   ],
   "metadata": {
    "collapsed": false,
    "pycharm": {
     "name": "#%%\n"
    }
   }
  },
  {
   "cell_type": "code",
   "execution_count": 37,
   "outputs": [
    {
     "name": "stdout",
     "output_type": "stream",
     "text": [
      "Train => Range length: src=0-3950 | trg=0-4278\n",
      "Dev => Range length: src=0-723 | trg=0-728\n",
      "Test => Range length: src=0-507 | trg=0-705\n"
     ]
    }
   ],
   "source": [
    "train_min_len = train_lenghts.min(axis=0).astype(int)\n",
    "dev_min_len = dev_lenghts.min(axis=0).astype(int)\n",
    "test_min_len = test_lenghts.min(axis=0).astype(int)\n",
    "\n",
    "train_max_len = train_lenghts.max(axis=0).astype(int)\n",
    "dev_max_len = dev_lenghts.max(axis=0).astype(int)\n",
    "test_max_len = test_lenghts.max(axis=0).astype(int)\n",
    "\n",
    "\n",
    "print(f\"Train => Range length: src={train_min_len[0]}-{train_max_len[0]} | trg={train_min_len[1]}-{train_max_len[1]}\")\n",
    "print(f\"Dev => Range length: src={dev_min_len[0]}-{dev_max_len[0]} | trg={dev_min_len[1]}-{dev_max_len[1]}\")\n",
    "print(f\"Test => Range length: src={test_min_len[0]}-{test_max_len[0]} | trg={test_min_len[1]}-{test_max_len[1]}\")\n"
   ],
   "metadata": {
    "collapsed": false,
    "pycharm": {
     "name": "#%%\n"
    }
   }
  },
  {
   "cell_type": "code",
   "execution_count": null,
   "outputs": [],
   "source": [],
   "metadata": {
    "collapsed": false,
    "pycharm": {
     "name": "#%%\n"
    }
   }
  }
 ],
 "metadata": {
  "kernelspec": {
   "display_name": "Python 3",
   "language": "python",
   "name": "python3"
  },
  "language_info": {
   "codemirror_mode": {
    "name": "ipython",
    "version": 3
   },
   "file_extension": ".py",
   "mimetype": "text/x-python",
   "name": "python",
   "nbconvert_exporter": "python",
   "pygments_lexer": "ipython3",
   "version": "3.8.5"
  }
 },
 "nbformat": 4,
 "nbformat_minor": 1
}