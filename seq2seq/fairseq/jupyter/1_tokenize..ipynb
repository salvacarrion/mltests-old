{
 "cells": [
  {
   "cell_type": "code",
   "execution_count": null,
   "outputs": [],
   "source": [
    "import numpy as np\n",
    "from scipy import stats\n",
    "from datasets import load_dataset\n",
    "\n",
    "import matplotlib.pyplot as plt\n",
    "import seaborn as sns\n",
    "sns.set()\n",
    "\n",
    "from seq2seq.mt.transformer_sys import LitTokenizer"
   ],
   "metadata": {
    "collapsed": false,
    "pycharm": {
     "name": "#%%\n"
    }
   }
  },
  {
   "cell_type": "markdown",
   "source": [
    "**Set constants**"
   ],
   "metadata": {
    "collapsed": false
   }
  },
  {
   "cell_type": "code",
   "execution_count": null,
   "outputs": [],
   "source": [
    "DATASET_PATH = f\"../../.data/miguel\"\n",
    "SRC_LANG, TRG_LANG = (\"en\", \"es\")\n",
    "\n",
    "SRC_VOCAB_SIZE=16000  # I like multiples of 2 (8k, 16k, 32k...)\n",
    "TRG_VOCAB_SIZE=16000\n",
    "SRC_MIN_FREQUENCY=3   # 2 minimum\n",
    "TRG_MIN_FREQUENCY=3"
   ],
   "metadata": {
    "collapsed": false,
    "pycharm": {
     "name": "#%%\n"
    }
   }
  },
  {
   "cell_type": "markdown",
   "source": [
    "## Define Tokenizer"
   ],
   "metadata": {
    "collapsed": false
   }
  },
  {
   "cell_type": "code",
   "execution_count": null,
   "outputs": [],
   "source": [
    "# Define Tokenizer\n",
    "# Do not use padding here. Datasets are preprocessed before batching\n",
    "tokenizer = LitTokenizer(padding=False, truncation=False)"
   ],
   "metadata": {
    "collapsed": false,
    "pycharm": {
     "name": "#%%\n"
    }
   }
  },
  {
   "cell_type": "code",
   "execution_count": null,
   "outputs": [],
   "source": [
    "print(f\"SRC default tokens: {tokenizer.src_tokenizer.get_vocab()}\")\n",
    "print(f\"TRG default tokens: {tokenizer.trg_tokenizer.get_vocab()}\")"
   ],
   "metadata": {
    "collapsed": false,
    "pycharm": {
     "name": "#%%\n"
    }
   }
  },
  {
   "cell_type": "markdown",
   "source": [
    "### Train/Load/Save Tokenizer"
   ],
   "metadata": {
    "collapsed": false
   }
  },
  {
   "cell_type": "markdown",
   "source": [
    "**Train vocabulary:**"
   ],
   "metadata": {
    "collapsed": false
   }
  },
  {
   "cell_type": "code",
   "execution_count": null,
   "outputs": [],
   "source": [
    "# Train tokenizer\n",
    "vocab_file = \"train\"\n",
    "src_files = [f\"{DATASET_PATH}/preprocessed/{vocab_file}_{SRC_LANG}.csv\"]\n",
    "trg_files = [f\"{DATASET_PATH}/preprocessed/{vocab_file}_{TRG_LANG}.csv\"]\n",
    "tokenizer.train_vocabs(src_files, trg_files,\n",
    "                       src_vocab_size=SRC_VOCAB_SIZE, trg_vocab_size=TRG_VOCAB_SIZE,\n",
    "                       src_min_frequency=SRC_MIN_FREQUENCY, trg_min_frequency=TRG_MIN_FREQUENCY)\n",
    "print(\"Training done!\")\n"
   ],
   "metadata": {
    "collapsed": false,
    "pycharm": {
     "name": "#%%\n"
    }
   }
  }
 ],
 "metadata": {
  "kernelspec": {
   "display_name": "Python 3",
   "language": "python",
   "name": "python3"
  },
  "language_info": {
   "codemirror_mode": {
    "name": "ipython",
    "version": 3
   },
   "file_extension": ".py",
   "mimetype": "text/x-python",
   "name": "python",
   "nbconvert_exporter": "python",
   "pygments_lexer": "ipython3",
   "version": "3.7.4"
  }
 },
 "nbformat": 4,
 "nbformat_minor": 1
}